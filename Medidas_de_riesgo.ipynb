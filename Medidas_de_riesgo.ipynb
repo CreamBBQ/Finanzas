{
 "cells": [
  {
   "cell_type": "markdown",
   "metadata": {},
   "source": [
    "# Medidas de riesgo"
   ]
  },
  {
   "cell_type": "markdown",
   "metadata": {},
   "source": [
    "#### Apuesta actuarialmente justa: \n",
    "dada una riqueza inicial $w_0$ se toma una apuesta donde los posibles resultados son $h_1 < 0$ con probabilidad p, $h_2  > 0$ con probabilidad (1-p). \n",
    "Una apuesta es acturialmente justa si el valor esperado de su pago es cero, es decir, $$ h_1p+h_2(1-p)=0 $$\n",
    "\n",
    "#### Aversión al riesgo: \n",
    "Se dice que un individio es averso al riesgo si este no está dispuesto a aceptar una apuesta acturialmente justa, es decir, obtiene más utilidad con su riqueza inicial que con la utilidad esperada por aceptar la apuesta. Esto es: $$U(w_0) \\geq U(w_0+h_1)p+U(w_0+h_2)(1-p) $$\n",
    "\n",
    "Notar que de la definición de apuesta actuarialmente justa se sige: \n",
    "\n",
    "$$h_1 p+h_2-h_2 p=0$$\n",
    "$$h_1 p+h_2-h_2 P+w_0=w_0$$\n",
    "$$h_1 p+h_2-h_2 p+w_0+w_0 P-w_0 P=w_0$$\n",
    "$$\\left(h_1+w_0\\right) p+h_2(1-p)+w_0(1-p)=w_0$$\n",
    "$$\\left(h_1+w_0\\right) p+\\left(h_2+w_0\\right)(1-p)=w_0$$\n",
    "\n",
    "Por lo tanto las preferencias del individuo para con la apuesta se pueden reescribir de la sigueinte forma, que es conocida como la desigualdad de Jensen: \n",
    "\n",
    "$$U(\\left(h_1+w_0\\right)p+\\left(h_2+w_0\\right)(1-p)) \\geq U(w_0+h_1)p+U(w_0+h_2)(1-p)$$\n",
    "\n",
    "Esta relación demuestra que aversión al riesgo implica una función cóncava (neutralidad al riesgo será una función de utilidad lineal, mientras que amor al riesgo implicará una función de utilidad convexa). \n",
    "\n",
    "#### Riqueza ex ante: \n",
    "Definamos la variable aleatoria $\\hat{w}=w_0+h$, donde h es la variable aleatoria definida anteriormente. De esa forma la desigualdad de Jensen puede ser expresada también como : \n",
    "\n",
    "$$U(E[\\hat{w}]) \\geq E[U(\\hat{w})]$$\n",
    "\n",
    "La concavidad implica que la utilidad marginal de la riqueza es decreciente. Entonces para cada nivel de riqueza la utilidad adicional ganada por una unidad de riqueza es menor (en valor absoluto) que la utildad perdida si se quita esa misma unidad. Por lo tanto, para un agente averso al riesgo no vale la pena tomar riego de entrar en una apuesta actuarialmente justa. \n",
    "\n"
   ]
  },
  {
   "cell_type": "markdown",
   "metadata": {},
   "source": [
    "#### Prima de riesgo: \n",
    "Definimos la prima de riesgo, RP, con respuecto a una loteria como el monto de dinero que un individuo está dispuesto a pagar para evitar (o, en el caso de un amente al riesgo, lo que está dispuesto a pagar por afrontar dicha apuesta) una loteria, es decir, $RP = E[\\hat{w}]-w_{RP}$, donde $w_{RP}$ es la riqueza de certeza equivalente definida como $U(w_{RP})=E[U(\\hat{w})]$. En la siguiente imagen se ven las distintas implicancias que se han ido descripto: \n",
    "\n",
    "![riesgo.png](https://policonomics.com/wp-content/uploads/2016/02/Aversion-al-riesgo-560x240.jpg)"
   ]
  }
 ],
 "metadata": {
  "kernelspec": {
   "display_name": "R",
   "language": "R",
   "name": "ir"
  },
  "language_info": {
   "codemirror_mode": "r",
   "file_extension": ".r",
   "mimetype": "text/x-r-source",
   "name": "R",
   "pygments_lexer": "r",
   "version": "4.2.1"
  },
  "orig_nbformat": 4
 },
 "nbformat": 4,
 "nbformat_minor": 2
}
