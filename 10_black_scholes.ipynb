{
 "cells": [
  {
   "cell_type": "markdown",
   "metadata": {},
   "source": [
    "<center> <h1> MODELO DE BLACK-SCHOLES </h1> </center>"
   ]
  },
  {
   "cell_type": "markdown",
   "metadata": {},
   "source": [
    "#### Derivación del modelo\n",
    "\n",
    "El modelo Black & Scholes (BS) permite hacer el pricing de una opción bajo el supuesto de que el activo subyacente sigue una GBM. Mostramos anteriormente que el valor de una opción depende de determinadas variables (como por ejemplo del stock, del tiempo, etc.) y de ciertos parámetros (como la tasa de interés asumida como constante y la volatilidad). De hecho el precio del derivado se puede escribir como una función que depende de S y de t, teniendo en cuenta que también es una función de los parámetros de interés: \n",
    "\n",
    "$$ c(S, \\space X, \\space T-t,\\space \\sigma_s, \\space r) = c(S, \\space t) $$ \n",
    "\n",
    "(notar que vamos a llamar a cualquier opción con el nombre c. No sé está refiriendo a un call específicamente.)\n",
    "\n",
    "Para hace el pricing (utilizando el principio de no arbitraje) se utiliza la propiedad de que el cambio en el valor de la opción está localmente *perfectamente correlacionado con el valor del activo subyacente*. Esto es quizás el punto más importante en el pricing de una opción pues uno puede construir un portafolio que consista ede una cantidad de opciones y una cantidad de stock *de modo de eliminar totalmente la incertidumbre de ese portafolio*. Ese portafolio sin riesgo debe de pagar la tasa libre de riesgo para que no existan posibilidades de arbitrar el mercado. Por lo tanto se forma un portafolio $Pi$ que tenga una posición long en la opción y una posición short en una cantidad $\\Delta$ en el stock, esto es: \n",
    "\n",
    "$$ \\Pi = c(S,\\space t) - \\Delta S $$ \n",
    "\n",
    "Si el stock sigue una GBM debe ser cierto que: \n",
    "\n",
    "$$ \\dfrac{dS}{S} = \\mu_s dt + \\sigma_s dz $$ \n",
    "\n",
    "El cambio en el valor del portafolio a su vez será: \n",
    "\n",
    "$$ d \\Pi = dc(S, \\space t) - \\Delta d S $$ \n",
    "\n",
    "Y por las propiedades vistas en los procesos estocásticos, sabemos que $d\\Pi$ también sigue una GBM. Así como también es cierto que el call, que depende de S (que sigue un GBM), también seguirá ese proceso. De modo que podemos aplicar lema de Ito para derivar el proceso estocástico del valor de la opción: \n",
    "\n",
    "$$ dc(S, \\space t) = c_t dt + c_S dS + \\dfrac{1}{2}[c_{tt}(dt)^2 + c_{SS}(dS)^2 + 2 C_{tS} (dt)(dS)]$$\n",
    "\n",
    "Recordemos ahora algunas de las implicancias de este tipo de procesos estocásticos: \n",
    "\n",
    "- $(dt)^n \\to 0 $ si $ n > 1$\n",
    "- $(dz)^2 \\to dt $\n",
    "- $(dz)(dt) = \\sqrt{dt}\\epsilon(dt) = (dt)^{\\frac{3}{2}} \\epsilon \\to 0$\n",
    "\n",
    "Con esto en mente podemos concluir que: \n",
    "\n",
    "- $(dt)^2 = 0$\n",
    "- $ c_{ss}(dS)^2 = c_{ss}(\\mu_s (dt)^2 S^2 + 2 \\mu_s \\sigma_s S^2 dt dz + \\sigma_s^2 (dz)^2 S^2) = c_{ss}\\sigma_s^2 dt S^2 $\n",
    "- $(dt)(dS) = (dt) (\\mu_s dt S + \\sigma_s dz S) = \\mu_s S (dt)^2 + \\sigma_s S (dz)(dt) = 0$\n",
    "\n",
    "De modo que el cambio en el valor del call se puede resumir en: \n",
    "\n",
    "$$ dc(S, \\space t) = c_t (dt) + c_S (\\mu_s dt S + \\sigma_s dz S) + \\dfrac{c_{ss}\\sigma_s^2 dt S^2}{2} $$\n",
    "\n",
    "$$ dc(S, \\space t) = \\left(c_t + c_S \\mu_s S + \\dfrac{c_{ss} \\sigma_s^2 S^2}{2}\\right)dt + c_S \\sigma_s S dz $$\n",
    "\n",
    "Por lo tanto, el cambio en el valor del portafolio puede escribirse como: \n",
    "\n",
    "$$ d\\Pi = \\left(c_t + c_S \\mu_S S + \\dfrac{c_{ss} \\sigma_S^2 S^2}{2}\\right)dt + c_S \\sigma_S S dz .- \\Delta (\\mu_S dt S + \\sigma_S dz S) $$\n",
    "\n",
    "$$ d\\Pi = \\left(c_t + c_S \\mu_s S + \\dfrac{c_{ss} \\sigma_s^2 S^2}{2} + \\Delta \\mu_S S\\right)dt + \\left(c_S \\sigma_S  S - \\Delta \\sigma_S  S \\right) dz $$\n",
    "\n",
    "Ahora bien, sabemos que el riesgo de los movimientos en este portafolio están asociados a dz, por lo cual debemos escoger un parámetro $\\Delta$ tal que dz desaparezca y podamos plantear una condición de no arbitraje entre la tasa libre de riesgo y el portafolio antes construido. Resulta evidente en este caso que un $\\Delta = c_{ss}$ anulará el riesgo (este proceso de anulación del riesgo se conoce el la jerga como Delta Hedging).\n",
    "\n",
    "Una vez eliminado el riesgo, el valor del portafolio en el tiempo debe ser igual, por el principio de no arbitraje, a colocar la misma cantidad de dinero en un instrumento con tasa libre de riesgo: \n",
    "\n",
    "$$ \\overbrace{c_t dt + \\dfrac{1}{2}\\sigma_s^2 S^2 c_{ss} dt}^{d\\Pi} = r dt \\overbrace{(c(S, \\space t) - c_S S)}^{\\Pi}$$\n",
    "\n",
    "Si el retorno del portafolio fuese mayor, entonces todos los individuos pedirían préstamos al banco y re-invertirían en este portafolio. Estos movimientos de capitales explotarían potenciales oportunidades de arbitraje, haciendo que finalmente los precios se ajusten eliminando la oportunidad de arbitraje. Si el retorno del portafolio fuese menor el razonamiento es análogo shorteando el portafolio y yendo long en el activo libre de riesgo. \n",
    "\n",
    "Una expresión alternativa de la ecuación de no arbitraje no da la siguiente ecuación diferencial parcial, que su solución es igual al precio del derivado a tiempo t, \n",
    "\n",
    "$$ c_t + \\dfrac{1}{2} \\sigma_S^2 S^2 c_{SS} + r S c_S - rc = 0 $$ \n",
    "\n",
    "Notemos que en esta ecuación no aparece la tendencia del stock ($\\mu_S$) sino que aparece la tasa libre de riesgo (r). Esto no implica que el valor del call no depende del drift del proceso, sino simplemente que no depende en forma directa, sino a través del valor del stock que, claramente, está influido por el su drift. En un mundo de agentes neutrales al riesgo todos los activos crecerían a la misma tasa puesto que no sería necesario compensar mayores riesgos con mayores retornos: cuando los agentes son adversos al riesgo esperaríamos que valores más grandes de $\\sigma$ estén asociados a mayores valores de $\\mu$, es decir, que activos más riesgosos deberían crecer a tasas mayores para poder compensar el aumento del riesgo. Como la ecuación diferencial que debe satisfacer el precio del derivado no depende explícitamente del drift podemos pensar que es posible encontrar dicho precio sin tener información acerca de las preferencia de riesgo que puedan tener los agentes. \n",
    "\n",
    "La *formula de Black & Scholes* es la solución a la ecuación diferencial dadas ciertas condiciones terminales que van a depender del derivado que estemos priceando. Por ejemplo, para un call será: $c(S,\\space T) = máx \\{S-X, 0 \\}$, mientras que para un put será $c(S, \\space T) = máx \\{X-S, 0\\}$. Para que la formula de un precio \"correcto\" también se deben cumplir las  siguientes condiciones: \n",
    "\n",
    "- El subyacente sigue una GBM\n",
    "- La tasa libre de riesgo es conocida \n",
    "- No existen dividendos en el subyacente \n",
    "- El delta hedging es dinámico y continuo \n",
    "- No existen costos de transacción \n",
    "- No existen oportunidades de arbitraje \n",
    "\n",
    "Cuando se cumple todo esto podemos llegar a los siguientes valores para un call (llamémosle C) y para un put (llamémosle P): \n",
    "\n",
    "$$ C(S, \\space T-t) = SN(d_1) - Xe^{-r(T-t)}N(d_2) $$ \n",
    "\n",
    "$$ P(S, \\space T-t) = -SN(-d_1) + Xe^{-r(T-t)}N(-d_2) $$\n",
    "\n",
    "Donde: \n",
    "\n",
    "$ d_1 = \\dfrac{ln(S/X) + (r + \\sigma^2/2) (T-t)}{\\sigma (\\sqrt{T-t})} $\n",
    "\n",
    "$ d_2 = d_1 - \\sigma(\\sqrt{T-t}) $\n",
    "\n",
    "Lo que acabamos de ver se rige sobre algunos supuestos fuertes pero se pueden ampliar a una infinidad de distintos casos con razonamientos muy parecidos. A continuación se presentan tres ejemplos. \n",
    "\n",
    "\n"
   ]
  },
  {
   "cell_type": "markdown",
   "metadata": {},
   "source": [
    "\n",
    "\n",
    "\n"
   ]
  }
 ],
 "metadata": {
  "kernelspec": {
   "display_name": "R",
   "language": "R",
   "name": "ir"
  },
  "language_info": {
   "codemirror_mode": "r",
   "file_extension": ".r",
   "mimetype": "text/x-r-source",
   "name": "R",
   "pygments_lexer": "r",
   "version": "4.2.2"
  },
  "orig_nbformat": 4,
  "vscode": {
   "interpreter": {
    "hash": "916dbcbb3f70747c44a77c7bcd40155683ae19c65e1c03b4aa3499c5328201f1"
   }
  }
 },
 "nbformat": 4,
 "nbformat_minor": 2
}
