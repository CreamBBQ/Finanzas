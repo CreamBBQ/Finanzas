{
 "cells": [
  {
   "cell_type": "markdown",
   "metadata": {},
   "source": [
    "<center> <H1> SEPARACIÓN DE DOS FONDOS </H1> <center>"
   ]
  },
  {
   "cell_type": "markdown",
   "metadata": {},
   "source": [
    "En esta sección vamos a establecer una propiedad sobre la estructura de los retornos de los activos tal que, combinada con resultados anteriores, nos permite llegar a la conlusión de que el \"portafolio de mercado\" es de frontera. La propiedad esa la siguiente: pedimos una estructura de actviso en la cual existan al menos dos activos (llamdados \"fondos mutuos\") tales que cualquier agente avero al riesgo prefiera alguna combinación lineal entre esos dos activos antes que cualquier otro ac tivo en la economía. \n",
    "\n",
    "Si la economía es tal que existe esos dos fondos mutuos, decimos que existe \"separación de dos fondos\". En este contexto, nos resultará fácil probar que esos dos fondos mutuos pertenecen a la frontera de portafolio. Aún más, dado que cualquier combinación lineal entre portafolios de frontera pertenece a la frontera (probado en el capotulo anterior), se concluirá que el agente estará eligiendo portafolio de frontera. El contraste con nuestro análisis en capítulos precedentes reside por lo tanto en que, dada la restricción de se paración de dos fondos, no necesitamos suponer que las funciones de utilidad son cuadráticas para asegurarnos que los agentes eligen portafolios frontera (eventualmente veremos que la distribución normal de los retornos es una condición suficiente para que exista separación de dos fondos). \n",
    "\n",
    "El último paso es notar que el portafolio de mercado (la proporción que en términos agregados se está inviertiendo en cada activo de la economía) es una combinación lineal de los portafolios de todos los agentes de la economía. Dado que bajo separación de dos fondos todos los agentes invierten en portafolios de frontera, el de mercado también será un portafolio de frontera. Sabiendo esto, podremos inferior relaciones lineales entre el exceso de retornos de cualquier activo y el exceso de retorno del portafolio de mercado del mismo modo en que lo hacíamos antes sin observar lo que sucedía en el agregado. A partir de este hecho derivaremos el modelo de pricing llamado CAPM. \n",
    "\n",
    "Conceptualmente, entonces, lo que hacemos es buscar características objetivas de nuestra economía (es decir, propiedades sobre la estructura de retornos) que nos garantizan que es correcto abstraerno de consideeraciones referentes a la relación de preferencia de los agentes para hacer nuestro análisis. Solo asumiremos que son aversos al riesgo, y -dados los supuestos restrictivos que garantizan separación de dos fondos- con eso alcanza para derivar nuestras conclusiones. \n",
    "\n",
    "##### Definición 1\n",
    "\n",
    "Un vector de retornos: $r \\equiv \\{r_j\\}_{j=1}^N$ exhibe separación de dos fondos si existen dos fondos mutuos $\\alpha_1$ y $\\alpha_2$ tales que para todo portafolio q y para todo agente averso al riesgo existe alguna combinación lineal entre $\\alpha_1$ y $\\alpha_2$ que es preferida al portafolio q: \n",
    "\n",
    "$E[U(\\lambda r_{\\alpha_1} + (1-\\lambda) r_{\\alpha_2})] \\geq E[U(r_q)]$\n",
    "\n",
    "DOnde U es una finción concava. Notemos que esta definición para todas las función de utilidad concavas es análoga a la dominancia estocástica de segundo orden del portafolio $\\lambda r_{\\alpha_1} + (1-\\lambda) r_{\\alpha_2}$ sobre q. Sabiendo esto se puede afirmar: \n",
    "\n",
    "##### Proposición 1\n",
    "\n",
    "Cuando existe separación de dos fondos, los fondos mutuos (o portafolios de separación) pertenecen a la frontera. Notemos que la fominancia estocástica de segundo orden nos dice que: \n",
    "\n",
    "$Var[\\lambda r_{\\alpha_1} + (1-\\lambda) r_{\\alpha_2}] \\leq Var[r_q]$\n",
    "\n",
    "Inferimos entonces que si existe separación de dos fondos existe la frontera, ya que $\\alpha_1$ y $\\alpha_2$ son frontera y cualquier portafolio dominante formado por una combinación lineal de poratafolios de separación también es frontera. En otras palabras, el portafolio formado por 2 portafolios separadores (que dominan etocásticamente a q) es un portafolio frontera que tiene el mismo retorno espreado que q. De este modo se puede generar toda la frontera con $\\alpha_1$ y $\\alpha_2$. \n",
    "\n",
    "Como cualquier portafolio frontera puede ser un portafolio separados, utilizaremos como caso especial de portafolios frontera a un portafolio p y aquel con cero covarianza con p. Ya hemos visto que el retono de cualquier portafolio q puede ser escrito como el retorno de p mas el retornos del de cero convarianza con p, siempre ponderados por sus respectivos $\\beta$ mas un shock (esto surge de la regresión económetrica propuesta en el capitulo anterior): \n",
    "\n",
    "$r_q = \\underbrace{\\beta_{qp} r_p + (1-\\beta_{qp})r_{zc(p)}}_{\\equiv Q} + \\epsilon_{qp}$\n",
    "\n",
    "Donde Q es la tasa de retorno del portafolio que domina estocásticamente a q. "
   ]
  },
  {
   "cell_type": "markdown",
   "metadata": {},
   "source": [
    "##### Condición necesaria y suficiente para que exista separación de dos fondos: \n",
    "\n",
    "Se puede demostrar que una condición necesaria y suficiente para que exista separación de dos fondos es que la esperanza condicional de $\\epsilon_{qp}$ sea nula, esto es, $E[\\epsilon_{qp}|Q]=0$\n",
    "\n",
    "Además, a partir de esto, podemos demostrar que si los retornos tienen distribución normal entonces dichos retornos exhiben separación de dos fondos. "
   ]
  },
  {
   "cell_type": "markdown",
   "metadata": {},
   "source": [
    "#### Separación de un fondo \n",
    "\n",
    "Se da separación de un fondo si existe un portafolio factible $\\alpha$ tal que todo individuo averso los prefiera a cualquier otro, esto es \n",
    "\n",
    "$E[U(r_\\alpha)]\\geq E[U(r_q)]$\n",
    "\n",
    "Esto implica que: \n",
    "\n",
    "$E[r_\\alpha] = E[r_q]$ \n",
    "\n",
    "y que \n",
    "\n",
    "$Var[r_\\alpha] \\leq Var[r_q]$\n",
    "\n",
    "De estas expresiones se concluye que el portafolio $\\alpha$ debe ser el de mínima varianza, ya que de no ser así, existiría otro portafolio con menor varianza e igual retorno, lo cual es absurdo. De hecho, cuando hay separación de un fondo la frontera degenera en un punto, ya que todos los portafolios deben tener la misma media que el portafolio alfa, y como este es un portafolio de mínima varianza, se dice que la frontera degenera en el portafolio de mínima varianza. Si existe separación de un fondo pordemos escribir al retorno de cualqueir portafolio q como el retorno del de mínima varianza más una unnovación, esto es \n",
    "\n",
    "$r_q = r_{mv} + \\epsilon_{qmv}$ \n",
    "\n",
    "Con $E[\\epsilon_{qmv}] = 0$\n",
    "\n",
    "Una condición necesaria y suficiente para que exista separación de un fondo es que $E[\\epsilon_{qmv}|r_{mv}] = 0$, cosa que se cumple cuando los retornos son normales. "
   ]
  },
  {
   "cell_type": "markdown",
   "metadata": {},
   "source": [
    "#### Equilibrio de mercado \n",
    "\n",
    "En esta sección se mostrará que cuando se cumple separación de dos fondos y los activos riesgosos están en equilibrio, existe una restricción lineal entre los retornos de los activos riesgosos y el portafolio de mercado. \n",
    "\n",
    "##### El portafolio de mercado \n",
    "\n",
    "Sea $W_0^i$ la riqueza inicial del indivio $i$, $alpha_{ij}$ la proporción de la riqueza del individuo i invertida en el activo j (i = 1, 2, ..., I y j = 1, 2, ..., N)\n",
    "\n",
    "Sea $W_0^m$ la riqueza total de la economía definicida como $W_0^m \\equiv \\sum_{i=1}^I W_0^i$ y $\\alpha_{mj}$ la proporción de la riqueza total de la economía destinada al activo j-ésimo. Por lo tanto $\\alpha_{mj}$ puede ser interpreado como el peso del activo j-ésimo en el portafolio de mercado. \n",
    "\n",
    "para que los mercados estén en equilibrio debe cumplirse que: \n",
    "\n",
    "$\\alpha_{mj} W_0^m \\equiv \\sum_{i=1}^I \\alpha_{ij} W_0^i \\space \\space \\space \\forall j$\n",
    "\n",
    "Dividiendo entre $W_0^m$ llegamos a que los pesos del portafolio de mercado son una combinación conveza de los pesos de los portafolios individuales: \n",
    "\n",
    "$\\alpha_{mj} \\equiv \\sum_{i=1}^I \\dfrac{\\alpha_{ij} W_0^i}{W_0^m}$\n",
    "\n",
    "Notando que la división dentro de la sumatoria está siempre contenida en el intervalo cerrado [0, 1]\n",
    "\n",
    "##### Teorema 5 \n",
    "\n",
    "Si los retornos exhiben separación de 2 fondos entonces el portafolio de mercado es frontera. \n",
    "\n",
    "Vimos que cuando hay separación de dos fondos, los portafolios de separación son frontera y cualesquiera 2 portafolio frontera son portafolios de separación. Entonces los individuos van a tener una cartera de combinaciones lineales de 2 portafolios de separación que son frontera. Por lo tanto, el portafolio de mercado también poertenece a la frontera, ya que es una combinación convexa de portafolios de distintos individuos. \n"
   ]
  },
  {
   "cell_type": "markdown",
   "metadata": {},
   "source": [
    "##### El zero beta CAPM \n",
    "\n",
    "Demostramos anteriormente que un portafolio q distinto del de mínima varianza satisface la siguiente relación: \n",
    "\n",
    "$E[r_q - r_zc(p)] = \\beta_{qp}E[r_p - r_{zc(p)}]$ \n",
    "\n",
    "Donde p es un portafolio frontera. Como el portafolio de mercado es frontera se tiene que: \n",
    "\n",
    "$E[r_j - r_zc(m)] = \\beta_{jm}E[r_m - r_{zc(m)}]$ \n",
    "\n",
    "Donde $r_m = \\sum_{j=1}^N \\alpha_{mj}r_j$ y $r_j$ es el retorno del activo j (que es un portafolio q, con peso igual a 1 en el activo j). \n",
    "\n",
    "La relación antes descipta es la restricción lineal que tiene que cumplir cualquier retorno esperado en equilibrio. Esta regla es conocida como Zero Beta CAPM (Zero Beta Capital Asset Princing Model). Esta relación indica cuánto se requiere de prima para tener el activo j en el portafolio. \n",
    "\n"
   ]
  },
  {
   "cell_type": "markdown",
   "metadata": {},
   "source": [
    "##### La security market line \n",
    "\n",
    "Si el portafolio de mercado es eficiente, entonces $E[r_m - r_{zc(m)}] \\geq 0$. Por lo tanto, cuanto más alto sea $\\beta_{jm}$, mayor tiene que ser el eceso de retorno del activo j en equilibrio. Notemos que esto tiene mucha lógica: $\\beta_{jm}$ es la relación de riesgo entre el portafolio que invierte todo en j y el portafolio de mercado, si el riesgo es más grande debe pagar necesariamente más (pensar que los retornos en criptoactivos son muy grandes porque conllevan muchos riesgos). Esta relación puede ser gráficada de la siguiente manera: \n",
    "\n",
    "![sml.png](https://i.imgur.com/0jhCRSS.png)\n",
    "\n"
   ]
  },
  {
   "cell_type": "markdown",
   "metadata": {},
   "source": [
    "##### Eficiencia del portafolio de mercado \n",
    "\n",
    "Como el portafolio de mercado es eficiente, este es una combinación convexa de portafolio individuales, si los portafolios que eligen los individuos son eficientes entonces el portafolio de mercado también lo es. Si se asume que las funciones de utilidad son monotónicas y estricamente cóncavas, y que los retornos tienen distribución normal multivariada, entonces se puede decir que los individuos elegirán portafolios eficientes y por ende el portafolio de mercado será eficiente. "
   ]
  },
  {
   "cell_type": "markdown",
   "metadata": {},
   "source": [
    "#### Separación de dos fondos para una cartera de activos riesgosos y la libre de riesgo \n",
    "\n",
    "Si expreamos el retorno de un portafolio q cualquiera como \n",
    "\n",
    "$r_q = \\underbrace{\\beta_{qe}r_e + (1-\\beta_{qe})r_f}_{Q} + \\epsilon_{qe}$\n",
    "\n",
    "Donde e es portafolio de tangencia entre las dos fronteras que vimos el capitulo anterior. $\\epsilon_{qe}$ es ruido blanco y $r_f$ es la tasa libre de riesgo, entonces se puede demostrar que $E[\\epsilon_{qe}|Q] = 0$ es una condición necesaria y suficiente para que haya separación de 2 fondos, cosa que se cumple si los retornos son normales. \n",
    "\n",
    "Notemos que la existencia de un activo libre de riesgo y separación de dos fondos implica separación monetaria de dos fondos. Usando los mismos argumentos que cuando solo existian activos riesgosos, podemos concluir que cuando hay separación de dos fondos, la realción que cualquier activo riesgoso tiene que satisfacer, con respecto a la tasa libre y a el portafolio de mercado puede ser derivado como una teoria de equilibrio. "
   ]
  }
 ],
 "metadata": {
  "kernelspec": {
   "display_name": "Python 3.8.10 64-bit",
   "language": "python",
   "name": "python3"
  },
  "language_info": {
   "name": "python",
   "version": "3.8.10"
  },
  "orig_nbformat": 4,
  "vscode": {
   "interpreter": {
    "hash": "916dbcbb3f70747c44a77c7bcd40155683ae19c65e1c03b4aa3499c5328201f1"
   }
  }
 },
 "nbformat": 4,
 "nbformat_minor": 2
}
