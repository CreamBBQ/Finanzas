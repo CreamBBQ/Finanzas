{
 "cells": [
  {
   "cell_type": "markdown",
   "metadata": {},
   "source": [
    "<h1> <center> FORWARDS & FUTUROS </H1> </CENTER>"
   ]
  },
  {
   "cell_type": "markdown",
   "metadata": {},
   "source": [
    "Un forward (contrato a término) es un contrato que consiste en un arreglo para vender o comprar un activo en un futuro estipulado y a un precio fijado al tiempo de la firma de dicho contrato. Las partes tienen la obligación de comprar o vender el activo. El activo puede ser una commodity, un stock de renta fija o stock de riesgo. **La característica fundamental de este contrato es que al momento de la firma del mismo, no hay desembolso de dinero, el pago pactado se efectúa solo en el momento de la cancelación del mismo**. En resumen, un forward es un contrato que consiste en un arreglo para vender o comprar un activo en un futuro estipulado T a un precio fijado ${}_tF_T$ al tiempo de firma del contrato t. \n",
    "\n",
    "Un future o contrato a futuro es un contrato similar, pero con la salvedad de que dichos instrumentos son comerciados a través de un exchange house que fija ciertas condiciones sobre el contrato. La mayor diferencial con respecto a los forwards es que para los futuros las ganancias o pérdidas se realizan día a día como diferencia de cotización entre el precio pactado y el presente. POr lo tanto dicho importe es pagado cada día por una parte hacia la otra donde las pérdidas o ganancias se pueden ir acumulando en el tiempo. El broker pedirá a las partes depositar cierta cantidad de dinero en una cuenta para que estas operaciones diarias se realicen. Por el ejemplo, supongamos que tomamos una posición compradora hoy en un subyacente a un precio de 100 dólares para el 1ro de julio del próximo año y que mañana el precio del mismo contrato (un futuro para el 1ro de julio del mismo subyacente) aumenta a 105, entonces el broker acreditará en nuestra cuenta 5 dólares y debitará la misma suma de la cuenta de la posición vendedora. Notar que no se hacen los pagos diarios con la diferencia entre el precio pactado y el del subyacente, **sino que se hace con la diferencia diaria del valor del contrato**. El fin de esto es asegurar el pago futuro: cambios muy grandes en los precios del subyacente podrían llevar a que alguna de las partes no pueda solventar su pérdida. Si la cuenta puede ser re-fondeada a pesar de las perdidas significa que se sigue teniendo capacidad de pago. \n",
    "\n",
    "![](https://i.imgur.com/NB1rUt2.png)\n",
    "\n",
    "Estos contratos existen por dos razones fundamentales: especulación y hedging. Los contrarios forwards especulativos son generalmente riesgosos y se realizan en posiciones no cubiertas (por ejemplo, compro dólares a futuro pensando que van a devaluar). La segunda razón tiene un objetivo opuesto, uno entra a estos contratos para eliminar la incertidumbre asociada a las fluctuaciones de los precios (por ejemplo, una empresa sabe que recibirá un pago en dólares en 3m eses y no quiere asumir el riesgo por las fluctuaciones de la moneda por lo que vende forwards o futuros de dólares a 3 meses). \n",
    "\n",
    "Estos contratos tienen 2 partes: una de las partes toma una posición long y se compromete a comprar el subyacente, mientras que la otra parte toma una posición short y se compromete a vender el subyacente. Ambas partes acuerdan el fecha futura que se comercia el activo y en el precio del mismo (el delivery o precio de entrega).\n",
    "\n",
    "Definamos a $S_t$ como el precio spot a tiempo t del activo subyacente al contrato que estamos considerando y ${}_tF_T$ como el precio de entrega, que pactado a tiempo t nos obliga a comprar el activo en el momento T. En tiempo T el pago del forward es: $ S_T - {}_tF_T$. Si el precio del activo es mayor al precio de entrega, el pago será positivo por lo que el individuo que compra el forward realiza una ganancia; si el precio del activo es menor al precio de entrega, el individuo que compra el forward tiene una pérdida. \n",
    "\n",
    "\n",
    "\n"
   ]
  },
  {
   "cell_type": "markdown",
   "metadata": {},
   "source": [
    "#### Precio de un Forward\n",
    "\n",
    "Para ponerle precio a estos contratos asumiremos que los siguientes postulados son verdaderos para al menos algunos participantes del mercado: \n",
    "\n",
    "- No existen costos de transacción\n",
    "- Los agentes están sujetos a la misma tasa impositivas para todas las ganancias que generen \n",
    "- La tasa de interés activa (a la que se pide prestado) es igual a la tasa pasiva (a la que se presta) \n",
    "- Se aprovechan oportunidades de arbitraje\n",
    "\n",
    "No requerimos que estos supuestos sean verdad para todos los participantes del mercado. Todo lo que se necesita es que sean verdad para unos pocos participantes en el mercado, como los grandes bancos de inversión. Definimos así algunas variables: \n",
    "\n",
    "- T: tiempo hasta la fecha de entrega de un contrato forward o futuro (en años) \n",
    "- $S_t$: Precio del activo subyacente hoy\n",
    "- ${}_tF_t$: Precio del forward (o futuro) hoy\n",
    "- r: Tasa de interés libre de riesgo anual, expresada en capitalización continua para una inversión de madurez T \n",
    "\n",
    "La tasa de interés libre de riesgo, r, es en teoría la tasa a la que se presta o pide prestado cuando no hay riesgo crediticio, es decir, el préstamos se repaga con certeza. En general se considera la tasa de los bonos del tesoro de los Estados Unidos, esto es, la tasa a la que ese gobierno pide prestado a su propia moneda. "
   ]
  },
  {
   "cell_type": "markdown",
   "metadata": {},
   "source": [
    "#### Precio de un Forward sobre un investment asset sin flujo de ingresos \n",
    "\n",
    "La valuación de forwards más sencilla es cuando el activo subyacente no le da al propietario del activo ningún flujo de ingresos. Para que no haya arbitraje debe ser cierto que: \n",
    "\n",
    "$$ {}_tF_T = S_t e^{r(T-t)} $$ \n",
    "\n",
    "Es decir, vender un futuro debe ser igual de rentable que comprar el subyacente de tal forma que le de $S_T$ al vencimiento del contrato. De cualquier otra forma habría oportunidades de ganancias extraordinarias. Si no fuera posible adquirir una posición corta, el resultado no cambiaría. Lo que necesitamos para derivar el precio de un Forward sobre un investment asset es que exista un número significativo de individuos que tienen el activo para inversión puramente (y esa es su definición). Si el precio del forward es demasiado bajo, siempre habrá alguien que encuentre atractivo vender el activo y tomar una posición larga en el forward. \n",
    "\n",
    "Notamos que la condición de no arbitraje es equivalente, **bajo la medida neutral al riesgo**, a:\n",
    "\n",
    "$$ {}_tF_T = E_t(S_T) $$ \n",
    "\n",
    "Por otro lado si se evalúa el contrato a tiempo t+1 tendríamos que ${}_{t+1}F_T = E_{t+1}(S_T)$, donde es fácil ver que por la ley de las expectativas iteradas tenemos que: \n",
    "\n",
    "$$ {}_tF_T = E_t({}_{t+1}F_T) $$ \n",
    "\n",
    "Entonces, como por definición una innovación es $\\eta_{t+1} = {}_tF_T - E_t({}_{t+1}F_T)$, podemos expresar el precio del forward como un random walk: \n",
    "\n",
    "$$ {}_{t+1}F_T = {}_tF_T + \\eta_{t+1} $$ \n",
    "\n",
    "El cambio del precio de entrega de un período a otro se debe estrictamente a un cambio no esperado, puramente aleatorio. Note que esta demostración es válida independientemente del proceso que se asume que sigue S.  \n",
    "\n"
   ]
  },
  {
   "cell_type": "markdown",
   "metadata": {},
   "source": [
    "#### Forward sintético \n",
    "\n",
    "Vamos a ver que se puede reproducir las características de un contrato forward utilizando opciones. En particular tenemos que ver que el portafolio: 1) no tenga inversión inicial (un portafolio de arbitraje) Y 2) Este portafolio debe tener el mismo payoff a tiempo T. Consideremos el siguiente portafolio: \n",
    "\n",
    "$$ \\Pi = c(.) - p(.) $$ \n",
    "\n",
    "DOnde c y p corresponden a un call y a un put europeo con precio $P(t,T_1)$ y strike price $X = {}_tF_T$ que vencen en $T <  T_1$. Verifiquemos que este portafolio cumple las dos condiciones: \n",
    "\n",
    "**No requiere inversión inicial**\n",
    "\n",
    "Usando la paridad call-put: \n",
    "\n",
    "$$ \\Pi = c(.) - p(.) = P(t,T_1) - Xe^{-r(T-t)} $$ \n",
    "\n",
    "Dado que el strike price es $X = {}_tF_T$ tenemos que: \n",
    "\n",
    "$$ \\Pi = P(t,T_1) - {}_tF_T e^{-r(T-t)} $$\n",
    "\n",
    "Sabemos que el precio del forward es: \n",
    "\n"
   ]
  }
 ],
 "metadata": {
  "kernelspec": {
   "display_name": "R",
   "language": "R",
   "name": "ir"
  },
  "language_info": {
   "codemirror_mode": "r",
   "file_extension": ".r",
   "mimetype": "text/x-r-source",
   "name": "R",
   "pygments_lexer": "r",
   "version": "4.2.2"
  },
  "orig_nbformat": 4
 },
 "nbformat": 4,
 "nbformat_minor": 2
}
