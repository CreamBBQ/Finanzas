{
 "cells": [
  {
   "cell_type": "markdown",
   "metadata": {},
   "source": [
    "<h1> <center> FORWARDS & FUTUROS </H1> </CENTER>"
   ]
  },
  {
   "cell_type": "markdown",
   "metadata": {},
   "source": [
    "Un forward (contrato a término) es un contrato que consiste en un arreglo para vender o comprar un activo en un futuro estipulado y a un precio fijado al tiempo de la firma de dicho contrato. Las partes tienen la obligación de comprar o vender el activo. El activo puede ser una commodity, un stock de renta fija o stock de riesgo. **La característica fundamental de este contrato es que al momento de la firma del mismo, no hay desembolso de dinero, el pago pactado se efectúa solo en el momento de la cancelación del mismo**. En resumen, un forward es un contrato que consiste en un arreglo para vender o comprar un activo en un futuro estipulado T a un precio fijado ${}_tF_T$ al tiempo de firma del contrato t. \n",
    "\n",
    "Un future o contrato a futuro es un contrato similar, pero con la salvedad de que dichos instrumentos son comerciados a través de un exchange house que fija ciertas condiciones sobre el contrato. La mayor diferencial con respecto a los forwards es que para los futuros las ganancias o pérdidas se realizan día a día como diferencia de cotización entre el precio pactado y el presente. POr lo tanto dicho importe es pagado cada día por una parte hacia la otra donde las pérdidas o ganancias se pueden ir acumulando en el tiempo. El broker pedirá a las partes depositar cierta cantidad de dinero en una cuenta para que estas operaciones diarias se realicen. Por el ejemplo, supongamos que tomamos una posición compradora hoy en un subyacente a un precio de 100 dólares para el 1ro de julio del próximo año y que mañana el precio del mismo contrato (un futuro para el 1ro de julio del mismo subyacente) aumenta a 105, entonces el broker acreditará en nuestra cuenta 5 dólares y debitará la misma suma de la cuenta de la posición vendedora. Notar que no se hacen los pagos diarios con la diferencia entre el precio pactado y el del subyacente, **sino que se hace con la diferencia diaria del valor del contrato**. El fin de esto es asegurar el pago futuro: cambios muy grandes en los precios del subyacente podrían llevar a que alguna de las partes no pueda solventar su pérdida. Si la cuenta puede ser re-fondeada a pesar de las perdidas significa que se sigue teniendo capacidad de pago. \n",
    "\n",
    "![](https://i.imgur.com/NB1rUt2.png)\n",
    "\n",
    "Estos contratos existen por dos razones fundamentales: especulación y hedging. Los contrarios forwards especulativos son generalmente riesgosos y se realizan en posiciones no cubiertas (por ejemplo, compro dólares a futuro pensando que van a devaluar). La segunda razón tiene un objetivo opuesto, uno entra a estos contratos para eliminar la incertidumbre asociada a las fluctuaciones de los precios (por ejemplo, una empresa sabe que recibirá un pago en dólares en 3m eses y no quiere asumir el riesgo por las fluctuaciones de la moneda por lo que vende forwards o futuros de dólares a 3 meses). \n",
    "\n",
    "Estos contratos tienen 2 partes: una de las partes toma una posición long y se compromete a comprar el subyacente, mientras que la otra parte toma una posición short y se compromete a vender el subyacente. Ambas partes acuerdan el fecha futura que se comercia el activo y en el precio del mismo (el delivery o precio de entrega).\n",
    "\n",
    "Definamos a $S_t$ como el precio spot a tiempo t del activo subyacente al contrato que estamos considerando y ${}_tF_T$ como el precio de entrega, que pactado a tiempo t nos obliga a comprar el activo en el momento T. En tiempo T el pago del forward es: $ S_T - {}_tF_T$. Si el precio del activo es mayor al precio de entrega, el pago será positivo por lo que el individuo que compra el forward realiza una ganancia; si el precio del activo es menor al precio de entrega, el individuo que compra el forward tiene una pérdida. \n",
    "\n",
    "\n",
    "\n"
   ]
  },
  {
   "cell_type": "markdown",
   "metadata": {},
   "source": [
    "#### Precio de un Forward\n",
    "\n",
    "Para ponerle precio a estos contratos asumiremos que los siguientes postulados son verdaderos para al menos algunos participantes del mercado: \n",
    "\n",
    "- No existen costos de transacción\n",
    "- Los agentes están sujetos a la misma tasa impositivas para todas las ganancias que generen \n",
    "- La tasa de interés activa (a la que se pide prestado) es igual a la tasa pasiva (a la que se presta) \n",
    "- Se aprovechan oportunidades de arbitraje\n",
    "\n",
    "No requerimos que estos supuestos sean verdad para todos los participantes del mercado. Todo lo que se necesita es que sean verdad para unos pocos participantes en el mercado, como los grandes bancos de inversión. Definimos así algunas variables: \n",
    "\n",
    "- T: tiempo hasta la fecha de entrega de un contrato forward o futuro (en años) \n",
    "- $S_t$: Precio del activo subyacente hoy\n",
    "- ${}_tF_t$: Precio del forward (o futuro) hoy\n",
    "- r: Tasa de interés libre de riesgo anual, expresada en capitalización continua para una inversión de madurez T \n",
    "\n",
    "La tasa de interés libre de riesgo, r, es en teoría la tasa a la que se presta o pide prestado cuando no hay riesgo crediticio, es decir, el préstamos se repaga con certeza. En general se considera la tasa de los bonos del tesoro de los Estados Unidos, esto es, la tasa a la que ese gobierno pide prestado a su propia moneda. "
   ]
  },
  {
   "cell_type": "markdown",
   "metadata": {},
   "source": [
    "#### Precio de un Forward sobre un investment asset sin flujo de ingresos \n",
    "\n",
    "La valuación de forwards más sencilla es cuando el activo subyacente no le da al propietario del activo ningún flujo de ingresos. Para que no haya arbitraje debe ser cierto que: \n",
    "\n",
    "$$ {}_tF_T = S_t e^{r(T-t)} $$ \n",
    "\n",
    "Es decir, vender un futuro debe ser igual de rentable que comprar el subyacente de tal forma que le de $S_T$ al vencimiento del contrato. De cualquier otra forma habría oportunidades de ganancias extraordinarias. Si no fuera posible adquirir una posición corta, el resultado no cambiaría. Lo que necesitamos para derivar el precio de un Forward sobre un investment asset es que exista un número significativo de individuos que tienen el activo para inversión puramente (y esa es su definición). Si el precio del forward es demasiado bajo, siempre habrá alguien que encuentre atractivo vender el activo y tomar una posición larga en el forward. \n",
    "\n",
    "Notamos que la condición de no arbitraje es equivalente, **bajo la medida neutral al riesgo**, a:\n",
    "\n",
    "$$ {}_tF_T = E_t(S_T) $$ \n",
    "\n",
    "Por otro lado si se evalúa el contrato a tiempo t+1 tendríamos que ${}_{t+1}F_T = E_{t+1}(S_T)$, donde es fácil ver que por la ley de las expectativas iteradas tenemos que: \n",
    "\n",
    "$$ {}_tF_T = E_t({}_{t+1}F_T) $$ \n",
    "\n",
    "Entonces, como por definición una innovación es $\\eta_{t+1} = {}_tF_T - E_t({}_{t+1}F_T)$, podemos expresar el precio del forward como un random walk: \n",
    "\n",
    "$$ {}_{t+1}F_T = {}_tF_T + \\eta_{t+1} $$ \n",
    "\n",
    "El cambio del precio de entrega de un período a otro se debe estrictamente a un cambio no esperado, puramente aleatorio. Note que esta demostración es válida independientemente del proceso que se asume que sigue S.  \n",
    "\n"
   ]
  },
  {
   "cell_type": "markdown",
   "metadata": {},
   "source": [
    "#### Forward sintético \n",
    "\n",
    "Las características de un forward se pueden replicar construyendo un portafolio donde se va largo en un call y corto en un put ($\\Pi = c(.) - p(.)$). Dichas opciones deben estar escritas sobre un activo de renta fija y el strike price debe ser igual a ${}_tF_T$. Lo que hace que esto sea posible es que el portafolio no requiere inversión inicial a tiempo t y tiene el mismo payoff de un forward a tiempo T.\n",
    "\n",
    "El valor de un contrato forward (ganancia que obtengo si lo vendo) es nulo inicialmente, pero varía durante la vida del contrato. Llamemos $f_s$ al valor del contrato en un momento $s \\in [t,T]$. Samos que: \n",
    "\n",
    "$f_t = 0$ \n",
    "\n",
    "$f_T = S_T - {}_tF_T$ \n",
    "\n",
    "Pero queremos encontrar el valor del contrato para un momento s cualquiera. Sabemos que el forward puede ser replicado por un portafolio long en call y short en put y que la paridad call-put nos dice que para cualquier momento s vale: \n",
    "\n",
    "$$ c + Xe^{-r(T-s)} = S_s + p $$ \n",
    "\n",
    "$$ \\implies f_s = \\Pi_s = c(.)-p(.) = S_s - Xe^{-r(T-s)} $$ \n",
    "\n",
    "$$ \\implies f_s = S_s - {}_tF_T e^{-r(T-s)} = S_s - S_t e^{r(T-t)}e^{-r(T-s)} $$\n",
    "\n",
    "$$ \\implies f_s = S_s - S_te^{r(s-t)} $$\n",
    "\n",
    "Notemos que: \n",
    "\n",
    "$f_t = S_t - S_t = 0 $ \n",
    "\n",
    "$f_T = S_T - S_te^{r(T-t)} = S_T - {}_tF_T $\n",
    "\n",
    "\n"
   ]
  },
  {
   "cell_type": "markdown",
   "metadata": {},
   "source": [
    "#### Forward sobre activo con flujo de pagos conocidos \n",
    "\n",
    "Consideremos el caso de un forward en un investment asset que paga ingreso perfectamente predecible. Ejemplos de estos activos son accione que pagan dividendos conocidos y bonos con cupón. Pensemos que el activo en cuestión tiene un precio en t de $S_t$ y que el forward tiene una madurez de $T_1$ años y el bono vence en $T_2$ años. \n",
    "\n",
    "![](imagenes/Captura%20de%20pantalla%20de%202022-12-07%2004-42-58.png)\n",
    "\n",
    "Supongamos que los cupones que paga el bono durante la vida del forward tienen un valor presente igual a I. Para hallar el precio del forward, ${}_tF_{T_1}$, usamos un argumento similar al caso anterior. Supongamos que tengo $S_t$ pesos y tengo dos alternativas de inversión libre de riesgo: \n",
    "\n",
    "- Comprar el bono y venderlo a futuro, de modo que gano lo cupones durante la vida del forward. La ganancia por esta estrategia en $T_1$ será de: ${}tF_T + Ie^{r(T_1-t)}$. \n",
    "\n",
    "- Poner el dinero a rendir en un bono libre de riesgo por lo que en $T_1$ la institución me dará $S_te^{r(T_1 - t)}$\n",
    "\n",
    "Al ser dos estrategia libres de riesgo deben tener ganancias iguales o en caso contrario habría oportunidades de arbitraje: \n",
    "\n",
    "$$ {}_tF_{T_1} = (S_t - I)e^{r(T_1-t)} $$ \n",
    "\n",
    "Notar que el resultado anterior es fácilmente generalizable al caso en el que en lugar de proveer un ingreso conocido, tiene una yield conocida q (Rendimiento **proporcional**). En ese caso el pago por la estrategia 1 sería: ${}_tF_T + S_te^{q(T_1-t)}$. Por lo que el precio del forward es: \n",
    "\n",
    "$$ {}_tF_T = S_te^{(r-q)(T_1-t)} $$ "
   ]
  },
  {
   "cell_type": "markdown",
   "metadata": {},
   "source": [
    "#### Forwards y futuros de monedas\n",
    "\n",
    "La moneda extrajera tiene la propiedad de que el inversor en monedas puede ganar una tasa de interés libre de riesgo vigente en el país extranjero durante el tiempo de posesión. POr ejemplo, el agente puede invertir la moneda en un bono determinado en esa moneda. Sea $r_f$ el valor de la tasa libre de riesgo extranjera cuando el dinero es invertido por un periodo T. LLamaremos $S_t$ al precio de una unidad de moneda extranjera en términos de moneda doméstica y a ${}_tF_T$ al futuro de dicho precio. La relación en este caso será: \n",
    "\n",
    "$$ {}_tF_T = S_te^{(r-r_f)(T-t)} $$ \n",
    "\n",
    "------------------------------\n",
    "\n",
    "Notemos que la ecuación anterior es equivalente a: \n",
    "\n",
    "$$ (T - t)(r-rf) = ln\\left(\\dfrac{{}_tF_T}{S_t} \\right) \\approx \\dfrac{{}_tF_T - S_t}{tF_T} $$ \n",
    "\n",
    "En finanzas internacionales esta relación se conoce cono Covered Interest Rate Parity, y es una condición de no arbitraje que se tiene que cumplir entre las tasa de interés de dos países. "
   ]
  }
 ],
 "metadata": {
  "kernelspec": {
   "display_name": "R",
   "language": "R",
   "name": "ir"
  },
  "language_info": {
   "codemirror_mode": "r",
   "file_extension": ".r",
   "mimetype": "text/x-r-source",
   "name": "R",
   "pygments_lexer": "r",
   "version": "4.2.2"
  },
  "orig_nbformat": 4
 },
 "nbformat": 4,
 "nbformat_minor": 2
}
