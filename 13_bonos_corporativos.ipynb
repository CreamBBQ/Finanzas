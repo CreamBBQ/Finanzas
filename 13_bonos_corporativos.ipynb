{
 "cells": [
  {
   "cell_type": "markdown",
   "metadata": {},
   "source": [
    "<h1> <center> BONOS CORPORATIVOS </H1> </CENTER>"
   ]
  },
  {
   "cell_type": "markdown",
   "metadata": {},
   "source": [
    "Hasta ahora cuando encontramos el precio justo de un bono asumimos que dichos bonos no tienen riesgo de default. Cuando evaluamos bonos corporativos claramente este supuesto no es correcto ya que dichos bonos van a poder pagarse unicamente si la empresa no quiebra. Como cualquier empresa tiene una probabilidad de quiebra, también existe una posibilidad de que los bonos no puedan ser pagados. Por lo tanto el valor de los bonos corporativos van a estar atados a la suerte de la empresa. Nosotros vamos a evaluar el valor de los bonos como un derivado donde el subyacente va a ser el valor de la firma. Comenzamos repasando los modelos básicos de la valuación de bonos corporativos. Aquí desarrollaremos la estructura del valor de la firma. Luego presentamos un modelo básico que toma los activos de la empresa como derivados sobre el valor de la firma, donde se utiliza el modelo de BS para realizar la valuación de los mismos. Este primer modelos asume que el momento de la quiebra está fijado en el tiempo (como el tiempo de madurez de una opción europea) El segundo y tercer modelo que presentamos relajan este supuesto ya que admiten un mayor rol de los accionistas y poseedores de bonos sobre las decisiones de quiebra, y por lo tanto se endogeniza el tiempo donde se produce la quiebra. Por último presentaremos modelos que capturan la interacción entre poseedores de equity y de bonos. Típicamente en un proceso de quiebra se da una negociación entre los primeros y los últimos para determinar el momento del default, esta interacción es capturada en lo que se conoce en la literatura como *Optimal Stopping games* o juegos de tiempo óptimo. "
   ]
  },
  {
   "cell_type": "markdown",
   "metadata": {},
   "source": [
    "#### Valor de la firma\n",
    "\n",
    "Para hacer el pricing del riesgo de un bono emitido por la firma, primero debemos definir el modelo para el valor de la firma. COmo punto de partida supondremos que el valor de mercado de la firma a tiempo t está dado por V, donde V sigue un proceso browniano geométrico (BG): \n",
    "\n",
    "$$ dV = \\mu V dt + \\sigma V dz $$ \n",
    "\n",
    "El modelo más simple de evaluación de bonos corporativos supone que la firma para financiarse emite un bono sin cupones que paga D, a tiempo $ T<\\infty$ y acciones. Para determinar el pay-off de los poseedores del bono hay que notar que a tiempo T el valor de la firma puede ser mayor o menor a D. La idea es que, llegado al momento de pago, la firma paga si $V > D$ y si no, quiebran y liquidan la empresa para que los inversores reciban V. POr lo tanto, el pago a los poseedores de bonos es: \n",
    "\n",
    "$$ BP = \\min\\{D,V\\} = D -\\max\\{D - V, 0\\} $$\n",
    "\n",
    "Notemos que el valor del bono es igual al valor del principal, D, menos un put sobre el valor de la firma con strike price igual a D. \n",
    "\n",
    "El pago para los poseedores de acciones es el valor residual de la firma luego de pagar a los poseedores de bonos, y si este valor es negativo el pago es igual a cero, es decir, \n",
    "\n",
    "$$ EP = V - BP = V - D + \\max \\{D-V,0\\} = \\max \\{V-D, 0\\} $$ \n",
    "\n",
    "Es decir, igual al valor de un call sobre el valor de la firma V con strike price igual a D. Dado que asumimos el proceso estocástico que sigue el valor de la firma es fácil calcular en todo momento del tiempo el valor del bono corporativo y del equity, simplemente aplicando las formulas de valuación de un put y de un call. "
   ]
  },
  {
   "cell_type": "markdown",
   "metadata": {},
   "source": [
    "#### Tiempo de default endogeno: Leland\n",
    "\n",
    "El modelo anterior supone que el default solo puede ocurrir a tiempo T. Este supuesto es demasiado restrictivo e irrealista. Por ello asumiremos que la firma declara quiebra la primera vez que V toca la barrera $\\underline{V}$, que puede ser distinta a D. POr lo tanto, si denotamos $\\tau$ como el tiempo de quiebre, $\\tau$ debe cumplir que $\\tau = ínf \\{t \\in [0, T] : V = \\underline{V} \\}$\n",
    "\n",
    "-------------------------------\n",
    "\n",
    "Sea A un subconjuto de números reales no vacio decimos que $\\alpha$ es el ínfimo (ínf) de A si y solo sí $\\alpha$ es cota inferior de A y $\\alpha$ es la máxima cota inferior, es decir, si $\\beta$ es cota inferior de A $\\implies \\beta \\leq \\alpha$\n",
    "\n",
    "-------------------------------\n",
    "\n",
    "Denotemos a $L_t(V)$ como el valor del precio del bono emitido por la firma. En este caso asumiremos que el bono paga cupones fijos, b, de forma continua. Si los agentes son neutrales al riesgo, el precio del bono a tiempo $t<\\tau$ es la suma descontada de los cupones hasta el momento de default, más el valor de la firma al tiempo de default (menos el costo del default) descontado. En definitiva $L_t$ viene dado por: \n",
    "\n",
    "$$ L_t = E_t \\left[\\int_t^\\tau (e^{-r(s-t)}b)ds + e^{-r(\\tau - t)}(\\underline{V} - \\delta)\\right] $$\n",
    "\n",
    "Donde r es la tasa libre de riesgo y $\\delta$ es el costo del default. La primera parte de la ecuación se puede simplificar\n",
    "\n",
    "$$ \\int_t^\\tau e^{-r(s-t)}b ds = \\dfrac{b}{r}(1-e^{-r(\\tau - t)})$$\n",
    "\n",
    "Por lo que el valor del bono puede ser escrito como: \n",
    "\n",
    "$$ L_t = \\dfrac{b}{r} + E_t [e^{-r(\\tau - t)}] (\\underline{V} - \\delta - \\frac{b}{r}) $$ \n",
    "\n",
    "El valor del bono queda expresado como el valor de la perpetuidad (un bono consol), $\\frac{b}{r}, más la diferencia actualizada entre el valor del bono y el de la firma (ajustado por el costo de default) a tiempo de default. \n",
    "\n",
    "Notemos que para que no haya arbitraje debe ser cierto que: \n",
    "\n",
    "$$ rL(dt) = b(dt) + E_t[dL] $$ \n",
    "\n",
    "Es decir, en cada momento debe ser igual invertir L en la tasa libre de riesgo que comprar el bono que da la oportunidad de obtener cupones (b) y obtener ganancias por el cambio en su precio (lo que espero que cambio L, E[dl]). Usando el lema de Ito podemos caracterizar dl: \n",
    "\n",
    "$$ dL = L_V dV + \\dfrac{1}{2} L_{VV}(dV)^2 $$ \n",
    "\n",
    "$$ dL = L_V(rVdt + \\sigma V dz) + \\dfrac{1}{2}L_{VV} (\\sigma V)^2 dt $$ \n",
    "\n",
    "$$ dL = \\left(rL_V V + \\dfrac{\\sigma^2}{2}L_{VV}V^2\\right) dt + \\sigma L_{V} dz $$ \n",
    "\n",
    "Sustituyendo en la condición de no arbitraje obtenemos la siguiente ecuación diferencial de segundo orden no homogénea que caracteriza el precio del bono: \n",
    "\n",
    "$$ rL - r V L_V - \\dfrac{\\sigma^2}{2} V^2 L_{VV} = b $$ \n",
    "\n",
    "Para esta ecuación diferencial se sigue que: \n",
    "\n",
    "$$ L(V)^{SPNH} = \\dfrac{b}{r} $$ \n",
    "\n",
    "$$ L(V)^{SGH} = c_1 V^{\\lambda_1} + c_2 V^{\\lambda_2} $$\n",
    "\n",
    "Donde $\\lambda_1 < 0$ y $\\lambda_2  > 0$ y $c_1$ y $c_2$ son parámetros a determinar. Entonces el precio viene caracterizado por: \n",
    "\n",
    "$$ L(V) = \\dfrac{b}{r} + c_1 V^{\\lambda_1} + c_2 V^{\\lambda_2} $$ \n",
    "\n",
    "Para determinar las constates utilizamos las siguientes condiciones de borde: \n",
    "\n",
    "- Si $V \\to \\infty$ la probabiliad de default es nula y el precio del bono debe igualarse a $\\frac{b}{r}$ (un consol libre de riesgo) $\\implies c_2 = 0$ \n",
    "\n",
    "- En el momento de la quiebra (cuando $V = \\underline{V}$) el valor del bono debe ser $L(\\underline{V}) = \\underline{V} - \\delta \\implies c_1 = \\dfrac{\\underline{V} - \\delta - \\frac{b}{r}}{\\underline{V}^{\\lambda_1}} $\n",
    "\n",
    "Finalmente la solución es: \n",
    "\n",
    "$$ L(V) = \\dfrac{b}{r} - \\left(\\dfrac{b}{r}- (\\underline{V} - \\delta)\\right) \\left(\\dfrac{V}{\\underline{V}} \\right)^{\\lambda_1} $$\n",
    "\n",
    "Notar: \n",
    "\n",
    "$$ L_t = \\dfrac{b}{r} + E_t [e^{-r(\\tau - t)}] (\\underline{V} - \\delta - \\frac{b}{r}) $$ \n",
    "\n",
    "$$ L(V) = \\dfrac{b}{r} - \\left(\\dfrac{b}{r}- (\\underline{V} - \\delta)\\right) \\left(\\dfrac{V}{\\underline{V}} \\right)^{\\lambda_1} $$\n",
    "\n",
    "$$ \\implies E_t[e^{-r(\\tau - t)}] = \\left(\\dfrac{V}{\\underline{V}}\\right)^{\\lambda_1} $$\n",
    "\n"
   ]
  },
  {
   "cell_type": "markdown",
   "metadata": {},
   "source": [
    "#### Valor del proyecto en el cierre endógeno \n",
    "\n",
    "Hasta ahora asumimos que $\\underline{V}$ era una constante exógena. En esta parte levantaremos este supuesto. Asumiremos que los poseedores de acciones pueden forzar la quiebra, decidiendo cuando cesas de inyectar dinero (o dejar de pagar cupones) a la firma. Para ello lo primero que debemos hacer es evaluar el payoff de los equity holders en tiempo para determinar cuando es óptima para ellos cerrar la firma (para obtener el remanente máximo posible) El valor del equity es igual al valor de la firma menos el valor descontado del costo de liquidación menos el valor del bono: \n",
    "\n",
    "$$ EP = V - \\delta \\left(\\dfrac{V}{\\underline{V}}\\right)^{\\lambda_1} - L(V) $$ \n",
    "\n",
    "$$ EP = V - \\delta \\left(\\dfrac{V}{\\underline{V}}\\right)^{\\lambda_1} - \\dfrac{b}{r} - \\left(\\dfrac{b}{r} + (\\underline{V} - \\delta)\\right) \\left(\\dfrac{V}{\\underline{V}} \\right)^{\\lambda_1}$$ \n",
    "\n",
    "$$ EP = \\left(V - \\dfrac{b}{r}\\right) - \\left(\\underline{V} - \\dfrac{b}{r}\\right) \\left(\\dfrac{V}{\\underline{V}}  \\right)^{\\lambda_1} $$ \n",
    "\n",
    "Notemos que a tiempo de quiebra el valor del equity es igual a cero. Dado que los poseedores del equity van a maximizar su pay-off, eso de logra derivando su ecuación e igualándola a cero. Esa condición de primer orden da como resultado: \n",
    "\n",
    "$$ \\underline{V}^* = - \\dfrac{\\lambda_1}{1- \\lambda_1} \\dfrac{b}{r} $$"
   ]
  }
 ],
 "metadata": {
  "kernelspec": {
   "display_name": "R",
   "language": "R",
   "name": "ir"
  },
  "language_info": {
   "codemirror_mode": "r",
   "file_extension": ".r",
   "mimetype": "text/x-r-source",
   "name": "R",
   "pygments_lexer": "r",
   "version": "4.2.2"
  },
  "orig_nbformat": 4
 },
 "nbformat": 4,
 "nbformat_minor": 2
}
