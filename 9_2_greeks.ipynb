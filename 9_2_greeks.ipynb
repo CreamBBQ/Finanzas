{
 "cells": [
  {
   "cell_type": "markdown",
   "metadata": {},
   "source": [
    "<h1> <center> LETRAS GRIEGAS </H1> </CENTER>"
   ]
  },
  {
   "cell_type": "markdown",
   "metadata": {},
   "source": [
    "Las letras griegas pueden ser entendidas como medidas del portafolio que brindan información sobre el mismo. Es decir, nos permite obtener nociones de como reaccionara nuestro portafolio ante distintos escenarios. Por ejemplo, caracterizaremos como cambio el valor de nuestras tenencias ante cambios en el precio de algún stock, o como ira variando a lo largo del tiempo. Naturalmente podremos utilizar estas medidas para hacer nuestro portafolio más rentable o menos volátil. Veremos que ente procedimiento nos será muy útil la expresión para el precio de una opción derivada por Black & Scholes (BS)."
   ]
  },
  {
   "cell_type": "markdown",
   "metadata": {},
   "source": [
    "#### Delta \n",
    "\n",
    "La primer letra griega -delta- mide como cambio el valor de un portafolio ante cambios en un stock. Pensemos que un portafolio V formado por $n_1$ unidades $V_1$ y $n_2$ unidades de $V_2$, donde las Vs pueden ser opciones o activos. De esta manera, el delta de un portafolio es la suma de los delta de los elementos qu forman el mismo. En particular, si denominamos S al precio del stock: \n",
    "\n",
    "$$ \\dfrac{\\partial V}{\\partial S} = \\Delta $$ \n",
    "\n",
    "Por lo que debe ser cierto que: \n",
    "\n",
    "$$ \\Delta = n_1 \\Delta_1 + n_2 \\Delta_2 $$ \n",
    "\n",
    "Donde $\\Delta_i = \\dfrac{\\partial V_i}{\\partial S} $\n",
    "\n",
    "El delta de un portafolio ya fue introducido cuando se derivo el pricing de una opción. En el modelo de BS se vio que el precio de una opción se determina igualando un portafolio libre de riesgo, formado por una posición en una opción y uan posición en el stock a la tasa libre de riesgo. El portafolio quedaba libre de riesgo porque se lo construía de tal manera que cada movimiento en el precio del stock quede perfectamente anulado por otro movimiento en la opción. Esto se conoce como Delta Hedging, donde las posiciones en cada elemento del portafolio son tales que elimina todo el riesgo obteniendo una posición *delta neutral*. \n",
    "\n",
    "Si se quiere obtener una posición delta neutral debe satisfacerse que $\\Delta = 0$ esto es: \n",
    "\n",
    "$$ n_1 \\Delta_1 + n_2 \\Delta_2 = 0 \\implies h = \\dfrac{n_1}{n_2} = - \\dfrac{\\Delta_2}{\\Delta_1} $$ \n",
    "\n",
    "Donde h es el hedge ratio del portafolio. \n",
    "\n",
    "Dos comentarios resultan pertinentes a esta instancia. Primero, tener una posición delta neutral implica una regla muy expecifica sobre la relación que debe mantener cada uno de los elementos de mi portafolio, pero noo es así para el monto de cada uno de ellos. En otras palabras, si un portafolio con $n_1$ unidades del primer elemento y $n_2$ unidades del segundo es delta neutral, entonces también lo será uno con $kn_1$ y $kn_2$ unidades. Segundo, tener una posición delta neutral nos permita evitar cambios en el valor de nuestro portafolio ante cambios en S, pero solo en un pequeño entorno de este. El motivo de esto es que la pendiente del portafolio ante cambios en S no tiene porque ser constante para todo valor sel stock, por lo que el delta del portafolio cambia en S y también lo hará entonces el hedge rato que devuelve una posición delta neutral.\n",
    "\n",
    "Pasemos a un ejemplo donde el portafolio B está compuesto por $N_S$ unidades del stock y $N_c$ unidades del call. El valor del portafolio es: \n",
    "\n",
    "$$ V = N_S S + N_c c = N_c(hS + c) $$ \n",
    "\n",
    "donde $h = \\frac{N_S}{N_c}$ es el hedge ratio. Para eliminar el riesgo del portafolio, debemos hacer su valor independiente a los movimientos de S: \n",
    "\n",
    "$$ \\dfrac{\\partial V}{\\partial S} = h + \\dfrac{\\partial c}{\\partial S} = 0 $$ \n",
    "\n",
    "$$ \\implies h = -\\dfrac{\\partial c}{\\partial S} $$ \n",
    "\n",
    "Donde $\\frac{\\partial c}{\\partial S} $ se conoce como el delta de la opción. Notemos que la forma cerrada del BS, \n",
    "\n",
    "$$ c(.) = SN(d_1) - Xe^{-r(T-t)}N(d_2) $$ \n",
    "\n",
    "obtenemos que: \n",
    "\n",
    "$$ \\Delta_c = \\dfrac{\\partial c}{\\partial S} = N(d_1) $$ \n",
    "\n",
    "Por ejemplo si escribimos el call sobre una acción entonces para tener un hedge completo el poseedor de la acción debe escribir $\\frac{1}{N(d_1)}$ calls por cada unidad de acciones que posee (como $N(d_1)$ es está contenido entre 0 y 1 podemos probar que una posición delta neutral siempre involucra más opciones que stocks). \n",
    "\n",
    "Como aclaramos antes, para mantener una posición delta neutral en el tiempo se debe ajusta continuamente el portafolio, ya que el delta de opción cambia ante cambios en el precio del stock. Esto se conoce como *Dynamic Hedging*. Sin embargo, dado que en la práctica no se usa demasiado pasaremos a calcular otras medidas del portafolio, tales como gamma y vega. \n",
    "\n",
    "Un último comentario resulta interesante antes de concluir. El motivo por el cual construimos una posición delta neutral fue porque queríamos evitar potenciales perdidas ante cambios en el stock, pero este no tiene porque ser siempre el caso. Usamos los signos del delta para responder antes distintas creencias que tengamos sobre el mercado. \n",
    "\n",
    "$$ \\Delta > 0 \\implies \\space \\text{Bull market} $$\n",
    "\n",
    "$$ \\Delta = 0 \\implies \\space \\text{Neutral market} $$\n",
    "\n",
    "$$ \\Delta < 0 \\implies \\space \\text{Bear market} $$"
   ]
  },
  {
   "cell_type": "markdown",
   "metadata": {},
   "source": [
    "#### Gamma \n",
    "\n",
    "Como una posición delta no brinda protección ante grandes cambios en el stock price, entonces incorporamos la letra gamma, que representa la sensibilidad del delta al subyacente. Como en la práctica es imposible realizar un delta hedging continuo, gamma indica cuanto o qué tan a menuda se debe \"rehacer\" el hedging de manera tal de seguir en una posición delta neutral. En definitiva en una posición delta neutral, la posición gamma es una de las responsables para que el retorno del portafolio sea igual a la tasa libre de riesgo. Matemáticamente es la derivada segunda del portafolio con respecto al subyacente: \n",
    "\n",
    "$$ \\Gamma = \\dfrac{\\partial \\Delta}{\\partial S} = \\dfrac{\\partial^2 V}{\\partial^2 S} $$\n",
    "\n",
    "Para el caso del portafolio formador por $N_c$ unidades del call y $N_s$ unidades del stock es: \n",
    "\n",
    "$$ \\Gamma = \\dfrac{\\partial^2 c}{\\partial^2 S} = N_c c_{ss}$$\n",
    "\n",
    "Para lograr una posición gamma neutral se debe comprar-vender no solo el subyacente, sino opciones. Dado que la derivada segunda del stock con respecto al subyacente es nula, no se logra nada añadiendo más activos, sino que debe elegirse cantidades de opciones tal que se tenga una posición delta y gamma neutrales. Obviamente la posición gamma neutral no se obtiene muy a menudo, porque si en la práctica el comercio de subyacente es costoso, el comercio de opciones lo es aún más. \n",
    "\n",
    "Supongamos que uno ya tiene una posición delta neutral y con un gamma de $\\Gamma_A$. Para corregir la posición gamma se añaden $N_T$ opciones tal que: \n",
    "\n",
    "$$ \\Gamma_{port} = N_T \\Gamma_T + \\Gamma_A $$ \n",
    "\n",
    "Donde $\\Gamma_T$ es el gamma de la opción que se está agregando y $\\Gamma_{port}$ es el gamma del nuevo portafolio obtenido. El misma será gamma neutral si: \n",
    "\n",
    "$$ N_T = - \\dfrac{\\Gamma_A}{\\Gamma_T} $$\n",
    "\n",
    "Pero como la inclusión de la opción cambiará el delta del portafolio se debe cambiar la posición en los stocks para mantener la delta neutral. Notar que el cambio en la posición del stock no modifica $\\Gamma_{port}$, puesto que el gamma activo es nulo. \n",
    "\n",
    "La posición delta neutral provee una proyección contra pequeños movimientos en S, mientras que la posición gamma neutral provee proyección ante grandes movimiento de S entre cada rebalanceo del portafolio. Si se tiene una \n",
    "\n",
    "Si se tiene una posición long en gamma ($\\Gamma_{port} < 0$) se gana plata con grandes movimientos del subyacente y se pierde con pequeños movimientos. \n",
    "\n",
    "Para las opciones vainilla se tiene que: \n",
    "\n",
    "$$ \\Gamma^{call} = \\Gamma^{put} = \\dfrac{N'(d_1)}{\\sigma S \\sqrt{T - t}} $$ \n",
    "\n"
   ]
  },
  {
   "cell_type": "markdown",
   "metadata": {},
   "source": [
    "#### Theta \n",
    "\n",
    "Esta letra muestra como cambia el valor de la opción a medida que se acerca el expiration date. Puede ser visto como una medida de decaimiento de la opción. matemáticamente, representa el cambio del precio de la opción con respecto al tiempo. Dado que cuando se acerca el expiration date decrece (T-t) definiremos esta letra como el negativo de la tasa de crecimiento del call con respecto al lapso hasta el expiration date: \n",
    "\n",
    "$$ \\Theta = - \\dfrac{\\partial c}{\\partial(T-t)} $$ \n",
    "\n",
    "Si un individuo tiene una posición neutral en delta, el theta es lo que le asegura recibir un retorno igual a la tasa libre de riesgo intertemporalmente. Notemos que el theta, al igual que gamma, están relacionados con el valor de la opción a través de la forma cerrada de BS: \n",
    "\n",
    "$$ \\Delta^{call} = - \\dfrac{\\sigma S N'(d_1)}{2\\sqrt{T-t}} - rXe^{-r(T-t)}N(d_2) $$ \n",
    "\n",
    "$$ \\Delta^{call} = - \\dfrac{\\sigma S N'(d_1)}{2\\sqrt{T-t}} - rXe^{-r(T-t)}N(-d_2) $$\n",
    "\n",
    "Generalmente, el tiempo juega a favor de la persona que escribe la opción. Esto se debe a que, salvo que el subyacente cambie bruscamente, la opción va perdiendo valor. Por ejemplo, si el stock no cambio de valor desde la fecha de emisión de un call, mientras se va acercando el expiration date la opción tiene un valor más próximo a su payoff el día en que se ejecuta, que es menor inclusive si está \"at-the-money\""
   ]
  },
  {
   "cell_type": "markdown",
   "metadata": {},
   "source": [
    "#### Vega \n",
    "\n",
    "La cuarta letra es Vega, aunque no es griega propiamente dicha, mide la sensitividad del portafolio con respecto a la volatilidad, matemáticamente \n",
    "\n",
    "$$ \\Lambda = \\dfrac{\\partial V}{\\partial \\sigma} $$ \n",
    "\n",
    "Para el caso de un call \n",
    "\n",
    "$$ \\Lambda = \\dfrac{\\partial c}{\\partial \\sigma} $$ \n",
    "\n",
    "Expresión que podemos computar de la formula de BS. Con vega hedging se reduce la sensibilidad a la volatilidad, esto es muy importante para eliminar el riesgo del modelo, aunque no es muy precisa. \n",
    "\n",
    "Si el vega de una opción es alta, entonces el valor de la opción es muy sensible a cambios en la volatilidad, $\\sigma$. Para una opción europea el vega es mayor cuando la opción esta at-the-money, y es nula cuando está in-the-money o out-of-the-money. Como el vega del subyacente es nulo, para cambiar la posición vega del portafolio se deben añadir opciones nuevas. Siguiendo un razonamiento análogo al anterior, sabemos que necesitamos incluir: \n",
    "\n",
    "$$ N_T = - \\dfrac{\\Lambda}{\\Lambda_T} $$ \n",
    "\n",
    "opciones, con un vega de $\\Lambda_T$ para cada una, para mantener una posición vega neutral. Dado que se incluyen más opciones, la posición gamma neutral al igual que la delta neutral no se mantienen, por lo que es necesario rebalancear con nuevas acciones. La fórmula del call y del put son iguales entre sí: \n",
    "\n",
    "$$ \\Lambda^{call} = \\Lambda^{put} = SN'(d_1)\\sqrt{T-t} $$ \n",
    "\n",
    "Notar que la información que nos brinda vega es en algún sentido similar a la que nos brinda gamma. Una posición gamma neutral nos protege ante cambios grandes del activo entre los momentos de reblanceo del portafolio. Una posición vega neutral no protege ante cambios en $\\sigma$. Si será mejor tomar una posición gamma neutral que una vega neutral dependerá del tiempo que haya entre cada rebalanceo del portafolio y de la volatilidad de $\\sigma$ "
   ]
  },
  {
   "cell_type": "markdown",
   "metadata": {},
   "source": [
    "#### Rho \n",
    "\n",
    "Esta letra mide la sensiblidad del precio de la opción con respecto a la tasa libre de riesgo, y se denota como: \n",
    "\n",
    "$$ \\rho = \\dfrac{\\partial c}{r} $$ \n",
    "\n",
    "Las formulas para un call y para un put son: \n",
    "\n",
    "$$ \\rho^{call} = X(T-t)e^{-r(T-t)}N(d_2) $$ \n",
    "\n",
    "$$ \\rho^{put} = -X(T-t)e^{-r(T-t)}N(-d_2) $$ \n",
    "\n",
    "\n"
   ]
  },
  {
   "cell_type": "markdown",
   "metadata": {},
   "source": [
    "#### Omega \n",
    "\n",
    "La letra omega mide la elasticidad de la opción con respecto al subyacente, matemáticamente, \n",
    "\n",
    "$$ \\Omega = \\dfrac{S}{c} \\dfrac{\\partial c }{\\partial S} = \\Delta \\dfrac{S}{c}= \\dfrac{S}{c} N(d_1) $$ \n",
    "\n",
    "Con anterioridad se derivó que esta letra relaciona a la volatilidad del subyacente con la volatilidad de la opción de forma lineal. "
   ]
  },
  {
   "cell_type": "markdown",
   "metadata": {},
   "source": [
    "#### Relación con BS\n",
    "\n",
    "Sabemos por secciones anteriores que el cambio en el premium de una opción viene  dado por: \n",
    "\n",
    "$$ dc(S,t) = c_t dt + c_S dS + \\dfrac{1}{2}C_{SS}(dS)^2 $$ \n",
    "\n",
    "Con los conceptos antedichos, podemos rescribir esta ecuación como: \n",
    "\n",
    "$$ dc(S,t) \\approx \\Theta dt + \\dfrac{1}{2}\\Gamma (dS)^2 + \\Delta dS $$ \n",
    "\n",
    "Asimismo la ecuación diferencial que caracteriza el pricing de la opción: \n",
    "\n",
    "$$ c_t + \\dfrac{1}{2}\\sigma^2 S^2 C_{SS} + rSc_S - rc = 0 $$ \n",
    "\n",
    "Nos brinda una relación entre $\\Delta$, $\\Theta$ y $\\Lambda$. Si reemplazando por las definiciones de las letra griegas obtenemos: \n",
    "\n",
    "$$ \\Theta + \\dfrac{1}{2}(\\sigma S)^2\\Gamma + rS\\Delta - rc = 0$$ \n",
    "\n",
    "Para una posición delta neutral, reescribimos esta ecuación como: \n",
    "\n",
    "$$ \\Theta + \\dfrac{1}{2}(\\sigma S)^2\\Gamma  = rc$$\n",
    "\n",
    "Esta última ecuación nos permite inferir la relación entre  gamma y theta dada una posición delta neutral: se mueven de forma inversa. \n"
   ]
  }
 ],
 "metadata": {
  "kernelspec": {
   "display_name": "R",
   "language": "R",
   "name": "ir"
  },
  "language_info": {
   "codemirror_mode": "r",
   "file_extension": ".r",
   "mimetype": "text/x-r-source",
   "name": "R",
   "pygments_lexer": "r",
   "version": "4.2.2"
  },
  "orig_nbformat": 4
 },
 "nbformat": 4,
 "nbformat_minor": 2
}
