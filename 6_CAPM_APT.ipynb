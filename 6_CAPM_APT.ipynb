{
 "cells": [
  {
   "cell_type": "markdown",
   "metadata": {},
   "source": [
    "<center> <H1> CAPM Y APT </H1> <center>"
   ]
  },
  {
   "cell_type": "markdown",
   "metadata": {},
   "source": [
    "#### CAPM\n",
    "\n",
    "Cuando incoporamos al análisis previo un activo libre de riesgo, y si mantenemos el supuesto de que esciste separación de dos fondos, si $r_f \\neq A/C$ y si los activos riesgosos están en oferta neta positiva, entonces se puede deribar como relación de equilibrio lo que se dá en llamar el CAPM: \n",
    "\n",
    "$E[r_j - r_f] = \\beta_{jm}E[r_m - r_f]$\n",
    "\n",
    "Notemos que el CAPM a diferencia del zero beta-capm nos define de forma única el portafolio de mercado ya que la tasa libre de riesgo está dada, donde el zero-beta-CAPM existen inifitios portafolios de cero covarianza de los distintos portafolios fronteras, que ulteriormente definirán el portafolio de mercado. **La relación de la ecuación anterior específica cuánto debe ser el exceso de retorno del activo j en equlilibrio para el que el individuo lo mantenga en el portafolio**\n"
   ]
  },
  {
   "cell_type": "markdown",
   "metadata": {},
   "source": [
    "\n",
    "##### El riesgo de mercado \n",
    "\n",
    "**Teorema 1**: si los activos están en oferta neta positiva, entonces la prima que se paga por el riesgo de mercado positivo, es decir, \n",
    "\n",
    "$E[r_m] - r_f > 0$ \n",
    "\n",
    "Dado esto, tenemos tres casos: \n",
    "\n",
    "1. Si $r_f = A/C$, se ha visto que la frontera se degenera en un punto, por lo que se invierte toda la riqueza en el activo libre de riesgo y se mantiene un portafolio de arbitraje con los activos riesgosos. Pero, bajo oferta positiva de activos riesgosos, esto es absurdo. \n",
    "\n",
    "2. Si $r_f > A/C$ implicaría que ningún inversor mantendrá un monto positivo del portafolio de mercado, esto se contradice con el supuesto de mercados en equlibrio. \n",
    "\n",
    "3. Dado que el equilibrio existe debe ocurrir que $r_f < A/C$. En este caso $E[r_m]-r_f>0$. Por lo tanto, si se grafica la relación inicial tendremos la Capital Market Line. "
   ]
  },
  {
   "cell_type": "markdown",
   "metadata": {},
   "source": [
    "##### Derivación del riesgo de mercado: el C-CAPM\n",
    "\n",
    "En esta sección derivaremos la prima de riesgo de mercado de las decisiones óptimas de los inversores individuales y mostraremos que es proporcional a la varianza del retorno del portafolio del mercado. \n",
    "\n",
    "Sabemos que la condición de primer orden del individuo que quiere invertir se puede escribir como: \n",
    "\n",
    "$E[U'(\\tilde{W_i})(r_j - r_f)] = 0 \\space \\space \\space \\forall i,j $ \n",
    "\n",
    "Donde $\\tilde{W_i} = W_0^i(1+r_f+\\sum_{j=1}^N \\alpha_{ij}(r_j - r_f))$\n",
    "\n",
    "Usando la formula para la covarianza, $Cov(x,y)=E[xy]-E[x]E[y]$ si se define $x = U'(\\tilde{W_i})$, $y = (r_j -r_f)$ tenemos que \n",
    "\n",
    "$Cov(U'(\\tilde{W_i}), (r_j - r_f)) = E[U'(\\tilde{W_i})(r_j - r_f)] - E[U'(\\tilde{W_i})]E[(r_j - r_f)]$\n",
    "\n",
    "Sabiendo que el primer término de la derecha es cero por la condición de primer orden se tiene que: \n",
    "\n",
    "$Cov(U'(\\tilde{W_i}), (r_j - r_f))  = - E[U'(\\tilde{W_i})]E[(r_j - r_f)]$\n",
    "\n",
    "Recordemos que por el Lema de Stein si (x,y) se distribuyen conjuntamente normal es cierto que: \n",
    "\n",
    "$Cov(g(x), y) = E[g'(x)]Cov(x,y)\n",
    "\n",
    "Entonces, usando el lema, debe ser cierto que: \n",
    "\n",
    "$- E[U'(\\tilde{W_i})]E[(r_j - r_f)] = E[U''(\\tilde{W_i})]Cov(\\tilde{W_i}, r_j)$\n",
    "\n",
    "Dividiendo sobre la esperanza de la utiliad marginal obtenemos: \n",
    "\n",
    "$E[r_j - r_f] = \\theta_i Cov(\\tilde{W_i}, r_j)$\n",
    "\n",
    "Donde $\\theta_i = -\\dfrac{E[U''(\\tilde{W_i})]}{E[U'(\\tilde{W_i})]}$\n",
    "\n",
    "Que, notemos, puede ser visto como la aversión absoluta al riesgo del individuo i-ésimo (para algunas funciones de utilidad esto es cierto). \n",
    "\n",
    "Si agregamos para todos los individuos se obtiene: \n",
    "\n",
    "$E[r_j - r_f]\\sum_i \\frac{1}{\\theta_i} = \\sum_i Cov(\\tilde{W_i}, r_j) $\n",
    "\n",
    "$E[r_j - r_f]\\sum_i \\frac{1}{\\theta_i} = Cov(\\sum_i (\\tilde{W_i}, r_j))  $\n",
    "\n",
    "$E[r_j - r_f]\\sum_i \\frac{1}{\\theta_i} = Cov(\\tilde{W_m}, r_j) $\n",
    "\n",
    "$E[r_j - r_f]\\sum_i \\frac{1}{\\theta_i} = Cov(W_o^m(1+r_m), r_j) $\n",
    "\n",
    "$E[r_j - r_f]\\sum_i \\frac{1}{\\theta_i} = W_o^mCov(r_m, r_j) $\n",
    "\n",
    "Multiplicando por $\\alpha_{mj}$ y luego agregando para todos los j activos: \n",
    "\n",
    "$E[\\underbrace{\\sum_j \\alpha_{mj} r_j}_{=r_m} -\\underbrace{\\sum_j \\alpha_{mj} r_j }_{=1}] = \\dfrac{1}{ \\sum_i \\frac{1}{\\theta_i}} W_o^mCov(r_m, \\sum_j \\alpha_{mj}r_j)$\n",
    "\n",
    "Definiendo $\\Phi = \\dfrac{1}{ \\sum_i \\frac{1}{\\theta_i}} W_o$\n",
    "\n",
    "(Notar que se puede interpretar con una aproximación de la aversión relativa al riesgo del mercado)\n",
    "\n",
    "Se tiene que: \n",
    "\n",
    "$E[r_m - r_f] = \\Phi  Cov(r_m, r_m)$\n",
    "\n",
    "$E[r_m - r_f] = \\Phi Var[r_m]$\n",
    "\n",
    "Podemos concluir entonces que el riesgo de mercado es el producto de la varianza del retorno del portafolio de mercado por el coeficiente (agregado) de la aversión de los individuos. Este riesgo claramente es positivo, por lo tanto, intuitivamente podemos pensar que el exceso de retorno de mercado depende de dos cosas: por un lado, de la \"cantidad\" de tiesgo de mercado, $Var[r_m]$, a mayor varianza del portafolio de mercado, podemos pensar que hay más riesgo en la economia. Por otro lado, vemos que el exceso de retorno depende de $\\Phi$, que dijimos tiene que ver con la aversión al riesgo agregada, que nos dice cuanto les importa a los agentes el riesgo, si $\\Phi$ es alto, podemos pensar como que los agentes son \"más aversos\" al riesgo y en ese caso el equilibrio necesitaría un exceso de retorno mayor para que deseen tener estos activos. \n",
    "\n",
    "Notemos, además, que la expresión sin agregar pasa a ser: \n",
    "\n",
    "$E[r_j - r_f] = \\beta_{jm}E[r_m - r_f]$\n",
    "\n",
    "Con $\\beta_{jm} = \\dfrac{Cov(r_j, r_m)}{Var[r_m]}$\n",
    "\n",
    "De acá podemos ver que el exceso de retorno de cualquier activo depende de forma lineal, con coeficiente $\\beta_{jm}$ del exceso de retorno del portafolio de mercado. Con esto vemos que cuanto mayor es la covarianza entre los retornos del activo j y el portafolio de mercado, mayor es el exceso de retorno de equilibrio de dicho activo. La intuición es la siguiente: imaginemos que tenemos dos activos A y B con los mismos pay-off esperados (distinto al retorno), sin embargo, los pay-off del activo A covarian positivamente con los del portafolio de mercado, mientras que los del activo B covarian negativamente. Por lo tanto, el activo A tiene pagos altos cuando la economía anda bien (es decir, cuando el portafolio de mercado tiene pagos altos) y el activo B tiene buenos pagos cuando la economía le va mal. Ahora bien, por la concavidad de la fucnión de utilidad, una unidad de pay-off es más valiosa para el agente cuando a la economía le va mal que cuando la economía le va bien. Por lo tanto, el activo A tiene pay-off altos cuando el pay-off no es tan valorado, mientras que el activo B tiene pagos altos cuando el pay-off es muy valorado. Matemáticamente, viendo la formula, la covarianza de los retornos del activo A con el portafolio de mercado serán mayores que las de B. Por ende, el activo A tendrá un exceso de retorno mayor, ya que el $\\beta$ es más grande. Pero como los pay-off son los mismos, para que haya un mayor retorno esperado el precio de A será menor al de B. La idea es que B paga mucho justamente cuadno el agente más lo valores, lo que es más atractivo que A. Entonces, para que en equilibrio los agentes quieran tener un poco del activo A su precio debe ser menor, y por lo tanto su retorno esperado mayor. \n"
   ]
  },
  {
   "cell_type": "markdown",
   "metadata": {},
   "source": [
    "Recordemos que si vale separación de dos fondos entonces los retornos de un portafolio cualquiera q con un portafolio frontera p cumplen que: \n",
    "\n",
    "$r_q = \\beta_{qp}r_p + (1-\\beta_{qp})r_f + \\epsilon_{qp}$ \n",
    "\n",
    "Con $Q = \\beta_{qp}r_p + (1-\\beta_{qp})r_{zc(p)}$ y $E[\\epsilon_{qp}|Q] = 0$. Por otro lado, argumentamos que el portafolio de mercado es un portafolio de frontera. Por lo tanto tenemos que para cualquier portafolio q: \n",
    "\n",
    "$r_q = \\beta_{qm}r_m + (1-\\beta_{qm})r_f + \\epsilon_{qp}$\n",
    "\n",
    "Es decir, el retorno de cualquier activo puede generarse como una combinación lineal entre el retorno del portafolio de mercado y la tasa libre de riesgo mas un shock. Por eso, podemos pensar que tenemos un modelo donde hay un solo factor, $r_m$ que explica los retornos de todos los activos. Es decir, según este modelo, hay una sola variable que explica todos los retornos. \n",
    "\n",
    "Sin embargo, aquellos activos donde la varianza del shock sea positiva estarán dominados estocásticamente de seguno orden por aquellos activos que no lo tengan. Mirando la formula sabemos que los activos para los cuales la varianza del shock es nula sabemos que son aquellos cuyo retorno exactamente es una combinación lineal entre $r_f$ y $r_m$. Pero como el portafolio de mercado y el portafolio que tiene todo invertido en el libre de riesgo son portafolios frontera, entonces aquellos activos en donde el término del shock no aparece son justamente los frontera. Es decir, toda la frontera puede ser genera con solo dos portafolios. Por otro lado, si los agentes solo eligen portafolios en la frontera, vemos que la fuente de riesgo a la que están expuesto es solo una: el riesgo proviene del portafolio de mercado. Todo otro riesgo que no esté relacionado con este no afecta a los agentes. \n",
    "\n"
   ]
  },
  {
   "cell_type": "markdown",
   "metadata": {},
   "source": [
    "##### Validez empírica del CAPM\n",
    "\n",
    "CAPM oferece una predicción precisa respecto a cuál debe ser la relación entre exceso de retorno de cualquier activo y el portafolio de mercado en equilibrio. Para contrastarla empíricamente debemos apuntar a sus implicancias. Reescribamos la ecuación de CAPM como un modelo de regresión: \n",
    "\n",
    "$r_t^j - r_{t-1}^f = \\beta_{jm}(r_t^m - r_{t-1}^f) + \\epsilon_t$\n",
    "\n",
    "$\\hat{r_t^j} = \\beta_{jm}(\\hat{r_t^m}) + \\epsilon_t$ \n",
    "\n",
    "En el corte transversal debería valer que el parámetro $\\beta$ captura completamente la variación de los excesos de retorno de los activos. Alternativamente podría formularse el siguiente modelo lineal: \n",
    "\n",
    "$\\hat{r_t^j} = \\alpha + \\beta_{jm}(\\hat{r_t^m}) + \\epsilon_t$ \n",
    "\n",
    "Y luego evaluar la hipótesis nula $\\alpha = 0$. En caso de que sea significativo, el CAPM no es sustentado por los datos para la muestra tomada, pues existiría una parte del exceso de retorno del portafolio j que no es explicado por el riesgo de mercado: existirían otros factores, distintos al riesgo de mercado, que explican la variación conjunta de los retornos. \n",
    "\n"
   ]
  },
  {
   "cell_type": "markdown",
   "metadata": {},
   "source": [
    "#### APT (Arbitraje Pricing Theory)\n",
    "\n",
    "El modelo APT ofrece una alternativa testeable al CAPM. Mientras que el CAPM predice que los retornos de los activos riesgosos están relacionados linealmente con el retorno del portafolio de mercado, el APT aume que el retorno de un activo se relaciona linealmente con k factores: \n",
    "\n",
    "$r_i = E[r_i] + b_{i1}F_1 + b_{i2}F_2 +\\cdots + b_{ik}F_k + \\epsilon_i$\n",
    "\n",
    "Donde ri es el retorno aleatoria del activo i-ésimo, bik es la sensibilidad de este activo para con el k-ésimo factoy y Fk es el k-ésimo factor con media nula y común a todos los retornos (por ejemplo, crecimiento de la economía ajustado por su tendencia). Se asume que ei es un riesgo ideosincrático de los diferentes activos. El APT supone que el número de activos es mayor al número de factores, l. Además asume competencia perfecta y ausencia de fricciones en los mercados de capitales. \n",
    "\n",
    "La característica más importante del APT es que todos los portafolios que son elegidos sin invertir riqueza inicial, y que además no son riesgosos, deben tener retorno nulo en promedio. Estos portafolios se conocen como poratfolios de arbitraje. Esto parece lógico: nadie puede ganar dinero, en equlibrio, sin invertir dinero o riesgo. \n",
    "\n"
   ]
  },
  {
   "cell_type": "markdown",
   "metadata": {},
   "source": [
    "##### Consecuencias algebraicas cuando existe un solo factor \n",
    "\n",
    "Considere la siguiente relación exacta (asumimos que el shock es igual a cero) \n",
    "\n",
    "$r_i = E[r_i] + b_iF_i$\n",
    "\n",
    "Asumimos que existen dos activos i y j tal que $b_i \\neq b_j \\neq 0$, con los que formamos un portafolio con retorno $r_p$, definido como: \n",
    "\n",
    "$r_p = \\alpha(E[r_i] + b_iF_1) + (1-\\alpha)(E[r_j] + b_jF_1)$ \n",
    "\n",
    "Si elejimos $\\alpha$ de modo de eliminar el riesgo de dicho portafolio, entonces, para ese valor, dicho portafolio debe pagar la tasa libre de riesgo, $r_f$: \n",
    "\n",
    "$r_p = (\\alpha E[r_i] + (1-\\alpha E[r_j])) + \\underbrace{(\\alpha b_i + (1-\\alpha)b_j)}_{=0 \\iff \\alpha = \\dfrac{b_j}{b_j-b_i}} F_1$\n",
    "\n",
    "Por lo tanto, el portafolio sin riesgo asociado, es decir, con $\\alpha = \\dfrac{b_j}{b_j-b_i}$, al cual llamaremos $r_p^*$, es: \n",
    "\n",
    "$r_p^* = \\dfrac{b_j}{b_j-b_i}(E[r_j]-E[r_j]) + E[r_j]    $\n",
    "\n",
    "Igualando esta expresión a la tasa libre de riesgo obtenemos que: \n",
    "\n",
    "$\\dfrac{E[r_i] - r_f}{b_i} = \\dfrac{E[r_j] - r_f}{b_j}$\n",
    "\n",
    "Dicha expresión es valida para cualquier activo y, dado que es una constante, la denominamos $\\lambda$, que representa el precio del riesgo de ese factor. Usando esa definición podemos escribir para cualquier activo que: \n",
    "\n",
    "$E[r_i] = r_f + \\lambda b_i$ \n",
    "\n",
    "donde $\\lambda$ representaria el exceso de retorno esperado de cualquier factor con $b_i = 1$. \n",
    "\n",
    "\n",
    "\n",
    "\n"
   ]
  },
  {
   "cell_type": "markdown",
   "metadata": {},
   "source": [
    "##### Consecuencias algebraicas cuando existen k factores \n",
    "\n",
    "El resultado anterior se puede ampliar de modo que: \n",
    "\n",
    "$E[r_i] = r_f + \\lambda_1 b_{i1} + \\cdots + \\lambda_k b_{ik}$\n",
    "\n",
    "En equlibrio todos los activos deben cumplir esta ecuación, que es conocida como Arbitraje Pricing Line. Y los $\\lambda_k$ son el precio del riesgo de los k-ésimos factores en equlibrio. \n",
    "\n",
    "La ecuación se puede reescribir como: \n",
    "\n",
    "$E[r_i] -r_f = b_1(E[r_i^* - r_f]) + \\cdots + b_k(E[r_k^* - r_f])$\n",
    "\n",
    "La interpretación del APT es que el eceso de retorno del activo i es explicado por una combinación lineal de diferentes excesos de retornos de activos. Dichos activos tienen una correspondencia uno a uno con su factor exógeno. Finalmente estos excesos están ajustados por la eslaticidad que tiene el activo i con respecto a ellos (b).\n",
    "\n"
   ]
  },
  {
   "cell_type": "markdown",
   "metadata": {},
   "source": [
    "##### Comparacion ente CAPM y APT\n",
    "\n",
    "El APT es considerado como un modelo de factores múltiples que puede discriminar el efecto de cada factor k sobre el activo en cuestión a través de un activo con sensibilidad unitaria respecto de k. En cambio, el CAPM es considerado como un modelo de un solo factor, y por lo tanto es un caso particular del APT. En particular: \n",
    "\n",
    "1. El APT no hace supuestos acerca de la distribución empiríca de los retornos \n",
    "\n",
    "2. El APT no hace supuestos fuerte acerca de las funciones de utilidad de los individuos \n",
    "\n",
    "3. El APT nos da una relación sobre el precio relativo de cualquier subset de activos y no requiere el conocimiento del universo de los activos como el CAPM"
   ]
  },
  {
   "cell_type": "markdown",
   "metadata": {},
   "source": [
    "##### Conclusión \n",
    "\n",
    "En estas últimas secciones, en base a varios teoremas, se logró describir restricciones que los activos cumplen necesariamente en equilibrio; estas describen que el exceso de retorno de un activo es igual al exceso de retorno de otros portafolios descontado por una prima de riesgo. En el caso del CAPM el exceso de retorno es igual al exceso de retorno del portafolio de mercado, ajustado por una medida de riesgo dada por la covariabilidad y la varianza de los portafolios en cuestión. \n",
    "\n",
    "En cambio, el APT plantea que el eceso de retorno depende de excesos de retornos de otros portafolios, que representan factores macroeconómicos, por ejemplo, el crecimiento de la economía. El último modelos presenta una ventaja ya que es dificíl pensar que un portafolio de mercado sea capaz de captar todo el comportamiento de la economía, en cambio muchos factores lo pueden hacer mejor. Además, esp osbile discriminar la influencia de cada factor. \n",
    "\n",
    "Ambos modelos son impresindibles para la valuación de activos y todos los teoremas que ser trataron ahora conforman la base de estos modelos -sobre todo el CAPM-."
   ]
  }
 ],
 "metadata": {
  "language_info": {
   "name": "python"
  },
  "orig_nbformat": 4
 },
 "nbformat": 4,
 "nbformat_minor": 2
}
