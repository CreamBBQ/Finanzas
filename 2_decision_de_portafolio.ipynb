{
 "cells": [
  {
   "cell_type": "markdown",
   "metadata": {},
   "source": [
    "<center> <h1> DECISIÓN DE PORTAFOLIO </h1> </center>"
   ]
  },
  {
   "cell_type": "markdown",
   "metadata": {},
   "source": [
    "Consideremos un individuo representativo que tiene la posibilidad de inventir en un activo libre de riesgo (pensemos en un bono americano) que paga una tasa de interés rf que le dará una ganancia de $w_0(1+rf)$ o, alternativamente, puede invertir en en un portafolio p con J activos riesgosos de modo que obtendrá $w_0(1+rp)$ cuando la variable aleatoria rp se realice. rp está definido como $rp=\\sum_j\\alpha_jrj$ donde $\\alpha_j$ es la proporción del activo j-ésimo en el portafolio y rj es el retorno del activo j. \n",
    "\n",
    "El individuo típicamente no coloca toda su riqueza en activos riesgosos o en libres de riesgo, más bien podemos pensar que elije poner $w_0-\\sum_j aj$ dinero en el activo libre de riesgo, donde aj es la cantidad de plata en el activo riesgoso j. \n",
    "\n",
    "Resumiendo, esta persona busca resolver el siguiente problema: \n",
    "\n",
    "$\\max_{aj} E[U(\\tilde{w})]$\n",
    "\n",
    "donde \n",
    "\n",
    "$\\tilde{w} = (w_0 - \\sum_j aj)(1+rf)+\\sum_j aj(1+rj)$\n",
    "\n",
    "Aplicando regla de la cadena y diferenciando para algún j se llega a la siguiente condición de primer orden: \n",
    "\n",
    "$E[U'(\\tilde{w})(rj-rf)] \\space \\forall j$\n",
    "\n",
    "Notemos que la probabilidad de que que rj supere a rf tiene que estar necesariamente entre cero y uno (sin incluir), de otra forma no habría manera de que se cumpla la condición de primer orden. Esto tiene varias implicancias importantes. La primera de ellas es que no se puede aceptar una tasa libre de riesgo mayor a la esperanza del retorno del activo j (esto hace sentido ya que habría posibilidad de arbitraje) pero tampoco se admiten diferencias demasiado grandes (y positivas) entre E[rj] y rf, el activo riesgosos no puede estar pagando demasiado. Cuando rf es \"apenas\" menor que rj los valores de $(rj-rf)<0$ tienen menor probabilidad de ocurrur pero están múltiplicados por valores mayores de U'(recordemos que la función de utilidad es creciente y cóncava), y los valores $(rj-rf)>0$ tienen mayor porbabilidad de ocurrir pero están multiplicados por valores menores de U', por lo que en este caso la esperanza sí puede ser igual a cero. "
   ]
  },
  {
   "cell_type": "markdown",
   "metadata": {},
   "source": [
    "#### Teoremas sobre la decisión de inversión \n",
    "\n",
    "Se presentarán 3 teoremas que describirán bajo que conidiciones los agentes invierten toda su riqueza en los activos riesgosos, en los no riesgosos o en ambos (notar que el problema anterior no tiene solución cerrada en ausencia de función de utilidad, esto nos ayudará a ampliar nuestro marco de conocimiento sobre como deciden los agentes sus inversiones). \n"
   ]
  },
  {
   "cell_type": "markdown",
   "metadata": {},
   "source": [
    "##### Teorema 1: \n",
    "Si no se invierte en activos riesgosos entonces \n",
    "\n",
    "$\\forall j \\space \\space rf \\geq E[rj]$\n",
    "\n",
    "La demostración es inmediata, si no se invierte en activos riesgosos entonces aj es nulo para todo j por lo que la condición de primer orden se reduce a \n",
    "\n",
    "$E[U'(w_0 (1+rf))(rj-rf)] \\leq 0 \\space \\forall j$\n",
    "\n",
    "Ya que, o bien el individuo está satisfecho o su utilidad crecería shoorteando activos riesgosos para comprar el activo libre de riesgo. Por otro lado, la utilidad marginal es siempre positiva ante estos valores ciertos, por lo cual no puede ser igual a cero, así que todo se reduce a: \n",
    "\n",
    "$E[rj] \\leq rf$\n",
    "\n",
    "Este primer teorema nos indica que los agentes no invierten en activos riesgosos si el valor esperado de todos los retornos de los activos riesgosos son menores a la tasa libre de riesgo o, en otras palabras, si ninguno de los activos riesgosos tiene un premio estríctamente positivo. Notar que si existiese un activo con un premio positivo no necesariamente la inversión en riesgosos iría a ese, pueden haber más portafolios que maximicen la utilidad. \n",
    "\n"
   ]
  },
  {
   "cell_type": "markdown",
   "metadata": {},
   "source": [
    "##### Teorema 2: \n",
    "Si no se invierte en el activo libre de riesgo entonces \n",
    "\n",
    "$\\forall j \\space E[rj-rf] \\geq R^A(w_0(1ŕf))w_0E[rj-rf]^2$\n",
    "\n",
    "Por simplicidad reducimos la demostración para j =1, por lo que la notación pasa a ser aj = a, rj = r, $\\tilde{w}=w_0(1+r)$ \n",
    "\n",
    "Partiendo de la hipotesis de que el individuo no quiere el activo libre de riesgo o desea hacerle short para comprar más del riesgosos, sus preferencias deben satisfacer: \n",
    "\n",
    "$E[U'(w_0(1+r))(r-rf)] \\geq 0$\n",
    "\n",
    "Expandamos ahora $U'(w_0(1+r))$ por Taylor de primer grado alrededor de $w_0(1+rf)$: \n",
    "\n",
    "$U'(w_0(1+r)) = U'(w_0(1+rf)) + U''(w_0(1+rf))(w_0(1+r)-w_0(1+rf))$\n",
    "\n",
    "$U'(w_0(1+r)) = U'(w_0(1+rf)) + U''(w_0(1+rf))(w_0(r-rf))$\n",
    "\n",
    "Multiplicamos ambos lados de la ecuación por (r-rf) de modo que: \n",
    "\n",
    "$U'(w_0(1+r))(r-rf) = U'(w_0(1+rf))(r-rf) + U''(w_0(1+rf))w(r-rf)^2$\n",
    "\n",
    "Tomamos esperanza matemática sobre la ecuación \n",
    "\n",
    "$E[U'(w_0(1+r))(r-rf)] = U'(w_0(1+rf))E[(r-rf)] + U''(w_0(1+rf))wE[(r-rf)^2]$\n",
    "\n",
    "Y sabemos que por definición esto debe ser mayor a cero por lo que: \n",
    "\n",
    "$U'(w_0(1+rf))E[(r-rf)] + U''(w_0(1+rf))wE[(r-rf)^2]$\n",
    "\n",
    "$\\implies E[(r-rf)] \\geq -\\dfrac{U''(w_0(1+rf))wE[(r-rf)^2]}{U'(w_0(1+rf))}$\n",
    "\n",
    "$\\implies E[(r-rf)] \\geq R^A(w_0(1+rf))w_0E[(r-rf)^2]$\n",
    "\n",
    "Esta última expresión nos dice que si el exceso de retorno es mayor que el producto del coeficiente de aversión relativa al riesgo y la variablidad esperada del retorno del activo riesgosos con respecto a la tasa libre de riesgo (spread), se invierte todo en los activos riesgosos. En términos simples, el spread debe ser lo suficientemente grande para compensar la variabilidad del activo riesgoso y la propia aversión al riesgo del individuo. \n",
    "\n",
    "\n",
    "\n",
    "\n",
    "\n",
    "\n"
   ]
  },
  {
   "cell_type": "markdown",
   "metadata": {},
   "source": [
    "##### Teorema 3: \n",
    "Para que se invierta en ambos activos (riesgoso y no riesgoso) debe cumplirse que \n",
    "\n",
    "$0 \\leq E[rj-rf] \\leq -\\dfrac{U''(w_0(1+rf))w_0E[(rj-rf)^2]}{U'(w_0(1+rf))}$\n",
    "\n",
    "La demostración es inmediata ya que solo es un colorario de las demostraciones anteriores"
   ]
  },
  {
   "cell_type": "markdown",
   "metadata": {},
   "source": [
    "#### Teoremas de Arrow-Pratt\n",
    "Por simplicidad imagineamos que existe un solo activo riesgoso y uno libre de riesgo. Los teoremas que se muestran a continuación nos permitirán entender, a través del coeficiente $R^A$, si el individuo considera al activo riesgoso como un bien normal o inferior.\n",
    "\n",
    "En 1970 Arrow demostró que aversión absoluta decreciente (creciente) al riesgo sobre todo el dominio de $R^A$ implica que el activo riesgoso es un bien normal (inferior)  "
   ]
  },
  {
   "cell_type": "markdown",
   "metadata": {},
   "source": [
    "##### Teorema 4 (Arrow): \n",
    "Si $\\dfrac{d R^A}{dz}<0 \\implies \\dfrac{d a}{w_0} > 0$\n",
    "\n",
    "Si $\\dfrac{d R^A}{dz}>0 \\implies \\dfrac{d a}{w_0}  < 0$\n",
    "\n",
    "Si $\\dfrac{d R^A}{dz}=0 \\implies \\dfrac{d a}{w_0}  = 0$\n",
    "\n",
    "Demostremolo. Dado que el indiivudio elige a para maximizar su utilidad esperada, la condición de primer orden es: \n",
    "\n",
    "$E[U'(w_0(1+rf)+a(r-rf))(r-rf)] = 0$\n",
    "\n",
    "Diferenciamos totalmente (y suavizamos la notación usando $\\tilde{w}$)la expresión de modo que: \n",
    "\n",
    "$E[U''(\\tilde{w})(1+rf)(r-rf)d w_0] + E[U''(\\tilde{w})(r-rf)^2 da] = 0$\n",
    "\n",
    "$\\implies \\dfrac{da}{dw_0}= - \\dfrac{E[U''(\\tilde{w})(1+rf)(r-rf)]}{E[U''(\\tilde{w})(r-rf)^2]}$\n",
    "\n",
    "Para probar el teorema basta con demostrar que si la aversión al riesgo es decreciente, el cociente es positivo. Notemos que el signo se determina solo por el numerador ya que el denominador es la múltiplicación de una función estrictamente negativa ($(U''(.))$) y una no negativa ($(r-rf)^2$). \n",
    "\n",
    "Para analizar el numerador tenemos que considerar dos casos posbiles: r < rf o r  > rf.\n",
    "\n",
    "Consideremos la primera posibilidad. Partiendo de: \n",
    "\n",
    "$\\tilde{w}=w_0(1+rf)+a(r-rf)$\n",
    "\n",
    "Por hipotesis el ultimo término de la izquierda es negativo y el primero siempre es positivo por lo que: \n",
    "\n",
    "$\\tilde{w} < w_0(1+rf)$\n",
    "\n",
    "Además se partió de la hipotesis de que $R^A$ es decreciente en todo su dominimo por lo que debe ser cierto lo siguiente: \n",
    "\n",
    "$R^A(\\tilde{w}) > R^A(w_0(1+rf))$\n",
    "\n",
    "Múltiplicamos ambos lados de la inecuación por $-U'(\\tilde{w})(r-rf)$, un número positivo dadas las hipotesis. \n",
    "\n",
    "$\\implies \\dfrac{-U''(\\tilde{w})(-)U'(\\tilde{w})(r-rf)}{U'(\\tilde{w})} > R^A(w_0(1+rf))(-)U'(\\tilde{w})(r-rf)$\n",
    "\n",
    "$\\implies U''(\\tilde{w})(r-rf) > R^A(w_0(1+rf))(-)U'(\\tilde{w})(r-rf)$\n",
    "\n",
    "Para la segunda posibilidad el procedimiento es análogo. Ahora la hipotesis cambia la desigualdad de modo que \n",
    "\n",
    "$\\tilde{w} >  w_0(1+rf)$\n",
    "\n",
    "Por tanto debe ser cierto que: \n",
    "\n",
    "$R^A(\\tilde{w}) < R^A(w_0(1+rf))$\n",
    "\n",
    "Multiplicando a ambos lador por $-U'(\\tilde{w})(r-rf)$, un número negativo dados los supuestos, se llega a: \n",
    "\n",
    "$\\implies U''(\\tilde{w})(r-rf) > R^A(w_0(1+rf))(-)U'(\\tilde{w})(r-rf)$\n",
    "\n",
    "La misma desigualdad que antes. En cada uno de los casos tomando esperanza condicional al signo del spread se llega al resultado deseado. Como podemos ver, independientemente de la realización de la variable aleatoria, una aversión absoluta al reisgo decreciente implica que la proporción de activos riesgosos comprados es mayor, cosa que hace mucho sentido lógico. \n",
    "\n",
    "\n",
    "\n"
   ]
  },
  {
   "cell_type": "markdown",
   "metadata": {},
   "source": [
    "##### Teorema 5 (Pratt): \n",
    "Si existen dos individuos i y k con $R_i^A(z) \\geq R_k^A(z)$ entonces el individuo i se dice que es más averso al resigo, porque exige una myor prima que el otro individuo. La demostración formal requiere poner a ambos individuos con igual riqueza inicial y mostrar que la prima de riesgo requerida por i para invertir toda su riqueza en un activo riesgoso es mayor que la del individuo k en las mismas condiciones. Esto puede ser engorroso para los objetivos de este resumen pero se puede consultar a través del libro \"Foundations For Financial Economics\" de Huang y Litzenberger.\n",
    "\n",
    "#### Separación monetaria de dos fondos: \n",
    "Hasta ahora hemos demostrado varias proposiciones de estática comparativa bajo el supuesto de la existencia de un solo activo libre de riesgo y un solo activo riesgoso. Ahora bien, extrapolar las proposciciones antedichas para casos en los que existe más de una activo riesgoso, en general, no es válido. Por ejemplo, si cambia la riqueza puede ser que la proporción invertida en un activo riesgosos suba y la inversión en otro baje. Sin embargo, las proposiciones anteriores también serían válidad, aunque existan múltiples activos riesgosos, si el individuo elige mnantener el mismo portafolio de activos riesgosos (las mismas proporciones) y solo cambie las proporciones entre este portafolio y el activo libre de riesgo. Si esto se cumple, el portafolio óptimo del individuo (para diferentes niveles de riqueza) está compuesto por una combinación lineal del activo libre de riesgo y un fondo mutuo de activos riesgosos. Esto se conoce como separación monetaria de dos fondos. Stiglitz y Case (1970) demostraron que una condición necesaria para la separación monetaria de dos fondos se cumpla es que las utilidades marginales sean de la forma: \n",
    "\n",
    "$U'(z) = (A+Bz)^C$\n",
    "\n",
    "o bien \n",
    "\n",
    "$U'(z) = A \\exp{(Bz)}$\n",
    "\n",
    "En resumen, para estas dos familias de funciones de utilidad, un cambio en la riqueza significa: probablemente un cambio en cuanto dinero invierto en riesgosos y no riesgosos pero, y esto es lo relevante, la proporción de riqueza destinada al activo j no cambia. Es decir, si antes con una riqueza de 2$ destinaba 1$ a activos riesgosos y un 20% de ese dinero iba a BTC, una suba de la riqueza inicial, digamos a 200$, puede alterara cuanto dinero invierto en riesgosos pero independientemente de cual sea ese valor el 20% seguirá yendo a BTC. \n"
   ]
  },
  {
   "cell_type": "markdown",
   "metadata": {},
   "source": [
    "<center> <h1> EJERCICIOS </h1> </center>"
   ]
  },
  {
   "cell_type": "markdown",
   "metadata": {},
   "source": [
    "1. Muestre que si un individuo tiene un coeficiente absoluto de aversión al riesgo constante y debe elegir cuanto invertir en un activo riesgoso, entonces la cantidad invertida en ese activo no cambia con el nivel de riqueza: \n",
    "\n",
    "**SOLUCIÓN**\n",
    "Partimos de la condición de primer orden resuelta en la teoría: \n",
    "\n",
    "$E[U'(\\tilde{w})(r-rf)] = 0$\n",
    "\n",
    "Diferenciamos totalmente asumiendo solución interior de modo que: \n",
    "\n",
    "$E\\left[\\left(r-rf\\right)\\left(u^{\\prime \\prime}(\\tilde{w})\\left(1+rf\\right) d w_0+\\left(r-rf\\right) u^{\\prime \\prime}(\\tilde{w})\\left(r-rf\\right) d w_0\\right]=0\\right.$\n",
    "\n",
    "$\\implies \\dfrac{d a}{d w_0}=E\\left[\\dfrac{(r-r f)\\left(1+ rf) U^{\\prime \\prime}(\\tilde{w}) U^{\\prime}(\\tilde{w})\\right.}{-U^{\\prime}(\\tilde{w})}\\right] \\dfrac{1}{E\\left[(r-rf)^2 U^{\\prime \\prime}(\\tilde{w})\\right]}$\n",
    "\n",
    "$\\dfrac{d a}{d w_0}=E\\left[\\left(r-rf\\right)\\left(1+rf\\right) R^{A}(\\tilde{w}) U^{\\prime}(\\tilde{w})\\right] \\dfrac{1}{E\\left[(r-rf)^2 U^{\\prime \\prime}(\\tilde{w})\\right]}$\n",
    "\n",
    "Usamos la hipotesis de que $R^A$ es una función constante y lo sacamos afuera de la esperanza y nos encontramos con la condición de primer orden\n",
    "\n",
    "$\\dfrac{d a}{d w_0}=\\left(1+rf\\right) R^A E[\\underbrace{\\left.U'(\\tilde{w})\\left(r-rf\\right)\\right]}_{=0 \\text { CPO }} \\dfrac{1}{E\\left[(r-rf)^2 U^{\\prime \\prime}(\\tilde{w})\\right]}$\n",
    "\n",
    "$\\dfrac{d a}{d w_0}=0$\n",
    "\n",
    "Si el coeficiente de aversión absoluta al riesgo es constante la proporción invertida en activos riesgosos es la misma ante cambios en la riqueza en la riqueza inicial. "
   ]
  },
  {
   "cell_type": "markdown",
   "metadata": {},
   "source": [
    "2. Considere un individuo que maximiza su utilidad esperada sujero a que su riqueza inicial puede ser invertida tanto en un activo libre de riesgo, que paga la tasa de interés rf y n activos riesgosos que tienen retorno esperado E[r] (un vector de nx1 retornos esperados). El indiviudo maximiza: $$ E[U(\\hat{W})] \\space \\space \\text{s.a} \\space \\space  \\hat{W}= w_0(1+(1-\\alpha'I)rf+\\alpha'r)$$ Donde $\\alpha_{nx1}$ es un vector que nos dice la proporción de la riqueza invertida en cada activo, $r_{nx1}$ es un vector de retornos, $I_{nx1}$ es un vector de unos y w_0 es la riqueza inicial."
   ]
  },
  {
   "cell_type": "markdown",
   "metadata": {},
   "source": [
    "- Encuentre las condiciones de primer orden que resuelve el problema de optimización: \n",
    "\n",
    "**SOLUCIÓN** \n",
    "\n",
    "Es la primera vez que se usan matrices para describir el problema del individuo inversor por lo que veo prudente dejar la siguiente guia de derivación matricial: \n",
    "\n",
    "![der.png](https://i.imgur.com/JESWwfi.png)\n",
    "\n",
    "La condición de primer orden es entonces: \n",
    "\n",
    "$E[U'(\\hat{W})(w_0(-Irf+r))] = 0$\n",
    "\n",
    "Dado que $w_0$ es constante lo podemos simplificar en: \n",
    "\n",
    "$E[U'(\\hat{W})(r-Irf)] = 0$"
   ]
  },
  {
   "cell_type": "markdown",
   "metadata": {},
   "source": [
    "- Halle una aproximación de los pesos óptimos, $\\frac{\\alpha}{\\alpha'I}$. \n",
    "\n",
    "**SOLUCIÓN** \n",
    "\n",
    "Expandimos $U'(\\hat{W})$ por Taylor de primer orden alrededor de $w_0(1+rf)$ de forma que: \n",
    "\n",
    "$U'(\\hat{W})=U'(w_0(1+rf)) + U''(w_0(1+rf))(\\hat{W}-w_0(1+rf))$\n",
    "\n",
    "Analicemos el ultimo término de la suma derecha: \n",
    "\n",
    "$\\hat{W}-w_0(1+rf) =  w_0(1+(1-\\alpha'I)rf+\\alpha'r) - w_0(1+rf)$ \n",
    "\n",
    "$\\hat{W}-w_0(1+rf) = w_0(q+rf-rf\\alpha'I+\\alpha r)-w_0(1+rf)$\n",
    "\n",
    "$\\hat{W}-w_0(1+rf) = w_0((1+rf)+\\alpha'(r-rf I)) - w_0(1+rf)$\n",
    "\n",
    "$\\hat{W}-w_0(1+rf) = w_0 \\alpha'(r-rfI)$\n",
    "\n",
    "De modo que la expansión de Taylor puede ser escrita como: \n",
    "\n",
    "$U'(\\hat{W})=U'(w_0(1+rf)) + U''(w_0(1+rf))(w_0 \\alpha'(r-rfI))$\n",
    "\n",
    "Multiplicamos ambos lados de la ecuación por el spread de todos los activos riesgosos: \n",
    "\n",
    "$U'(\\hat{W})(r-rfI)=U'(w_0(1+rf))(r-rfI)+ U''(w_0(1+rf))(w_0 \\alpha'(r-rfI)(r-rfI))$\n",
    "\n",
    "Tomamos esperanza matemática: \n",
    "\n",
    "$E[U'(\\hat{W})(r-rfI)]=U'(w_0(1+rf))E[(r-rfI)]+ U''(w_0(1+rf))w_0 E[\\alpha'(r-rfI)(r-rfI)]$\n",
    "\n",
    "Notar ahora que $\\alpha'(r-rfI)$ es un escalar, esto nos dará dos ventajas: la primera es que podemos moverlo dentro de la esperanza sin alterar la ecuación: \n",
    "\n",
    "$E[U'(\\hat{W})(r-rfI)]=U'(w_0(1+rf))E[(r-rfI)]+ U''(w_0(1+rf))w_0 E[(r-rfI)\\alpha'(r-rfI)]$\n",
    "\n",
    "La segunda es que al no ser una matriz, coincide con su transpuesta por lo que es correcto escribirlo de la siguiente manera: \n",
    "\n",
    "$E[U'(\\hat{W})(r-rfI)]=U'(w_0(1+rf))E[(r-rfI)]+ U''(w_0(1+rf))w_0 E[(r-rfI)(r-rfI)'\\alpha]$\n",
    "\n",
    "Entendiendo que $\\alpha$ no es una variable aleatoria y definiendo R como: $R=((r-rfI)(r-rfI)')$ Finalmente podemos escribir la ecuación de forma que: \n",
    "\n",
    "$E[U'(\\hat{W})(r-rfI)]=U'(w_0(1+rf))E[(r-rfI)]+ U''(w_0(1+rf))w_0 E[R]\\alpha$\n",
    "\n",
    "Ahora bien, sabemos que esto tiene que ser igual a cero para que se cumpla la condición de primer orden: \n",
    "\n",
    "$U'(w_0(1+rf))E[(r-rfI)]+ U''(w_0(1+rf))w_0 E[R]\\alpha = 0$\n",
    "\n",
    "$\\implies \\alpha = \\dfrac{-U'(w_0(1+rf))E[R]^{-1}E[(r-rfI)]}{U''(w_0(1+rf))w_0}$\n",
    "\n",
    "$\\implies I'\\alpha = \\dfrac{-U'(w_0(1+rf))I'E[R]^{-1}E[(r-rfI)]}{U''(w_0(1+rf))w_0}$\n",
    "\n",
    "$\\implies \\dfrac{\\alpha}{I'\\alpha} = \\dfrac{E[R]^{-1}E[r-rfI]}{I'E[R]^{-1}E[r-rfI]}$\n",
    "\n",
    "Llegamos entonces a las ponderaciones aproximadas del portafilio. Notar que no dependen de la función de utilidad lo que podría parecer deseable en principio ya que no tendríamos que asumirla, sin embargo, al hacer la aproximación de Taylor de primer grado estamos descartando la derivada tercera en adelante, por lo que en el fondo estamos usando una función cuadrática para llegar a este resultado. \n",
    "\n"
   ]
  },
  {
   "cell_type": "markdown",
   "metadata": {},
   "source": [
    "- Suponga que la función de utilidad es $U(\\hat{W})=(\\hat{W}-B\\hat{W}^2)$ encuentre los pesos óptimos en este caso. \n",
    "\n",
    "**SOLUCIÓN** \n",
    "\n",
    "Como lo dijimos anteriormente, para una función cuadrática la aproximación anterior es exácta. Es decir, el resultado del inciso anterior coincide con al solución cerrada para esta función de utilidad. \n",
    "\n",
    "$\\implies \\dfrac{\\alpha}{I'\\alpha} = \\dfrac{E[R]^{-1}E[r-rfI]}{I'E[R]^{-1}E[r-rfI]}$\n"
   ]
  },
  {
   "cell_type": "markdown",
   "metadata": {},
   "source": [
    "- Asuma ahora que la función de utilidad es $U(\\hat{W}) = \\dfrac{\\hat{W}^{1-\\gamma}}{1-\\gamma}$ ¿Cambian los pesos óptimos? Encuentre la proporción de la riqueza aproximada invertida en cada activo, $\\alpha$. ¿Como cambia con $\\gamma$?\n",
    "\n",
    "**SOLUCIÓN** \n",
    "\n",
    "$U'(x)=x^{-\\gamma}$\n",
    "\n",
    "$U''(x)=\\dfrac{-\\gamma}{x^{\\gamma-1}}$\n",
    "\n",
    "$\\implies \\alpha =  \\dfrac{-U'(w_0(1+rf))}{U''(w_0(1+rf))w_0}E[E]^{-1}E[r-rfI]$\n",
    "\n",
    "$\\implies \\alpha =  \\dfrac{-[w_0(1+rf)]^{-\\gamma}}{\\dfrac{-\\gamma}{(w_0(1+rf))^{\\gamma-1}}}w_0E[E]^{-1}E[r-rfI]$\n",
    "\n",
    "$\\implies \\alpha = \\dfrac{1+rf}{\\gamma}E[R]^{-1}E[r-rfI]$\n",
    "\n",
    "Vemos que a medida que aumento $\\gamma$ (es decir, aumenta la aversión relativa al riesgo) la proporción de la riqueza invertida en activos riesgosos disminuye. La idea es que si el agente es más averso al riesgo, va a elegir poner una cantidad de dinero menor en activos riesgosos. "
   ]
  },
  {
   "cell_type": "markdown",
   "metadata": {},
   "source": [
    "- Suponga que el agente no puede invertir cantidades negativas (ir short) en ningún activo. Explique bajo que condiciones (propiedades de los retornos) el vector de proporciones es igual a cero. La afirmación anterior ¿vale para las proporciones de la riqueza óptimas reales o para las aproximadas? \n",
    "\n",
    "**SOLUCIÓN**\n",
    "\n",
    "Como lo vimos anteriormente, si no se puede ir short el agente elegirá no invertir nada en los activos riesgosos solo si ocurre lo siguiente: \n",
    "\n",
    "$E[r_j] \\leq r_f \\space \\space \\forall j$\n",
    "\n",
    "Como no se usó la aproximación de Taylor en ningún lugar podemos concluir que se trata de un resultado general y exacto y no aproximado. "
   ]
  }
 ],
 "metadata": {
  "kernelspec": {
   "display_name": "R",
   "language": "R",
   "name": "ir"
  },
  "language_info": {
   "name": "R",
   "version": "3.8.10"
  },
  "orig_nbformat": 4,
  "vscode": {
   "interpreter": {
    "hash": "916dbcbb3f70747c44a77c7bcd40155683ae19c65e1c03b4aa3499c5328201f1"
   }
  }
 },
 "nbformat": 4,
 "nbformat_minor": 2
}
