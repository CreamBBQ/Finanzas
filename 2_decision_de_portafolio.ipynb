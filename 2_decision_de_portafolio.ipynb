{
 "cells": [
  {
   "cell_type": "markdown",
   "metadata": {},
   "source": [
    "<center> <h1> DECISIÓN DE PORTAFOLIO </h1> </center>"
   ]
  },
  {
   "cell_type": "markdown",
   "metadata": {},
   "source": [
    "###### (Como en cada cápitulo, se divide el documento en dos partes: en la primera se describe teóricamente el tópico a estudiar y en la segunda se proponen algunos ejercicios con sus respectivas soluciones. Además, para este caso, se agregó un ejemplo númerico con datos de precios para ejemplificar mejor los resultados teóricos)"
   ]
  },
  {
   "cell_type": "markdown",
   "metadata": {},
   "source": [
    "Consideremos un individuo representativo que tiene la posibilidad de inventir en un activo libre de riesgo (pensemos en un bono americano) que paga una tasa de interés rf que le dará una ganancia de $w_0(1+rf)$ o, alternativamente, puede invertir en en un portafolio p con J activos riesgosos de modo que obtendrá $w_0(1+rp)$ cuando la variable aleatoria rp se realice. rp está definido como $rp=\\sum_j\\alpha_jrj$ donde $\\alpha_j$ es la proporción del activo j-ésimo en el portafolio y rj es el retorno del activo j. \n",
    "\n",
    "El individuo típicamente no coloca toda su riqueza en activos riesgosos o en libres de riesgo, más bien podemos pensar que elije poner $w_0-\\sum_j aj$ dinero en el activo libre de riesgo, donde aj es la cantidad de plata en el activo riesgoso j. \n",
    "\n",
    "Resumiendo, esta persona busca resolver el siguiente problema: \n",
    "\n",
    "$\\max_{aj} E[U(\\tilde{w})]$\n",
    "\n",
    "donde \n",
    "\n",
    "$\\tilde{w} = (w_0 - \\sum_j aj)(1+rf)+\\sum_j aj(1+rj)$\n",
    "\n",
    "Aplicando regla de la cadena y diferenciando para algún j se llega a la siguiente condición de primer orden: \n",
    "\n",
    "$E[U'(\\tilde{w})(rj-rf)] \\space \\forall j$\n",
    "\n",
    "Notemos que la probabilidad de que que rj supere a rf tiene que estar necesariamente entre cero y uno (sin incluir), de otra forma no habría manera de que se cumpla la condición de primer orden. Esto tiene varias implicancias importantes. La primera de ellas es que no se puede aceptar una tasa libre de riesgo mayor a la esperanza del retorno del activo j (esto hace sentido ya que habría posibilidad de arbitraje) pero tampoco se admiten diferencias demasiado grandes (y positivas) entre E[rj] y rf, el activo riesgosos no puede estar pagando demasiado. Cuando rf es \"apenas\" menor que rj los valores de $(rj-rf)<0$ tienen menor probabilidad de ocurrur pero están múltiplicados por valores mayores de U'(recordemos que la función de utilidad es creciente y cóncava), y los valores $(rj-rf)>0$ tienen mayor porbabilidad de ocurrir pero están multiplicados por valores menores de U', por lo que en este caso la esperanza sí puede ser igual a cero. "
   ]
  },
  {
   "cell_type": "markdown",
   "metadata": {},
   "source": [
    "#### Teoremas sobre la decisión de inversión \n",
    "\n",
    "Se presentarán 3 teoremas que describirán bajo que conidiciones los agentes invierten toda su riqueza en los activos riesgosos, en los no riesgosos o en ambos (notar que el problema anterior no tiene solución cerrada en ausencia de función de utilidad, esto nos ayudará a ampliar nuestro marco de conocimiento sobre como deciden los agentes sus inversiones). \n"
   ]
  },
  {
   "cell_type": "markdown",
   "metadata": {},
   "source": [
    "##### Teorema 1: \n",
    "Si no se invierte en activos riesgosos entonces \n",
    "\n",
    "$\\forall j \\space \\space rf \\geq E[rj]$\n",
    "\n",
    "La demostración es inmediata, si no se invierte en activos riesgosos entonces aj es nulo para todo j por lo que la condición de primer orden se reduce a \n",
    "\n",
    "$E[U'(w_0 (1+rf))(rj-rf)] \\leq 0 \\space \\forall j$\n",
    "\n",
    "Ya que, o bien el individuo está satisfecho o su utilidad crecería shoorteando activos riesgosos para comprar el activo libre de riesgo. Por otro lado, la utilidad marginal es siempre positiva ante estos valores ciertos, por lo cual no puede ser igual a cero, así que todo se reduce a: \n",
    "\n",
    "$E[rj] \\leq rf$\n",
    "\n",
    "Este primer teorema nos indica que los agentes no invierten en activos riesgosos si el valor esperado de todos los retornos de los activos riesgosos son menores a la tasa libre de riesgo o, en otras palabras, si ninguno de los activos riesgosos tiene un premio estríctamente positivo. Notar que si existiese un activo con un premio positivo no necesariamente la inversión en riesgosos iría a ese, pueden haber más portafolios que maximicen la utilidad. \n",
    "\n"
   ]
  },
  {
   "cell_type": "markdown",
   "metadata": {},
   "source": [
    "##### Teorema 2: \n",
    "Si no se invierte en el activo libre de riesgo entonces \n",
    "\n",
    "$\\forall j \\space E[rj-rf] \\geq R^A(w_0(1ŕf))w_0E[rj-rf]^2$\n",
    "\n",
    "Por simplicidad reducimos la demostración para j =1, por lo que la notación pasa a ser aj = a, rj = r, $\\tilde{w}=w_0(1+r)$ \n",
    "\n",
    "Partiendo de la hipotesis de que el individuo no quiere el activo libre de riesgo o desea hacerle short para comprar más del riesgosos, sus preferencias deben satisfacer: \n",
    "\n",
    "$E[U'(w_0(1+r))(r-rf)] \\geq 0$\n",
    "\n",
    "Expandamos ahora $U'(w_0(1+r))$ por Taylor de primer grado alrededor de $w_0(1+rf)$: \n",
    "\n",
    "$U'(w_0(1+r)) = U'(w_0(1+rf)) + U''(w_0(1+rf))(w_0(1+r)-w_0(1+rf))$\n",
    "\n",
    "$U'(w_0(1+r)) = U'(w_0(1+rf)) + U''(w_0(1+rf))(w_0(r-rf))$\n",
    "\n",
    "Multiplicamos ambos lados de la ecuación por (r-rf) de modo que: \n",
    "\n",
    "$U'(w_0(1+r))(r-rf) = U'(w_0(1+rf))(r-rf) + U''(w_0(1+rf))w(r-rf)^2$\n",
    "\n",
    "Tomamos esperanza matemática sobre la ecuación \n",
    "\n",
    "$E[U'(w_0(1+r))(r-rf)] = U'(w_0(1+rf))E[(r-rf)] + U''(w_0(1+rf))wE[(r-rf)^2]$\n",
    "\n",
    "Y sabemos que por definición esto debe ser mayor a cero por lo que: \n",
    "\n",
    "$U'(w_0(1+rf))E[(r-rf)] + U''(w_0(1+rf))wE[(r-rf)^2]$\n",
    "\n",
    "$\\implies E[(r-rf)] \\geq -\\dfrac{U''(w_0(1+rf))wE[(r-rf)^2]}{U'(w_0(1+rf))}$\n",
    "\n",
    "$\\implies E[(r-rf)] \\geq R^A(w_0(1+rf))w_0E[(r-rf)^2]$\n",
    "\n",
    "Esta última expresión nos dice que si el exceso de retorno es mayor que el producto del coeficiente de aversión relativa al riesgo y la variablidad esperada del retorno del activo riesgosos con respecto a la tasa libre de riesgo (spread), se invierte todo en los activos riesgosos. En términos simples, el spread debe ser lo suficientemente grande para compensar la variabilidad del activo riesgoso y la propia aversión al riesgo del individuo. \n",
    "\n",
    "\n",
    "\n",
    "\n",
    "\n",
    "\n"
   ]
  },
  {
   "cell_type": "markdown",
   "metadata": {},
   "source": [
    "##### Teorema 3: \n",
    "Para que se invierta en ambos activos (riesgoso y no riesgoso) debe cumplirse que \n",
    "\n",
    "$0 \\leq E[rj-rf] \\leq -\\dfrac{U''(w_0(1+rf))w_0E[(rj-rf)^2]}{U'(w_0(1+rf))}$\n",
    "\n",
    "La demostración es inmediata ya que solo es un colorario de las demostraciones anteriores"
   ]
  },
  {
   "cell_type": "markdown",
   "metadata": {},
   "source": [
    "#### Teoremas de Arrow-Pratt\n",
    "Por simplicidad imagineamos que existe un solo activo riesgoso y uno libre de riesgo. Los teoremas que se muestran a continuación nos permitirán entender, a través del coeficiente $R^A$, si el individuo considera al activo riesgoso como un bien normal o inferior.\n",
    "\n",
    "En 1970 Arrow demostró que aversión absoluta decreciente (creciente) al riesgo sobre todo el dominio de $R^A$ implica que el activo riesgoso es un bien normal (inferior)  "
   ]
  },
  {
   "cell_type": "markdown",
   "metadata": {},
   "source": [
    "##### Teorema 4 (Arrow): \n",
    "Si $\\dfrac{d R^A}{dz}<0 \\implies \\dfrac{d a}{w_0} > 0$\n",
    "\n",
    "Si $\\dfrac{d R^A}{dz}>0 \\implies \\dfrac{d a}{w_0}  < 0$\n",
    "\n",
    "Si $\\dfrac{d R^A}{dz}=0 \\implies \\dfrac{d a}{w_0}  = 0$\n",
    "\n",
    "Demostremolo. Dado que el indiivudio elige a para maximizar su utilidad esperada, la condición de primer orden es: \n",
    "\n",
    "$E[U'(w_0(1+rf)+a(r-rf))(r-rf)] = 0$\n",
    "\n",
    "Diferenciamos totalmente (y suavizamos la notación usando $\\tilde{w}$)la expresión de modo que: \n",
    "\n",
    "$E[U''(\\tilde{w})(1+rf)(r-rf)d w_0] + E[U''(\\tilde{w})(r-rf)^2 da] = 0$\n",
    "\n",
    "$\\implies \\dfrac{da}{dw_0}= - \\dfrac{E[U''(\\tilde{w})(1+rf)(r-rf)]}{E[U''(\\tilde{w})(r-rf)^2]}$\n",
    "\n",
    "Para probar el teorema basta con demostrar que si la aversión al riesgo es decreciente, el cociente es positivo. Notemos que el signo se determina solo por el numerador ya que el denominador es la múltiplicación de una función estrictamente negativa ($(U''(.))$) y una no negativa ($(r-rf)^2$). \n",
    "\n",
    "Para analizar el numerador tenemos que considerar dos casos posbiles: r < rf o r  > rf.\n",
    "\n",
    "Consideremos la primera posibilidad. Partiendo de: \n",
    "\n",
    "$\\tilde{w}=w_0(1+rf)+a(r-rf)$\n",
    "\n",
    "Por hipotesis el ultimo término de la izquierda es negativo y el primero siempre es positivo por lo que: \n",
    "\n",
    "$\\tilde{w} < w_0(1+rf)$\n",
    "\n",
    "Además se partió de la hipotesis de que $R^A$ es decreciente en todo su dominimo por lo que debe ser cierto lo siguiente: \n",
    "\n",
    "$R^A(\\tilde{w}) > R^A(w_0(1+rf))$\n",
    "\n",
    "Múltiplicamos ambos lados de la inecuación por $-U'(\\tilde{w})(r-rf)$, un número positivo dadas las hipotesis. \n",
    "\n",
    "$\\implies \\dfrac{-U''(\\tilde{w})(-)U'(\\tilde{w})(r-rf)}{U'(\\tilde{w})} > R^A(w_0(1+rf))(-)U'(\\tilde{w})(r-rf)$\n",
    "\n",
    "$\\implies U''(\\tilde{w})(r-rf) > R^A(w_0(1+rf))(-)U'(\\tilde{w})(r-rf)$\n",
    "\n",
    "Para la segunda posibilidad el procedimiento es análogo. Ahora la hipotesis cambia la desigualdad de modo que \n",
    "\n",
    "$\\tilde{w} >  w_0(1+rf)$\n",
    "\n",
    "Por tanto debe ser cierto que: \n",
    "\n",
    "$R^A(\\tilde{w}) < R^A(w_0(1+rf))$\n",
    "\n",
    "Multiplicando a ambos lador por $-U'(\\tilde{w})(r-rf)$, un número negativo dados los supuestos, se llega a: \n",
    "\n",
    "$\\implies U''(\\tilde{w})(r-rf) > R^A(w_0(1+rf))(-)U'(\\tilde{w})(r-rf)$\n",
    "\n",
    "La misma desigualdad que antes. En cada uno de los casos tomando esperanza condicional al signo del spread se llega al resultado deseado. Como podemos ver, independientemente de la realización de la variable aleatoria, una aversión absoluta al reisgo decreciente implica que la proporción de activos riesgosos comprados es mayor, cosa que hace mucho sentido lógico. \n",
    "\n",
    "\n",
    "\n"
   ]
  },
  {
   "cell_type": "markdown",
   "metadata": {},
   "source": [
    "##### Teorema 5 (Pratt): \n",
    "Si existen dos individuos i y k con $R_i^A(z) \\geq R_k^A(z)$ entonces el individuo i se dice que es más averso al resigo, porque exige una myor prima que el otro individuo. La demostración formal requiere poner a ambos individuos con igual riqueza inicial y mostrar que la prima de riesgo requerida por i para invertir toda su riqueza en un activo riesgoso es mayor que la del individuo k en las mismas condiciones. Esto puede ser engorroso para los objetivos de este resumen pero se puede consultar a través del libro \"Foundations For Financial Economics\" de Huang y Litzenberger.\n",
    "\n",
    "#### Separación monetaria de dos fondos: \n",
    "Hasta ahora hemos demostrado varias proposiciones de estática comparativa bajo el supuesto de la existencia de un solo activo libre de riesgo y un solo activo riesgoso. Ahora bien, extrapolar las proposciciones antedichas para casos en los que existe más de una activo riesgoso, en general, no es válido. Por ejemplo, si cambia la riqueza puede ser que la proporción invertida en un activo riesgosos suba y la inversión en otro baje. Sin embargo, las proposiciones anteriores también serían válidad, aunque existan múltiples activos riesgosos, si el individuo elige mnantener el mismo portafolio de activos riesgosos (las mismas proporciones) y solo cambie las proporciones entre este portafolio y el activo libre de riesgo. Si esto se cumple, el portafolio óptimo del individuo (para diferentes niveles de riqueza) está compuesto por una combinación lineal del activo libre de riesgo y un fondo mutuo de activos riesgosos. Esto se conoce como separación monetaria de dos fondos. Stiglitz y Case (1970) demostraron que una condición necesaria para la separación monetaria de dos fondos se cumpla es que las utilidades marginales sean de la forma: \n",
    "\n",
    "$U'(z) = (A+Bz)^C$\n",
    "\n",
    "o bien \n",
    "\n",
    "$U'(z) = A \\exp{(Bz)}$\n",
    "\n",
    "En resumen, para estas dos familias de funciones de utilidad, un cambio en la riqueza significa: probablemente un cambio en cuanto dinero invierto en riesgosos y no riesgosos pero, y esto es lo relevante, la proporción de riqueza destinada al activo j no cambia. Es decir, si antes con una riqueza de 2$ destinaba 1$ a activos riesgosos y un 20% de ese dinero iba a BTC, una suba de la riqueza inicial, digamos a 200$, puede alterara cuanto dinero invierto en riesgosos pero independientemente de cual sea ese valor el 20% seguirá yendo a BTC. \n"
   ]
  },
  {
   "cell_type": "markdown",
   "metadata": {},
   "source": [
    "<center> <h1> EJERCICIOS </h1> </center>"
   ]
  },
  {
   "cell_type": "markdown",
   "metadata": {},
   "source": [
    "1. Muestre que si un individuo tiene un coeficiente absoluto de aversión al riesgo constante y debe elegir cuanto invertir en un activo riesgoso, entonces la cantidad invertida en ese activo no cambia con el nivel de riqueza: \n",
    "\n",
    "**SOLUCIÓN**\n",
    "Partimos de la condición de primer orden resuelta en la teoría: \n",
    "\n",
    "$E[U'(\\tilde{w})(r-rf)] = 0$\n",
    "\n",
    "Diferenciamos totalmente asumiendo solución interior de modo que: \n",
    "\n",
    "$E\\left[\\left(r-rf\\right)\\left(u^{\\prime \\prime}(\\tilde{w})\\left(1+rf\\right) d w_0+\\left(r-rf\\right) u^{\\prime \\prime}(\\tilde{w})\\left(r-rf\\right) d w_0\\right]=0\\right.$\n",
    "\n",
    "$\\implies \\dfrac{d a}{d w_0}=E\\left[\\dfrac{(r-r f)\\left(1+ rf) U^{\\prime \\prime}(\\tilde{w}) U^{\\prime}(\\tilde{w})\\right.}{-U^{\\prime}(\\tilde{w})}\\right] \\dfrac{1}{E\\left[(r-rf)^2 U^{\\prime \\prime}(\\tilde{w})\\right]}$\n",
    "\n",
    "$\\dfrac{d a}{d w_0}=E\\left[\\left(r-rf\\right)\\left(1+rf\\right) R^{A}(\\tilde{w}) U^{\\prime}(\\tilde{w})\\right] \\dfrac{1}{E\\left[(r-rf)^2 U^{\\prime \\prime}(\\tilde{w})\\right]}$\n",
    "\n",
    "Usamos la hipotesis de que $R^A$ es una función constante y lo sacamos afuera de la esperanza y nos encontramos con la condición de primer orden\n",
    "\n",
    "$\\dfrac{d a}{d w_0}=\\left(1+rf\\right) R^A E[\\underbrace{\\left.U'(\\tilde{w})\\left(r-rf\\right)\\right]}_{=0 \\text { CPO }} \\dfrac{1}{E\\left[(r-rf)^2 U^{\\prime \\prime}(\\tilde{w})\\right]}$\n",
    "\n",
    "$\\dfrac{d a}{d w_0}=0$\n",
    "\n",
    "Si el coeficiente de aversión absoluta al riesgo es constante la proporción invertida en activos riesgosos es la misma ante cambios en la riqueza en la riqueza inicial. "
   ]
  },
  {
   "cell_type": "markdown",
   "metadata": {},
   "source": [
    "2. Considere un individuo que maximiza su utilidad esperada sujero a que su riqueza inicial puede ser invertida tanto en un activo libre de riesgo, que paga la tasa de interés rf y n activos riesgosos que tienen retorno esperado E[r] (un vector de nx1 retornos esperados). El indiviudo maximiza: $$ E[U(\\hat{W})] \\space \\space \\text{s.a} \\space \\space  \\hat{W}= w_0(1+(1-\\alpha'I)rf+\\alpha'r)$$ Donde $\\alpha_{nx1}$ es un vector que nos dice la proporción de la riqueza invertida en cada activo, $r_{nx1}$ es un vector de retornos, $I_{nx1}$ es un vector de unos y w_0 es la riqueza inicial."
   ]
  },
  {
   "cell_type": "markdown",
   "metadata": {},
   "source": [
    "- Encuentre las condiciones de primer orden que resuelve el problema de optimización: \n",
    "\n",
    "**SOLUCIÓN** \n",
    "\n",
    "Es la primera vez que se usan matrices para describir el problema del individuo inversor por lo que veo prudente dejar la siguiente guia de derivación matricial: \n",
    "\n",
    "![der.png](https://i.imgur.com/JESWwfi.png)\n",
    "\n",
    "La condición de primer orden es entonces: \n",
    "\n",
    "$E[U'(\\hat{W})(w_0(-Irf+r))] = 0$\n",
    "\n",
    "Dado que $w_0$ es constante lo podemos simplificar en: \n",
    "\n",
    "$E[U'(\\hat{W})(r-Irf)] = 0$"
   ]
  },
  {
   "cell_type": "markdown",
   "metadata": {},
   "source": [
    "- Halle una aproximación de los pesos óptimos, $\\frac{\\alpha}{\\alpha'I}$. \n",
    "\n",
    "**SOLUCIÓN** \n",
    "\n",
    "Expandimos $U'(\\hat{W})$ por Taylor de primer orden alrededor de $w_0(1+rf)$ de forma que: \n",
    "\n",
    "$U'(\\hat{W})=U'(w_0(1+rf)) + U''(w_0(1+rf))(\\hat{W}-w_0(1+rf))$\n",
    "\n",
    "Analicemos el ultimo término de la suma derecha: \n",
    "\n",
    "$\\hat{W}-w_0(1+rf) =  w_0(1+(1-\\alpha'I)rf+\\alpha'r) - w_0(1+rf)$ \n",
    "\n",
    "$\\hat{W}-w_0(1+rf) = w_0(q+rf-rf\\alpha'I+\\alpha r)-w_0(1+rf)$\n",
    "\n",
    "$\\hat{W}-w_0(1+rf) = w_0((1+rf)+\\alpha'(r-rf I)) - w_0(1+rf)$\n",
    "\n",
    "$\\hat{W}-w_0(1+rf) = w_0 \\alpha'(r-rfI)$\n",
    "\n",
    "De modo que la expansión de Taylor puede ser escrita como: \n",
    "\n",
    "$U'(\\hat{W})=U'(w_0(1+rf)) + U''(w_0(1+rf))(w_0 \\alpha'(r-rfI))$\n",
    "\n",
    "Multiplicamos ambos lados de la ecuación por el spread de todos los activos riesgosos: \n",
    "\n",
    "$U'(\\hat{W})(r-rfI)=U'(w_0(1+rf))(r-rfI)+ U''(w_0(1+rf))(w_0 \\alpha'(r-rfI)(r-rfI))$\n",
    "\n",
    "Tomamos esperanza matemática: \n",
    "\n",
    "$E[U'(\\hat{W})(r-rfI)]=U'(w_0(1+rf))E[(r-rfI)]+ U''(w_0(1+rf))w_0 E[\\alpha'(r-rfI)(r-rfI)]$\n",
    "\n",
    "Notar ahora que $\\alpha'(r-rfI)$ es un escalar, esto nos dará dos ventajas: la primera es que podemos moverlo dentro de la esperanza sin alterar la ecuación: \n",
    "\n",
    "$E[U'(\\hat{W})(r-rfI)]=U'(w_0(1+rf))E[(r-rfI)]+ U''(w_0(1+rf))w_0 E[(r-rfI)\\alpha'(r-rfI)]$\n",
    "\n",
    "La segunda es que al no ser una matriz, coincide con su transpuesta por lo que es correcto escribirlo de la siguiente manera: \n",
    "\n",
    "$E[U'(\\hat{W})(r-rfI)]=U'(w_0(1+rf))E[(r-rfI)]+ U''(w_0(1+rf))w_0 E[(r-rfI)(r-rfI)'\\alpha]$\n",
    "\n",
    "Entendiendo que $\\alpha$ no es una variable aleatoria y definiendo R como: $R=((r-rfI)(r-rfI)')$ Finalmente podemos escribir la ecuación de forma que: \n",
    "\n",
    "$E[U'(\\hat{W})(r-rfI)]=U'(w_0(1+rf))E[(r-rfI)]+ U''(w_0(1+rf))w_0 E[R]\\alpha$\n",
    "\n",
    "Ahora bien, sabemos que esto tiene que ser igual a cero para que se cumpla la condición de primer orden: \n",
    "\n",
    "$U'(w_0(1+rf))E[(r-rfI)]+ U''(w_0(1+rf))w_0 E[R]\\alpha = 0$\n",
    "\n",
    "$\\implies \\alpha = \\dfrac{-U'(w_0(1+rf))E[R]^{-1}E[(r-rfI)]}{U''(w_0(1+rf))w_0}$\n",
    "\n",
    "$\\implies I'\\alpha = \\dfrac{-U'(w_0(1+rf))I'E[R]^{-1}E[(r-rfI)]}{U''(w_0(1+rf))w_0}$\n",
    "\n",
    "$\\implies \\dfrac{\\alpha}{I'\\alpha} = \\dfrac{E[R]^{-1}E[r-rfI]}{I'E[R]^{-1}E[r-rfI]}$\n",
    "\n",
    "Llegamos entonces a las ponderaciones aproximadas del portafilio. Notar que no dependen de la función de utilidad lo que podría parecer deseable en principio ya que no tendríamos que asumirla, sin embargo, al hacer la aproximación de Taylor de primer grado estamos descartando la derivada tercera en adelante, por lo que en el fondo estamos usando una función cuadrática para llegar a este resultado. \n",
    "\n"
   ]
  },
  {
   "cell_type": "markdown",
   "metadata": {},
   "source": [
    "- Suponga que la función de utilidad es $U(\\hat{W})=(\\hat{W}-B\\hat{W}^2)$ encuentre los pesos óptimos en este caso. \n",
    "\n",
    "**SOLUCIÓN** \n",
    "\n",
    "Como lo dijimos anteriormente, para una función cuadrática la aproximación anterior es exácta. Es decir, el resultado del inciso anterior coincide con al solución cerrada para esta función de utilidad. \n",
    "\n",
    "$\\implies \\dfrac{\\alpha}{I'\\alpha} = \\dfrac{E[R]^{-1}E[r-rfI]}{I'E[R]^{-1}E[r-rfI]}$\n"
   ]
  },
  {
   "cell_type": "markdown",
   "metadata": {},
   "source": [
    "- Asuma ahora que la función de utilidad es $U(\\hat{W}) = \\dfrac{\\hat{W}^{1-\\gamma}}{1-\\gamma}$ ¿Cambian los pesos óptimos? Encuentre la proporción de la riqueza aproximada invertida en cada activo, $\\alpha$. ¿Como cambia con $\\gamma$?\n",
    "\n",
    "**SOLUCIÓN** \n",
    "\n",
    "$U'(x)=x^{-\\gamma}$\n",
    "\n",
    "$U''(x)=\\dfrac{-\\gamma}{x^{\\gamma-1}}$\n",
    "\n",
    "$\\implies \\alpha =  \\dfrac{-U'(w_0(1+rf))}{U''(w_0(1+rf))w_0}E[E]^{-1}E[r-rfI]$\n",
    "\n",
    "$\\implies \\alpha =  \\dfrac{-[w_0(1+rf)]^{-\\gamma}}{\\dfrac{-\\gamma}{(w_0(1+rf))^{\\gamma-1}}}w_0E[E]^{-1}E[r-rfI]$\n",
    "\n",
    "$\\implies \\alpha = \\dfrac{1+rf}{\\gamma}E[R]^{-1}E[r-rfI]$\n",
    "\n",
    "Vemos que a medida que aumento $\\gamma$ (es decir, aumenta la aversión relativa al riesgo) la proporción de la riqueza invertida en activos riesgosos disminuye. La idea es que si el agente es más averso al riesgo, va a elegir poner una cantidad de dinero menor en activos riesgosos. "
   ]
  },
  {
   "cell_type": "markdown",
   "metadata": {},
   "source": [
    "- Suponga que el agente no puede invertir cantidades negativas (ir short) en ningún activo. Explique bajo que condiciones (propiedades de los retornos) el vector de proporciones es igual a cero. La afirmación anterior ¿vale para las proporciones de la riqueza óptimas reales o para las aproximadas? \n",
    "\n",
    "**SOLUCIÓN**\n",
    "\n",
    "Como lo vimos anteriormente, si no se puede ir short el agente elegirá no invertir nada en los activos riesgosos solo si ocurre lo siguiente: \n",
    "\n",
    "$E[r_j] \\leq r_f \\space \\space \\forall j$\n",
    "\n",
    "Como no se usó la aproximación de Taylor en ningún lugar podemos concluir que se trata de un resultado general y exacto y no aproximado. "
   ]
  },
  {
   "cell_type": "markdown",
   "metadata": {},
   "source": [
    "<center> <h1> EJEMPLOS CON CÓDIGO (R) </h1> </center>"
   ]
  },
  {
   "cell_type": "markdown",
   "metadata": {},
   "source": [
    "Se utilizarán los datos de precios y retornos que están disponibles en la sección de datos. De esta forma se hará la resolución para las distintas funciones de utilidad."
   ]
  },
  {
   "cell_type": "markdown",
   "metadata": {},
   "source": [
    "#### Función de utilidad cuadrática"
   ]
  },
  {
   "cell_type": "code",
   "execution_count": 4,
   "metadata": {
    "vscode": {
     "languageId": "r"
    }
   },
   "outputs": [
    {
     "data": {
      "text/html": [
       "<table class=\"dataframe\">\n",
       "<caption>A tibble: 6 × 62</caption>\n",
       "<thead>\n",
       "\t<tr><th scope=col>1</th><th scope=col>2</th><th scope=col>3</th><th scope=col>4</th><th scope=col>5</th><th scope=col>6</th><th scope=col>7</th><th scope=col>8</th><th scope=col>9</th><th scope=col>10</th><th scope=col>⋯</th><th scope=col>53</th><th scope=col>54</th><th scope=col>55</th><th scope=col>56</th><th scope=col>57</th><th scope=col>58</th><th scope=col>59</th><th scope=col>60</th><th scope=col>61</th><th scope=col>62</th></tr>\n",
       "\t<tr><th scope=col>&lt;dbl&gt;</th><th scope=col>&lt;dbl&gt;</th><th scope=col>&lt;dbl&gt;</th><th scope=col>&lt;dbl&gt;</th><th scope=col>&lt;dbl&gt;</th><th scope=col>&lt;dbl&gt;</th><th scope=col>&lt;dbl&gt;</th><th scope=col>&lt;dbl&gt;</th><th scope=col>&lt;dbl&gt;</th><th scope=col>&lt;dbl&gt;</th><th scope=col>⋯</th><th scope=col>&lt;dbl&gt;</th><th scope=col>&lt;dbl&gt;</th><th scope=col>&lt;dbl&gt;</th><th scope=col>&lt;dbl&gt;</th><th scope=col>&lt;dbl&gt;</th><th scope=col>&lt;dbl&gt;</th><th scope=col>&lt;dbl&gt;</th><th scope=col>&lt;dbl&gt;</th><th scope=col>&lt;dbl&gt;</th><th scope=col>&lt;dbl&gt;</th></tr>\n",
       "</thead>\n",
       "<tbody>\n",
       "\t<tr><td>55.41241</td><td>2.884418</td><td>14.16918</td><td>28.44947</td><td>7.757676</td><td>38.54662</td><td>40.62</td><td>33.54556</td><td>19.71</td><td>17.06474</td><td>⋯</td><td>27.77696</td><td>118.83</td><td>84.73618</td><td>47.21611</td><td>39.47089</td><td>8.415230</td><td>42.14168</td><td>16.90301</td><td>27.72629</td><td>55.96675</td></tr>\n",
       "\t<tr><td>55.53408</td><td>2.886009</td><td>14.22029</td><td>28.86054</td><td>7.753166</td><td>39.24074</td><td>40.45</td><td>33.66051</td><td>19.47</td><td>16.82461</td><td>⋯</td><td>27.79405</td><td>118.85</td><td>85.77093</td><td>47.46159</td><td>39.70387</td><td>8.447807</td><td>42.30790</td><td>16.94274</td><td>27.61688</td><td>56.32654</td></tr>\n",
       "\t<tr><td>55.59849</td><td>2.891576</td><td>14.34523</td><td>28.79073</td><td>7.748654</td><td>39.62553</td><td>39.63</td><td>33.94788</td><td>19.65</td><td>16.13626</td><td>⋯</td><td>27.68581</td><td>121.61</td><td>84.19604</td><td>47.73513</td><td>39.79122</td><td>8.470805</td><td>42.34748</td><td>16.73683</td><td>27.56539</td><td>56.95015</td></tr>\n",
       "\t<tr><td>55.72019</td><td>2.870895</td><td>14.48460</td><td>28.96137</td><td>7.906517</td><td>40.34984</td><td>39.22</td><td>33.99578</td><td>20.01</td><td>16.60050</td><td>⋯</td><td>27.53200</td><td>120.82</td><td>85.47155</td><td>47.91048</td><td>38.94671</td><td>8.553216</td><td>42.41081</td><td>16.89940</td><td>27.70840</td><td>57.37389</td></tr>\n",
       "\t<tr><td>56.29277</td><td>2.897941</td><td>14.47309</td><td>28.84504</td><td>8.312439</td><td>41.55701</td><td>39.88</td><td>34.86747</td><td>20.18</td><td>16.32836</td><td>⋯</td><td>27.56049</td><td>124.86</td><td>88.12666</td><td>48.17701</td><td>38.61473</td><td>8.616460</td><td>42.15751</td><td>17.01500</td><td>27.93587</td><td>57.74970</td></tr>\n",
       "\t<tr><td>56.80093</td><td>2.897146</td><td>14.50184</td><td>29.45777</td><td>8.154581</td><td>41.98706</td><td>39.96</td><td>34.67588</td><td>18.26</td><td>16.76059</td><td>⋯</td><td>27.74278</td><td>124.61</td><td>88.87505</td><td>48.17701</td><td>39.58737</td><td>8.687362</td><td>42.25250</td><td>17.17756</td><td>27.70189</td><td>57.54183</td></tr>\n",
       "</tbody>\n",
       "</table>\n"
      ],
      "text/latex": [
       "A tibble: 6 × 62\n",
       "\\begin{tabular}{lllllllllllllllllllll}\n",
       " 1 & 2 & 3 & 4 & 5 & 6 & 7 & 8 & 9 & 10 & ⋯ & 53 & 54 & 55 & 56 & 57 & 58 & 59 & 60 & 61 & 62\\\\\n",
       " <dbl> & <dbl> & <dbl> & <dbl> & <dbl> & <dbl> & <dbl> & <dbl> & <dbl> & <dbl> & ⋯ & <dbl> & <dbl> & <dbl> & <dbl> & <dbl> & <dbl> & <dbl> & <dbl> & <dbl> & <dbl>\\\\\n",
       "\\hline\n",
       "\t 55.41241 & 2.884418 & 14.16918 & 28.44947 & 7.757676 & 38.54662 & 40.62 & 33.54556 & 19.71 & 17.06474 & ⋯ & 27.77696 & 118.83 & 84.73618 & 47.21611 & 39.47089 & 8.415230 & 42.14168 & 16.90301 & 27.72629 & 55.96675\\\\\n",
       "\t 55.53408 & 2.886009 & 14.22029 & 28.86054 & 7.753166 & 39.24074 & 40.45 & 33.66051 & 19.47 & 16.82461 & ⋯ & 27.79405 & 118.85 & 85.77093 & 47.46159 & 39.70387 & 8.447807 & 42.30790 & 16.94274 & 27.61688 & 56.32654\\\\\n",
       "\t 55.59849 & 2.891576 & 14.34523 & 28.79073 & 7.748654 & 39.62553 & 39.63 & 33.94788 & 19.65 & 16.13626 & ⋯ & 27.68581 & 121.61 & 84.19604 & 47.73513 & 39.79122 & 8.470805 & 42.34748 & 16.73683 & 27.56539 & 56.95015\\\\\n",
       "\t 55.72019 & 2.870895 & 14.48460 & 28.96137 & 7.906517 & 40.34984 & 39.22 & 33.99578 & 20.01 & 16.60050 & ⋯ & 27.53200 & 120.82 & 85.47155 & 47.91048 & 38.94671 & 8.553216 & 42.41081 & 16.89940 & 27.70840 & 57.37389\\\\\n",
       "\t 56.29277 & 2.897941 & 14.47309 & 28.84504 & 8.312439 & 41.55701 & 39.88 & 34.86747 & 20.18 & 16.32836 & ⋯ & 27.56049 & 124.86 & 88.12666 & 48.17701 & 38.61473 & 8.616460 & 42.15751 & 17.01500 & 27.93587 & 57.74970\\\\\n",
       "\t 56.80093 & 2.897146 & 14.50184 & 29.45777 & 8.154581 & 41.98706 & 39.96 & 34.67588 & 18.26 & 16.76059 & ⋯ & 27.74278 & 124.61 & 88.87505 & 48.17701 & 39.58737 & 8.687362 & 42.25250 & 17.17756 & 27.70189 & 57.54183\\\\\n",
       "\\end{tabular}\n"
      ],
      "text/markdown": [
       "\n",
       "A tibble: 6 × 62\n",
       "\n",
       "| 1 &lt;dbl&gt; | 2 &lt;dbl&gt; | 3 &lt;dbl&gt; | 4 &lt;dbl&gt; | 5 &lt;dbl&gt; | 6 &lt;dbl&gt; | 7 &lt;dbl&gt; | 8 &lt;dbl&gt; | 9 &lt;dbl&gt; | 10 &lt;dbl&gt; | ⋯ ⋯ | 53 &lt;dbl&gt; | 54 &lt;dbl&gt; | 55 &lt;dbl&gt; | 56 &lt;dbl&gt; | 57 &lt;dbl&gt; | 58 &lt;dbl&gt; | 59 &lt;dbl&gt; | 60 &lt;dbl&gt; | 61 &lt;dbl&gt; | 62 &lt;dbl&gt; |\n",
       "|---|---|---|---|---|---|---|---|---|---|---|---|---|---|---|---|---|---|---|---|---|\n",
       "| 55.41241 | 2.884418 | 14.16918 | 28.44947 | 7.757676 | 38.54662 | 40.62 | 33.54556 | 19.71 | 17.06474 | ⋯ | 27.77696 | 118.83 | 84.73618 | 47.21611 | 39.47089 | 8.415230 | 42.14168 | 16.90301 | 27.72629 | 55.96675 |\n",
       "| 55.53408 | 2.886009 | 14.22029 | 28.86054 | 7.753166 | 39.24074 | 40.45 | 33.66051 | 19.47 | 16.82461 | ⋯ | 27.79405 | 118.85 | 85.77093 | 47.46159 | 39.70387 | 8.447807 | 42.30790 | 16.94274 | 27.61688 | 56.32654 |\n",
       "| 55.59849 | 2.891576 | 14.34523 | 28.79073 | 7.748654 | 39.62553 | 39.63 | 33.94788 | 19.65 | 16.13626 | ⋯ | 27.68581 | 121.61 | 84.19604 | 47.73513 | 39.79122 | 8.470805 | 42.34748 | 16.73683 | 27.56539 | 56.95015 |\n",
       "| 55.72019 | 2.870895 | 14.48460 | 28.96137 | 7.906517 | 40.34984 | 39.22 | 33.99578 | 20.01 | 16.60050 | ⋯ | 27.53200 | 120.82 | 85.47155 | 47.91048 | 38.94671 | 8.553216 | 42.41081 | 16.89940 | 27.70840 | 57.37389 |\n",
       "| 56.29277 | 2.897941 | 14.47309 | 28.84504 | 8.312439 | 41.55701 | 39.88 | 34.86747 | 20.18 | 16.32836 | ⋯ | 27.56049 | 124.86 | 88.12666 | 48.17701 | 38.61473 | 8.616460 | 42.15751 | 17.01500 | 27.93587 | 57.74970 |\n",
       "| 56.80093 | 2.897146 | 14.50184 | 29.45777 | 8.154581 | 41.98706 | 39.96 | 34.67588 | 18.26 | 16.76059 | ⋯ | 27.74278 | 124.61 | 88.87505 | 48.17701 | 39.58737 | 8.687362 | 42.25250 | 17.17756 | 27.70189 | 57.54183 |\n",
       "\n"
      ],
      "text/plain": [
       "  1        2        3        4        5        6        7     8        9    \n",
       "1 55.41241 2.884418 14.16918 28.44947 7.757676 38.54662 40.62 33.54556 19.71\n",
       "2 55.53408 2.886009 14.22029 28.86054 7.753166 39.24074 40.45 33.66051 19.47\n",
       "3 55.59849 2.891576 14.34523 28.79073 7.748654 39.62553 39.63 33.94788 19.65\n",
       "4 55.72019 2.870895 14.48460 28.96137 7.906517 40.34984 39.22 33.99578 20.01\n",
       "5 56.29277 2.897941 14.47309 28.84504 8.312439 41.55701 39.88 34.86747 20.18\n",
       "6 56.80093 2.897146 14.50184 29.45777 8.154581 41.98706 39.96 34.67588 18.26\n",
       "  10       ⋯ 53       54     55       56       57       58       59      \n",
       "1 17.06474 ⋯ 27.77696 118.83 84.73618 47.21611 39.47089 8.415230 42.14168\n",
       "2 16.82461 ⋯ 27.79405 118.85 85.77093 47.46159 39.70387 8.447807 42.30790\n",
       "3 16.13626 ⋯ 27.68581 121.61 84.19604 47.73513 39.79122 8.470805 42.34748\n",
       "4 16.60050 ⋯ 27.53200 120.82 85.47155 47.91048 38.94671 8.553216 42.41081\n",
       "5 16.32836 ⋯ 27.56049 124.86 88.12666 48.17701 38.61473 8.616460 42.15751\n",
       "6 16.76059 ⋯ 27.74278 124.61 88.87505 48.17701 39.58737 8.687362 42.25250\n",
       "  60       61       62      \n",
       "1 16.90301 27.72629 55.96675\n",
       "2 16.94274 27.61688 56.32654\n",
       "3 16.73683 27.56539 56.95015\n",
       "4 16.89940 27.70840 57.37389\n",
       "5 17.01500 27.93587 57.74970\n",
       "6 17.17756 27.70189 57.54183"
      ]
     },
     "metadata": {},
     "output_type": "display_data"
    }
   ],
   "source": [
    "rm(list = ls())\n",
    "setwd(\"/home/creambbq/facu/RIF/Datos\")\n",
    "library(tidyverse)\n",
    "library(\"readxl\")\n",
    "prices <- read_excel(path = \"Precios2.xlsx\", \n",
    "sheet = \"Sheet1\", \n",
    "col_names = as.character(seq(1,62)))\n",
    "prices <- prices[1:1000, ]\n",
    "head(prices)"
   ]
  },
  {
   "cell_type": "code",
   "execution_count": 11,
   "metadata": {
    "vscode": {
     "languageId": "r"
    }
   },
   "outputs": [
    {
     "data": {
      "text/html": [
       "<table class=\"dataframe\">\n",
       "<caption>A tibble: 6 × 62</caption>\n",
       "<thead>\n",
       "\t<tr><th scope=col>1</th><th scope=col>2</th><th scope=col>3</th><th scope=col>4</th><th scope=col>5</th><th scope=col>6</th><th scope=col>7</th><th scope=col>8</th><th scope=col>9</th><th scope=col>10</th><th scope=col>⋯</th><th scope=col>53</th><th scope=col>54</th><th scope=col>55</th><th scope=col>56</th><th scope=col>57</th><th scope=col>58</th><th scope=col>59</th><th scope=col>60</th><th scope=col>61</th><th scope=col>62</th></tr>\n",
       "\t<tr><th scope=col>&lt;dbl&gt;</th><th scope=col>&lt;dbl&gt;</th><th scope=col>&lt;dbl&gt;</th><th scope=col>&lt;dbl&gt;</th><th scope=col>&lt;dbl&gt;</th><th scope=col>&lt;dbl&gt;</th><th scope=col>&lt;dbl&gt;</th><th scope=col>&lt;dbl&gt;</th><th scope=col>&lt;dbl&gt;</th><th scope=col>&lt;dbl&gt;</th><th scope=col>⋯</th><th scope=col>&lt;dbl&gt;</th><th scope=col>&lt;dbl&gt;</th><th scope=col>&lt;dbl&gt;</th><th scope=col>&lt;dbl&gt;</th><th scope=col>&lt;dbl&gt;</th><th scope=col>&lt;dbl&gt;</th><th scope=col>&lt;dbl&gt;</th><th scope=col>&lt;dbl&gt;</th><th scope=col>&lt;dbl&gt;</th><th scope=col>&lt;dbl&gt;</th></tr>\n",
       "</thead>\n",
       "<tbody>\n",
       "\t<tr><td>0.002193311</td><td> 0.0005514323</td><td> 0.0036007053</td><td> 0.014345908</td><td>-0.0005815287</td><td> 0.0178472297</td><td>-0.004193863</td><td> 0.003420647</td><td>-0.012251302</td><td>-0.014171237</td><td>⋯</td><td> 0.000614853</td><td> 0.0001682598</td><td> 0.012137402</td><td>0.005185689</td><td> 0.005885100</td><td> 0.003863722</td><td> 0.0039364841</td><td> 0.002347888</td><td>-0.003954025</td><td> 0.006408081</td></tr>\n",
       "\t<tr><td>0.001159246</td><td> 0.0019271034</td><td> 0.0087473859</td><td>-0.002421838</td><td>-0.0005821252</td><td> 0.0097581647</td><td>-0.020480236</td><td> 0.008501038</td><td> 0.009202570</td><td>-0.041774082</td><td>⋯</td><td>-0.003901962</td><td> 0.0229570342</td><td>-0.018532154</td><td>0.005746852</td><td> 0.002197697</td><td> 0.002718664</td><td> 0.0009351326</td><td>-0.012227683</td><td>-0.001866180</td><td> 0.011010514</td></tr>\n",
       "\t<tr><td>0.002186444</td><td>-0.0071778544</td><td> 0.0096685360</td><td> 0.005909447</td><td> 0.0201682052</td><td> 0.0181136714</td><td>-0.010399586</td><td> 0.001410139</td><td> 0.018154810</td><td> 0.028363843</td><td>⋯</td><td>-0.005570862</td><td>-0.0065173765</td><td> 0.015035623</td><td>0.003666581</td><td>-0.021451882</td><td> 0.009681807</td><td> 0.0014942259</td><td> 0.009666259</td><td> 0.005174580</td><td> 0.007413015</td></tr>\n",
       "\t<tr><td>0.010223532</td><td> 0.0093766570</td><td>-0.0007945386</td><td>-0.004025026</td><td> 0.0500657115</td><td> 0.0294788637</td><td> 0.016688124</td><td> 0.025317759</td><td> 0.008459866</td><td>-0.016529222</td><td>⋯</td><td> 0.001034007</td><td> 0.0328912829</td><td> 0.030591560</td><td>0.005547729</td><td>-0.008560621</td><td> 0.007366975</td><td>-0.0059904415</td><td> 0.006817072</td><td> 0.008176125</td><td> 0.006528798</td></tr>\n",
       "\t<tr><td>0.008986715</td><td>-0.0002743703</td><td> 0.0019841298</td><td> 0.021019695</td><td>-0.0191732124</td><td> 0.0102952559</td><td> 0.002003959</td><td>-0.005509930</td><td>-0.099979140</td><td> 0.026126585</td><td>⋯</td><td> 0.006592654</td><td>-0.0020042497</td><td> 0.008456353</td><td>0.000000000</td><td> 0.024876446</td><td> 0.008194998</td><td> 0.0022507768</td><td> 0.009508807</td><td>-0.008411099</td><td>-0.003606062</td></tr>\n",
       "\t<tr><td>0.002516841</td><td>-0.0093795905</td><td> 0.0031670605</td><td>-0.023442837</td><td> 0.0191732124</td><td>-0.0007190275</td><td> 0.002249720</td><td> 0.000000000</td><td>-0.007144906</td><td> 0.007611444</td><td>⋯</td><td>-0.002055799</td><td>-0.0070062940</td><td> 0.021656861</td><td>0.002616827</td><td>-0.011095095</td><td>-0.001323832</td><td> 0.0011233969</td><td> 0.005244074</td><td> 0.004681592</td><td> 0.007888659</td></tr>\n",
       "</tbody>\n",
       "</table>\n"
      ],
      "text/latex": [
       "A tibble: 6 × 62\n",
       "\\begin{tabular}{lllllllllllllllllllll}\n",
       " 1 & 2 & 3 & 4 & 5 & 6 & 7 & 8 & 9 & 10 & ⋯ & 53 & 54 & 55 & 56 & 57 & 58 & 59 & 60 & 61 & 62\\\\\n",
       " <dbl> & <dbl> & <dbl> & <dbl> & <dbl> & <dbl> & <dbl> & <dbl> & <dbl> & <dbl> & ⋯ & <dbl> & <dbl> & <dbl> & <dbl> & <dbl> & <dbl> & <dbl> & <dbl> & <dbl> & <dbl>\\\\\n",
       "\\hline\n",
       "\t 0.002193311 &  0.0005514323 &  0.0036007053 &  0.014345908 & -0.0005815287 &  0.0178472297 & -0.004193863 &  0.003420647 & -0.012251302 & -0.014171237 & ⋯ &  0.000614853 &  0.0001682598 &  0.012137402 & 0.005185689 &  0.005885100 &  0.003863722 &  0.0039364841 &  0.002347888 & -0.003954025 &  0.006408081\\\\\n",
       "\t 0.001159246 &  0.0019271034 &  0.0087473859 & -0.002421838 & -0.0005821252 &  0.0097581647 & -0.020480236 &  0.008501038 &  0.009202570 & -0.041774082 & ⋯ & -0.003901962 &  0.0229570342 & -0.018532154 & 0.005746852 &  0.002197697 &  0.002718664 &  0.0009351326 & -0.012227683 & -0.001866180 &  0.011010514\\\\\n",
       "\t 0.002186444 & -0.0071778544 &  0.0096685360 &  0.005909447 &  0.0201682052 &  0.0181136714 & -0.010399586 &  0.001410139 &  0.018154810 &  0.028363843 & ⋯ & -0.005570862 & -0.0065173765 &  0.015035623 & 0.003666581 & -0.021451882 &  0.009681807 &  0.0014942259 &  0.009666259 &  0.005174580 &  0.007413015\\\\\n",
       "\t 0.010223532 &  0.0093766570 & -0.0007945386 & -0.004025026 &  0.0500657115 &  0.0294788637 &  0.016688124 &  0.025317759 &  0.008459866 & -0.016529222 & ⋯ &  0.001034007 &  0.0328912829 &  0.030591560 & 0.005547729 & -0.008560621 &  0.007366975 & -0.0059904415 &  0.006817072 &  0.008176125 &  0.006528798\\\\\n",
       "\t 0.008986715 & -0.0002743703 &  0.0019841298 &  0.021019695 & -0.0191732124 &  0.0102952559 &  0.002003959 & -0.005509930 & -0.099979140 &  0.026126585 & ⋯ &  0.006592654 & -0.0020042497 &  0.008456353 & 0.000000000 &  0.024876446 &  0.008194998 &  0.0022507768 &  0.009508807 & -0.008411099 & -0.003606062\\\\\n",
       "\t 0.002516841 & -0.0093795905 &  0.0031670605 & -0.023442837 &  0.0191732124 & -0.0007190275 &  0.002249720 &  0.000000000 & -0.007144906 &  0.007611444 & ⋯ & -0.002055799 & -0.0070062940 &  0.021656861 & 0.002616827 & -0.011095095 & -0.001323832 &  0.0011233969 &  0.005244074 &  0.004681592 &  0.007888659\\\\\n",
       "\\end{tabular}\n"
      ],
      "text/markdown": [
       "\n",
       "A tibble: 6 × 62\n",
       "\n",
       "| 1 &lt;dbl&gt; | 2 &lt;dbl&gt; | 3 &lt;dbl&gt; | 4 &lt;dbl&gt; | 5 &lt;dbl&gt; | 6 &lt;dbl&gt; | 7 &lt;dbl&gt; | 8 &lt;dbl&gt; | 9 &lt;dbl&gt; | 10 &lt;dbl&gt; | ⋯ ⋯ | 53 &lt;dbl&gt; | 54 &lt;dbl&gt; | 55 &lt;dbl&gt; | 56 &lt;dbl&gt; | 57 &lt;dbl&gt; | 58 &lt;dbl&gt; | 59 &lt;dbl&gt; | 60 &lt;dbl&gt; | 61 &lt;dbl&gt; | 62 &lt;dbl&gt; |\n",
       "|---|---|---|---|---|---|---|---|---|---|---|---|---|---|---|---|---|---|---|---|---|\n",
       "| 0.002193311 |  0.0005514323 |  0.0036007053 |  0.014345908 | -0.0005815287 |  0.0178472297 | -0.004193863 |  0.003420647 | -0.012251302 | -0.014171237 | ⋯ |  0.000614853 |  0.0001682598 |  0.012137402 | 0.005185689 |  0.005885100 |  0.003863722 |  0.0039364841 |  0.002347888 | -0.003954025 |  0.006408081 |\n",
       "| 0.001159246 |  0.0019271034 |  0.0087473859 | -0.002421838 | -0.0005821252 |  0.0097581647 | -0.020480236 |  0.008501038 |  0.009202570 | -0.041774082 | ⋯ | -0.003901962 |  0.0229570342 | -0.018532154 | 0.005746852 |  0.002197697 |  0.002718664 |  0.0009351326 | -0.012227683 | -0.001866180 |  0.011010514 |\n",
       "| 0.002186444 | -0.0071778544 |  0.0096685360 |  0.005909447 |  0.0201682052 |  0.0181136714 | -0.010399586 |  0.001410139 |  0.018154810 |  0.028363843 | ⋯ | -0.005570862 | -0.0065173765 |  0.015035623 | 0.003666581 | -0.021451882 |  0.009681807 |  0.0014942259 |  0.009666259 |  0.005174580 |  0.007413015 |\n",
       "| 0.010223532 |  0.0093766570 | -0.0007945386 | -0.004025026 |  0.0500657115 |  0.0294788637 |  0.016688124 |  0.025317759 |  0.008459866 | -0.016529222 | ⋯ |  0.001034007 |  0.0328912829 |  0.030591560 | 0.005547729 | -0.008560621 |  0.007366975 | -0.0059904415 |  0.006817072 |  0.008176125 |  0.006528798 |\n",
       "| 0.008986715 | -0.0002743703 |  0.0019841298 |  0.021019695 | -0.0191732124 |  0.0102952559 |  0.002003959 | -0.005509930 | -0.099979140 |  0.026126585 | ⋯ |  0.006592654 | -0.0020042497 |  0.008456353 | 0.000000000 |  0.024876446 |  0.008194998 |  0.0022507768 |  0.009508807 | -0.008411099 | -0.003606062 |\n",
       "| 0.002516841 | -0.0093795905 |  0.0031670605 | -0.023442837 |  0.0191732124 | -0.0007190275 |  0.002249720 |  0.000000000 | -0.007144906 |  0.007611444 | ⋯ | -0.002055799 | -0.0070062940 |  0.021656861 | 0.002616827 | -0.011095095 | -0.001323832 |  0.0011233969 |  0.005244074 |  0.004681592 |  0.007888659 |\n",
       "\n"
      ],
      "text/plain": [
       "  1           2             3             4            5            \n",
       "1 0.002193311  0.0005514323  0.0036007053  0.014345908 -0.0005815287\n",
       "2 0.001159246  0.0019271034  0.0087473859 -0.002421838 -0.0005821252\n",
       "3 0.002186444 -0.0071778544  0.0096685360  0.005909447  0.0201682052\n",
       "4 0.010223532  0.0093766570 -0.0007945386 -0.004025026  0.0500657115\n",
       "5 0.008986715 -0.0002743703  0.0019841298  0.021019695 -0.0191732124\n",
       "6 0.002516841 -0.0093795905  0.0031670605 -0.023442837  0.0191732124\n",
       "  6             7            8            9            10           ⋯\n",
       "1  0.0178472297 -0.004193863  0.003420647 -0.012251302 -0.014171237 ⋯\n",
       "2  0.0097581647 -0.020480236  0.008501038  0.009202570 -0.041774082 ⋯\n",
       "3  0.0181136714 -0.010399586  0.001410139  0.018154810  0.028363843 ⋯\n",
       "4  0.0294788637  0.016688124  0.025317759  0.008459866 -0.016529222 ⋯\n",
       "5  0.0102952559  0.002003959 -0.005509930 -0.099979140  0.026126585 ⋯\n",
       "6 -0.0007190275  0.002249720  0.000000000 -0.007144906  0.007611444 ⋯\n",
       "  53           54            55           56          57           58          \n",
       "1  0.000614853  0.0001682598  0.012137402 0.005185689  0.005885100  0.003863722\n",
       "2 -0.003901962  0.0229570342 -0.018532154 0.005746852  0.002197697  0.002718664\n",
       "3 -0.005570862 -0.0065173765  0.015035623 0.003666581 -0.021451882  0.009681807\n",
       "4  0.001034007  0.0328912829  0.030591560 0.005547729 -0.008560621  0.007366975\n",
       "5  0.006592654 -0.0020042497  0.008456353 0.000000000  0.024876446  0.008194998\n",
       "6 -0.002055799 -0.0070062940  0.021656861 0.002616827 -0.011095095 -0.001323832\n",
       "  59            60           61           62          \n",
       "1  0.0039364841  0.002347888 -0.003954025  0.006408081\n",
       "2  0.0009351326 -0.012227683 -0.001866180  0.011010514\n",
       "3  0.0014942259  0.009666259  0.005174580  0.007413015\n",
       "4 -0.0059904415  0.006817072  0.008176125  0.006528798\n",
       "5  0.0022507768  0.009508807 -0.008411099 -0.003606062\n",
       "6  0.0011233969  0.005244074  0.004681592  0.007888659"
      ]
     },
     "metadata": {},
     "output_type": "display_data"
    }
   ],
   "source": [
    "returns <- prices %>% \n",
    "  mutate_all(function(x) c(NA, diff(log(x)))) \n",
    "returns <- returns[2:nrow(returns), ]\n",
    "head(returns)"
   ]
  },
  {
   "cell_type": "code",
   "execution_count": 49,
   "metadata": {
    "vscode": {
     "languageId": "r"
    }
   },
   "outputs": [],
   "source": [
    "rf <- (1 + 0.02)^(1 / 365) - 1 #Asumjimos tasa libre de riesgo de 0.02\n",
    "B <- 0.23\n",
    "wo <- 2\n",
    "exc <- as.matrix(returns - rf)# Exceso de retorno\n",
    "e <- (colMeans(exc))\n",
    "ER <- cov(exc) + e %*% t(e)\n",
    "a = ((1 - (2*B*wo*(1 + rf))) / (2*B)) * (solve(ER) %*% (e))\n",
    "alpha = ((1-(2*B*wo*(1+rf)))/(2*B*wo))*(solve(ER) %*% (e))\n",
    "pond <- (solve(ER) %*% (e)) %*% (matrix(1,1,62) %*% (solve(ER) %*% (e)))^(-1)"
   ]
  },
  {
   "cell_type": "markdown",
   "metadata": {},
   "source": [
    "Cantidad de dinero invertida en cada uno de los 62 activos riesgosos: "
   ]
  },
  {
   "cell_type": "code",
   "execution_count": 80,
   "metadata": {
    "vscode": {
     "languageId": "r"
    }
   },
   "outputs": [
    {
     "name": "stdout",
     "output_type": "stream",
     "text": [
      "           [,1]\n",
      "1   0.042131420\n",
      "2   0.247230631\n",
      "3   0.086035374\n",
      "4   0.087874370\n",
      "5  -0.125694316\n",
      "6  -0.011236462\n",
      "7  -0.283575566\n",
      "8   0.121180736\n",
      "9  -0.197245183\n",
      "10 -0.052099589\n",
      "11 -0.122034134\n",
      "12  0.399560541\n",
      "13  0.001048023\n",
      "14 -0.011536708\n",
      "15 -0.117502866\n",
      "16  0.113445401\n",
      "17  0.164747797\n",
      "18 -0.120111801\n",
      "19  0.453067933\n",
      "20 -0.009739290\n",
      "21  0.546876288\n",
      "22  0.011485484\n",
      "23  0.131630826\n",
      "24 -0.149860075\n",
      "25 -0.334989944\n",
      "26  0.385131732\n",
      "27  0.255616245\n",
      "28 -0.846775744\n",
      "29 -0.169515864\n",
      "30  0.240369323\n",
      "31 -0.061210956\n",
      "32 -0.154152438\n",
      "33 -0.178908296\n",
      "34  0.053927544\n",
      "35  0.329386920\n",
      "36  0.213337857\n",
      "37 -0.541647718\n",
      "38  0.187750499\n",
      "39  0.047939057\n",
      "40  0.291622478\n",
      "41 -0.127112383\n",
      "42 -0.141161976\n",
      "43  0.477537996\n",
      "44 -0.122641894\n",
      "45  0.563965064\n",
      "46 -0.155004547\n",
      "47 -0.129413431\n",
      "48 -0.147613179\n",
      "49  0.023820890\n",
      "50  0.023400997\n",
      "51 -0.194873541\n",
      "52 -0.061761057\n",
      "53  0.099728392\n",
      "54  0.235579009\n",
      "55  0.140309369\n",
      "56 -0.538700714\n",
      "57 -0.328491597\n",
      "58  0.411911218\n",
      "59 -0.042478545\n",
      "60 -0.022814570\n",
      "61  0.109844971\n",
      "62 -0.089593585\n"
     ]
    }
   ],
   "source": [
    "print(a)"
   ]
  },
  {
   "cell_type": "markdown",
   "metadata": {},
   "source": [
    "Del dinero invertido en activos riesgosos que proporción se invierte en cada uno de ellos: "
   ]
  },
  {
   "cell_type": "code",
   "execution_count": 81,
   "metadata": {
    "vscode": {
     "languageId": "r"
    }
   },
   "outputs": [
    {
     "name": "stdout",
     "output_type": "stream",
     "text": [
      "           [,1]\n",
      "1   0.046400425\n",
      "2   0.272281505\n",
      "3   0.094752989\n",
      "4   0.096778322\n",
      "5  -0.138430410\n",
      "6  -0.012375007\n",
      "7  -0.312309124\n",
      "8   0.133459487\n",
      "9  -0.217231235\n",
      "10 -0.057378628\n",
      "11 -0.134399357\n",
      "12  0.440046384\n",
      "13  0.001154215\n",
      "14 -0.012705675\n",
      "15 -0.129408953\n",
      "16  0.124940361\n",
      "17  0.181441021\n",
      "18 -0.132282241\n",
      "19  0.498975463\n",
      "20 -0.010726132\n",
      "21  0.602289036\n",
      "22  0.012649261\n",
      "23  0.144968442\n",
      "24 -0.165044787\n",
      "25 -0.368933112\n",
      "26  0.424155563\n",
      "27  0.281516799\n",
      "28 -0.932576083\n",
      "29 -0.186692216\n",
      "30  0.264724968\n",
      "31 -0.067413213\n",
      "32 -0.169772077\n",
      "33 -0.197036346\n",
      "34  0.059391803\n",
      "35  0.362762355\n",
      "36  0.234954514\n",
      "37 -0.596530677\n",
      "38  0.206774493\n",
      "39  0.052796527\n",
      "40  0.321171396\n",
      "41 -0.139992164\n",
      "42 -0.155465344\n",
      "43  0.525924978\n",
      "44 -0.135068698\n",
      "45  0.621109349\n",
      "46 -0.170710527\n",
      "47 -0.142526367\n",
      "48 -0.162570222\n",
      "49  0.026234564\n",
      "50  0.025772125\n",
      "51 -0.214619283\n",
      "52 -0.068019053\n",
      "53  0.109833464\n",
      "54  0.259449271\n",
      "55  0.154526347\n",
      "56 -0.593285064\n",
      "57 -0.361776313\n",
      "58  0.453648505\n",
      "59 -0.046782723\n",
      "60 -0.025126278\n",
      "61  0.120975115\n",
      "62 -0.098671739\n"
     ]
    }
   ],
   "source": [
    "print(pond)"
   ]
  },
  {
   "cell_type": "markdown",
   "metadata": {},
   "source": [
    "Notar que la suma de las proporciones debe ser igual a 1 "
   ]
  },
  {
   "cell_type": "code",
   "execution_count": 82,
   "metadata": {
    "vscode": {
     "languageId": "r"
    }
   },
   "outputs": [
    {
     "data": {
      "text/html": [
       "1"
      ],
      "text/latex": [
       "1"
      ],
      "text/markdown": [
       "1"
      ],
      "text/plain": [
       "[1] 1"
      ]
     },
     "metadata": {},
     "output_type": "display_data"
    }
   ],
   "source": [
    "sum(pond)"
   ]
  }
 ],
 "metadata": {
  "kernelspec": {
   "display_name": "R",
   "language": "R",
   "name": "ir"
  },
  "language_info": {
   "codemirror_mode": "r",
   "file_extension": ".r",
   "mimetype": "text/x-r-source",
   "name": "R",
   "pygments_lexer": "r",
   "version": "4.2.1"
  },
  "orig_nbformat": 4,
  "vscode": {
   "interpreter": {
    "hash": "916dbcbb3f70747c44a77c7bcd40155683ae19c65e1c03b4aa3499c5328201f1"
   }
  }
 },
 "nbformat": 4,
 "nbformat_minor": 2
}
