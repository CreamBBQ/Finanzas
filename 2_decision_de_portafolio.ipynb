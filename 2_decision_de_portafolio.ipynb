{
 "cells": [
  {
   "cell_type": "markdown",
   "metadata": {},
   "source": [
    "<center> <h1> DECISIÓN DE PORTAFOLIO </h1> </center>"
   ]
  },
  {
   "cell_type": "markdown",
   "metadata": {},
   "source": [
    "Consideremos un individuo representativo que tiene la posibilidad de inventir en un activo libre de riesgo (pensemos en un bono americano) que paga una tasa de interés rf que le dará una ganancia de $w_0(1+rf)$ o, alternativamente, puede invertir en en un portafolio p con J activos riesgosos de modo que obtendrá $w_0(1+rp)$ cuando la variable aleatoria rp se realice. rp está definido como $rp=\\sum_j\\alpha_jrj$ donde $\\alpha_j$ es la proporción del activo j-ésimo en el portafolio y rj es el retorno del activo j. \n",
    "\n",
    "El individuo típicamente no coloca toda su riqueza en activos riesgosos o en libres de riesgo, más bien podemos pensar que elije poner $w_0-\\sum_j aj$ dinero en el activo libre de riesgo, donde aj es la cantidad de plata en el activo riesgoso j. \n",
    "\n",
    "Resumiendo, esta persona busca resolver el siguiente problema: \n",
    "\n",
    "$\\max_{aj} E[U(\\tilde{w})]$\n",
    "\n",
    "donde \n",
    "\n",
    "$\\tilde{w} = (w_0 - \\sum_j aj)(1+rf)+\\sum_j aj(1+rj)$\n",
    "\n",
    "Aplicando regla de la cadena y diferenciando para algún j se llega a la siguiente condición de primer orden: \n",
    "\n",
    "$E[U'(\\tilde{w})(rj-rf)] \\space \\forall j$\n",
    "\n",
    "Notemos que la probabilidad de que que rj supere a rf tiene que estar necesariamente entre cero y uno (sin incluir), de otra forma no habría manera de que se cumpla la condición de primer orden. Esto tiene varias implicancias importantes. La primera de ellas es que no se puede aceptar una tasa libre de riesgo mayor a la esperanza del retorno del activo j (esto hace sentido ya que habría posibilidad de arbitraje) pero tampoco se admiten diferencias demasiado grandes (y positivas) entre E[rj] y rf, el activo riesgosos no puede estar pagando demasiado. Cuando rf es \"apenas\" menor que rj los valores de $(rj-rf)<0$ tienen menor probabilidad de ocurrur pero están múltiplicados por valores mayores de U'(recordemos que la función de utilidad es creciente y cóncava), y los valores $(rj-rf)>0$ tienen mayor porbabilidad de ocurrir pero están multiplicados por valores menores de U', por lo que en este caso la esperanza sí puede ser igual a cero. "
   ]
  },
  {
   "cell_type": "markdown",
   "metadata": {},
   "source": [
    "#### Teoremas sobre la decisión de inversión \n",
    "\n",
    "Se presentarán 3 teoremas que describirán bajo que conidiciones los agentes invierten toda su riqueza en los activos riesgosos, en los no riesgosos o en ambos (notar que el problema anterior no tiene solución cerrada en ausencia de función de utilidad, esto nos ayudará a ampliar nuestro marco de conocimiento sobre como deciden los agentes sus inversiones). \n"
   ]
  },
  {
   "cell_type": "markdown",
   "metadata": {},
   "source": [
    "##### Teorema 1: \n",
    "Si no se invierte en activos riesgosos entonces \n",
    "\n",
    "$\\forall j \\space \\space rf \\geq E[rj]$\n",
    "\n",
    "La demostración es inmediata, si no se invierte en activos riesgosos entonces aj es nulo para todo j por lo que la condición de primer orden se reduce a \n",
    "\n",
    "$E[U'(w_0 (1+rf))(rj-rf)] \\leq 0 \\space \\forall j$\n",
    "\n",
    "Ya que, o bien el individuo está satisfecho o su utilidad crecería shoorteando activos riesgosos para comprar el activo libre de riesgo. Por otro lado, la utilidad marginal es siempre positiva ante estos valores ciertos, por lo cual no puede ser igual a cero, así que todo se reduce a: \n",
    "\n",
    "$E[rj] \\leq rf$\n",
    "\n",
    "Este primer teorema nos indica que los agentes no invierten en activos riesgosos si el valor esperado de todos los retornos de los activos riesgosos son menores a la tasa libre de riesgo o, en otras palabras, si ninguno de los activos riesgosos tiene un premio estríctamente positivo. Notar que si existiese un activo con un premio positivo no necesariamente la inversión en riesgosos iría a ese, pueden haber más portafolios que maximicen la utilidad. \n",
    "\n"
   ]
  },
  {
   "cell_type": "markdown",
   "metadata": {},
   "source": [
    "#### Teorema 2: \n",
    "Si no se invierte en el activo libre de riesgo entonces \n",
    "\n",
    "$\\forall j \\space E[rj-rf] \\geq R^A(w_0(1ŕf))w_0E[rj-rf]^2$\n",
    "\n",
    "Por simplicidad reducimos la demostración para j =1, por lo que la notación pasa a ser aj = a, rj = r, $\\tilde{w}=w_0(1+r)$ \n",
    "\n",
    "Partiendo de la hipotesis de que el individuo no quiere el activo libre de riesgo o desea hacerle short para comprar más del riesgosos, sus preferencias deben satisfacer: \n",
    "\n",
    "$E[U'(w_0(1+r))(r-rf)] \\geq 0$\n",
    "\n",
    "Expandamos ahora $U'(w_0(1+r))$ por taylor alrededor de (1+rf): \n",
    "\n",
    "\n"
   ]
  }
 ],
 "metadata": {
  "kernelspec": {
   "display_name": "R",
   "language": "R",
   "name": "ir"
  },
  "language_info": {
   "name": "R",
   "version": "3.8.10"
  },
  "orig_nbformat": 4,
  "vscode": {
   "interpreter": {
    "hash": "916dbcbb3f70747c44a77c7bcd40155683ae19c65e1c03b4aa3499c5328201f1"
   }
  }
 },
 "nbformat": 4,
 "nbformat_minor": 2
}
