{
 "cells": [
  {
   "cell_type": "code",
   "execution_count": 36,
   "metadata": {
    "vscode": {
     "languageId": "r"
    }
   },
   "outputs": [],
   "source": [
    "rm(list = ls())\n",
    "setwd(\"/home/creambbq/facu/RIF/TP2\")\n",
    "library(tidyverse); library(readxl); library(ggthemes); library(pracma)\n",
    "\n",
    "returns <- read_xls(path = \"retorn1.xls\",\n",
    "                    sheet = \"Sheet1\",\n",
    "                    col_names = as.character(seq(1, 22)))\n",
    "returns <- as.matrix(returns / 100)\n",
    "r <- as.matrix(colMeans(returns))\n",
    "rf <- (1 + 0.035)^(1 / 365) - 1"
   ]
  },
  {
   "cell_type": "code",
   "execution_count": 24,
   "metadata": {
    "vscode": {
     "languageId": "r"
    }
   },
   "outputs": [],
   "source": []
  },
  {
   "cell_type": "code",
   "execution_count": 47,
   "metadata": {
    "vscode": {
     "languageId": "r"
    }
   },
   "outputs": [],
   "source": [
    "get_CES_alpha <- function(Wo, rf, r, gamma) {\n",
    "    I <- as.matrix(rep(1, ncol(returns)))\n",
    "    x0 <- as.matrix(rep(1/ncol(returns), ncol(returns)))\n",
    "    F <- function(x) {\n",
    "    return((as.numeric(((1 - t(x) %*% I) * Wo * (1 + rf) + Wo * (t(x) %*% (I + r))))^(-gamma))* (r - rf * I))\n",
    "    }\n",
    "    alpha <- matrix(fsolve(F, x0)$x, nrow = ncol(returns), ncol = 1)\n",
    "    alpha <- data.frame(\"Wo_4\" = alpha, row.names = as.character(seq(1, 22)))\n",
    "    return(t(alpha))\n",
    "}"
   ]
  },
  {
   "cell_type": "code",
   "execution_count": 44,
   "metadata": {
    "vscode": {
     "languageId": "r"
    }
   },
   "outputs": [
    {
     "data": {
      "text/html": [
       "<table class=\"dataframe\">\n",
       "<caption>A matrix: 1 × 22 of type dbl</caption>\n",
       "<thead>\n",
       "\t<tr><th></th><th scope=col>1</th><th scope=col>2</th><th scope=col>3</th><th scope=col>4</th><th scope=col>5</th><th scope=col>6</th><th scope=col>7</th><th scope=col>8</th><th scope=col>9</th><th scope=col>10</th><th scope=col>⋯</th><th scope=col>13</th><th scope=col>14</th><th scope=col>15</th><th scope=col>16</th><th scope=col>17</th><th scope=col>18</th><th scope=col>19</th><th scope=col>20</th><th scope=col>21</th><th scope=col>22</th></tr>\n",
       "</thead>\n",
       "<tbody>\n",
       "\t<tr><th scope=row>Wo_4</th><td>-5058.256</td><td>992.8383</td><td>264.6833</td><td>4261.15</td><td>442.7122</td><td>780.7111</td><td>3339.366</td><td>1508.071</td><td>-999.1222</td><td>818.7416</td><td>⋯</td><td>1872.415</td><td>-1198.233</td><td>-145.1471</td><td>-1198.233</td><td>3680.423</td><td>-3227.854</td><td>-640.8099</td><td>591.8263</td><td>3723.647</td><td>-1802.315</td></tr>\n",
       "</tbody>\n",
       "</table>\n"
      ],
      "text/latex": [
       "A matrix: 1 × 22 of type dbl\n",
       "\\begin{tabular}{r|lllllllllllllllllllll}\n",
       "  & 1 & 2 & 3 & 4 & 5 & 6 & 7 & 8 & 9 & 10 & ⋯ & 13 & 14 & 15 & 16 & 17 & 18 & 19 & 20 & 21 & 22\\\\\n",
       "\\hline\n",
       "\tWo\\_4 & -5058.256 & 992.8383 & 264.6833 & 4261.15 & 442.7122 & 780.7111 & 3339.366 & 1508.071 & -999.1222 & 818.7416 & ⋯ & 1872.415 & -1198.233 & -145.1471 & -1198.233 & 3680.423 & -3227.854 & -640.8099 & 591.8263 & 3723.647 & -1802.315\\\\\n",
       "\\end{tabular}\n"
      ],
      "text/markdown": [
       "\n",
       "A matrix: 1 × 22 of type dbl\n",
       "\n",
       "| <!--/--> | 1 | 2 | 3 | 4 | 5 | 6 | 7 | 8 | 9 | 10 | ⋯ | 13 | 14 | 15 | 16 | 17 | 18 | 19 | 20 | 21 | 22 |\n",
       "|---|---|---|---|---|---|---|---|---|---|---|---|---|---|---|---|---|---|---|---|---|---|\n",
       "| Wo_4 | -5058.256 | 992.8383 | 264.6833 | 4261.15 | 442.7122 | 780.7111 | 3339.366 | 1508.071 | -999.1222 | 818.7416 | ⋯ | 1872.415 | -1198.233 | -145.1471 | -1198.233 | 3680.423 | -3227.854 | -640.8099 | 591.8263 | 3723.647 | -1802.315 |\n",
       "\n"
      ],
      "text/plain": [
       "     1         2        3        4       5        6        7        8       \n",
       "Wo_4 -5058.256 992.8383 264.6833 4261.15 442.7122 780.7111 3339.366 1508.071\n",
       "     9         10       ⋯ 13       14        15        16        17      \n",
       "Wo_4 -999.1222 818.7416 ⋯ 1872.415 -1198.233 -145.1471 -1198.233 3680.423\n",
       "     18        19        20       21       22       \n",
       "Wo_4 -3227.854 -640.8099 591.8263 3723.647 -1802.315"
      ]
     },
     "metadata": {},
     "output_type": "display_data"
    }
   ],
   "source": [
    "alpha1 <- get_CES_alpha(Wo = 4, rf, r, gamma = 5)\n",
    "alpha1"
   ]
  },
  {
   "cell_type": "code",
   "execution_count": 48,
   "metadata": {
    "vscode": {
     "languageId": "r"
    }
   },
   "outputs": [
    {
     "data": {
      "text/html": [
       "9516.59376388788"
      ],
      "text/latex": [
       "9516.59376388788"
      ],
      "text/markdown": [
       "9516.59376388788"
      ],
      "text/plain": [
       "[1] 9516.594"
      ]
     },
     "metadata": {},
     "output_type": "display_data"
    },
    {
     "data": {
      "text/html": [
       "477.684428930283"
      ],
      "text/latex": [
       "477.684428930283"
      ],
      "text/markdown": [
       "477.684428930283"
      ],
      "text/plain": [
       "[1] 477.6844"
      ]
     },
     "metadata": {},
     "output_type": "display_data"
    }
   ],
   "source": [
    "alpha2 <- get_CES_alpha(Wo = 1, rf, r, gamma = 5)\n",
    "alpha3 <- get_CES_alpha(Wo = 8, rf, r, gamma = 5)\n",
    "sum(alpha2)\n",
    "sum(alpha3)"
   ]
  }
 ],
 "metadata": {
  "kernelspec": {
   "display_name": "R",
   "language": "R",
   "name": "ir"
  },
  "language_info": {
   "codemirror_mode": "r",
   "file_extension": ".r",
   "mimetype": "text/x-r-source",
   "name": "R",
   "pygments_lexer": "r",
   "version": "4.2.1"
  },
  "orig_nbformat": 4
 },
 "nbformat": 4,
 "nbformat_minor": 2
}
