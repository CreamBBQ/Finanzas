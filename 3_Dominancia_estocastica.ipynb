{
 "cells": [
  {
   "cell_type": "markdown",
   "metadata": {},
   "source": [
    "<center> <h1> DOMINANCIA ESTOCÁSTICA </h1> <center>"
   ]
  },
  {
   "cell_type": "markdown",
   "metadata": {},
   "source": [
    "A continuación vamos a presentar distintos criterios basados en las propiedades estocásticas de los retornos (o de las funciones de probabilidad de los retornos) que le aseguren al individuo que, al elegir un acitov, obtenga mayor utilidad esperada. Es decir, vamos a tratar de  ver que propiedades de los retornos son necesarias y suficientes para poder decir que cierto tipo de individuos (vale decir, ciertas funciones de utilidad) prefieren un activo al otro. Por ejemplo, trataremos de dilucidar que propiedades son necesarias y suficientes para que cualquier individuo que tenga U creciente y sea averso al cresgo prefiera un activo al otro. Los criterios de comprarcion que vamos a analizar se conocen como de dominancia estocástica de primer y segundo orden y están sujeros al nivel del retorno y la dispersión del mismo.\n",
    "\n",
    "##### Notación: \n",
    "Denotamos F y G a las distribuciones acumuladas (funciones de probabilidad) de loas activos riesgosos A y B, cuyos retornos $r_A$ y $r_B$ estarán, por sumplicidad, en el intervalo cerrado [0, 1] donde: \n",
    "\n",
    "$F(V)=P\\left(r_A \\leqslant v\\right)=\\int_0^V f(z) d z$\n",
    "\n",
    "$G(V)=P\\left(r_B \\leqslant v\\right)=\\int_0^v g(z) d z $"
   ]
  },
  {
   "cell_type": "markdown",
   "metadata": {},
   "source": [
    "#### Dominancia estocástica de primer orden \n",
    "Esta dominancia provee una regla para ordenar de modo consistente activos riesgosos, para individuos que prefieren más riqueza a menos. Es decir, para funciones de utilidad crecientes. \n",
    "\n",
    "Se dice que el activo A domina estocásticamente de primer orden al activo B si para todo individuo con U'>0 es cierto que prefiere el activo A antes que el B, es decir, \n",
    "\n",
    "$E_F[U(r_A)] \\geq E_G[U(r_B)]$\n",
    "\n",
    "Y se denota como $A\\underset{\\textsf{FSD}}{\\geq}B$\n",
    "\n",
    "Se puede probar que vale lo siguiente: \n",
    "\n",
    "$A\\underset{\\textsf{FSD}}{\\geq}B \\iff G(v) \\geq F(v)$\n",
    "\n",
    "Graficamente: \n",
    "\n",
    "![fsd.png](https://i.imgur.com/5zYstAZ.png)\n",
    "\n",
    "Notar que F es mejor que G porque G acumula más probabilidad que F para valores bajos de retornos. \n",
    "\n",
    "##### Implicancias: \n",
    "\n",
    "En el contexto de dominancia estocástica de primer orden podremos afirmas que las siguientes afirmaciones son equivalentes, es decir, que si vale alguna de ellas, cualquiera, entonces valen también las restantes. \n",
    "\n",
    "$1) \\space A\\underset{\\textsf{FSD}}{\\geq}B$\n",
    "\n",
    "$2) \\space G(v) \\geq F(v) \\space \\space \\forall v \\space \\text{in } [0,1]$\n",
    "\n",
    "$3) r_A = r_B + \\theta \\space \\space \\text{con } \\theta>0 \\space \\space \\text{variable aleatoria}$\n",
    "\n",
    "Hay que tener que cuidado con la tercera de las implicancias porque podemos sacar conclusiones erroneas. Notar que si tomamos esperanza matemática en la ecuación tenemos que: \n",
    "\n",
    "$E[r_A] = E[r_B] + E[\\theta]$\n",
    "\n",
    "$\\implies E[r_A] \\geq E[r_B]$\n",
    "\n",
    "Pero **no vale la vuelta**, es decir, si un activo A tiene mayor retorno a uno B no necesariamente existe domiancia estocástica de primer orden. "
   ]
  },
  {
   "cell_type": "markdown",
   "metadata": {},
   "source": [
    "#### Dominancia estocástica de segundo orden: \n",
    "\n",
    "Esta dominancia ranquea los activos para todos los individuos que i) son aversos al riesgo (u''<0). El criterio de dominancia estocástica de segundo orden está preponderadamente relacionado a la dispersión de los retornos. \n",
    "\n",
    "Se dice que A domina estocásticamente de segundo orden a B y se denota como $A\\underset{\\textsf{SSD}}{\\geq}B$ si para todo individuo con $U''<0$ es cierto que prefiere el activo A al B, es decir, vale\n",
    "\n",
    "$E_F[U(r_A)] \\geq E_G[U(r_B)]$\n",
    "\n",
    "Se puede probar que: \n",
    "\n",
    "$A\\underset{\\textsf{SSD}}{\\geq}B \\iff \\int_0^v [G(z) - F(z)] d z \\geq 0 \\space \\space \\space \\space \\text{y} \\space \\space \\space \\space E[r_A]=E[r_B]$\n",
    "\n",
    "![ssd.png](https://i.imgur.com/LyTJGST.png)\n",
    "\n",
    "De la misma forma que sucedió con FSD aquí también citaremos tres condiciones que son equivalentes y cuya demostración no realizaremos: \n",
    "\n",
    "$1) \\space A\\underset{\\textsf{SSD}}{\\geq}B$\n",
    "\n",
    "$2) \\space \\int_0^v [G(z) - F(z)] d z \\geq 0 \\space \\space \\forall v \\space \\space \\text{in} \\space \\space [0, 1] \\space \\space \\space \\space \\text{y} \\space \\space \\space \\space E[r_A]=E[r_B]$\n",
    "\n",
    "$3) \\space r_b = r_a + \\epsilon \\space \\space \\space \\text{con} \\space \\space \\space E[\\epsilon | r_a] = 0$\n",
    "\n",
    "La tercera condición se conocde como que B es un mean preserving spread de A, es decir, el retorno del activo B es igual al retorno del activo A más una variable aleatoria ortogonal del retorno de A. Notar que $r_B$ y $r_A$ tienen igual media, pero el retorno del activo del activo B tiene mayor varianza y por lo tanto el activo es más riesgoso $V[r_b]\\geq V[r_A]$ pero **no es cierto** que mayor varianza implique dominancia estocástica de segundo orden. "
   ]
  },
  {
   "cell_type": "markdown",
   "metadata": {},
   "source": [
    "#### Dominancia estocástica de segundo orden monotónica \n",
    "\n",
    "Se dice que A domina estocásticamente de segundo orden en forma monotónica a B, con la notación $A\\underset{\\textsf{SSDM}}{\\geq}B$ si para individuo con $U'>0$ y $U''\\leq 0$ es cierto que prefiere el activo A al activo B, es decir, \n",
    "\n",
    "$E_F[U(r_A)] \\geq E_G[U(r_B)]$\n",
    "\n",
    "Se puede demostrar que lo siguiente es cierto: \n",
    "\n",
    "$A\\underset{\\textsf{SSDM}}{\\geq}B \\iff \\int_0^v [G(z) - F(z)] d z \\geq 0 \\space \\space \\space \\space \\text{y} \\space \\space \\space \\space E[r_A]\\geq E[r_B]$\n",
    "\n",
    "De la misma forma que sucedia antes aquí también citaremos tres condiciones que son equivalentes y cuya demostración pasaremos por alto: \n",
    "\n",
    "$1) \\space A\\underset{\\textsf{SSDM}}{\\geq}B$\n",
    "\n",
    "$2) \\space \\int_0^v [G(z) - F(z)] d z \\geq 0 \\space \\space \\forall v \\space \\space \\text{in} \\space \\space [0, 1] \\space \\space \\space \\space \\text{y} \\space \\space \\space \\space E[r_A]\\geq E[r_B]$\n",
    "\n",
    "$3) \\space r_b = r_a + \\epsilon \\space \\space \\space \\text{con} \\space \\space \\space E[\\epsilon | r_a] = 0$\n",
    "\n",
    "Notemos que esta última dominancia abarca un conjunto de personas que nos interesa estudiar muy de cerca: individuos que prefieren más a menos riqueza pero son aversos al riesgo o neutrales al riesgo. \n"
   ]
  }
 ],
 "metadata": {
  "kernelspec": {
   "display_name": "Python 3.8.10 64-bit",
   "language": "python",
   "name": "python3"
  },
  "language_info": {
   "name": "python",
   "version": "3.8.10"
  },
  "orig_nbformat": 4,
  "vscode": {
   "interpreter": {
    "hash": "916dbcbb3f70747c44a77c7bcd40155683ae19c65e1c03b4aa3499c5328201f1"
   }
  }
 },
 "nbformat": 4,
 "nbformat_minor": 2
}
